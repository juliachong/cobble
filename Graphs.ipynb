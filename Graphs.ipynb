{
 "cells": [
  {
   "cell_type": "code",
   "execution_count": 43,
   "metadata": {},
   "outputs": [],
   "source": [
    "import pandas as pd\n",
    "rest_count = pd.read_csv('rest_count.csv')\n",
    "rest_count1 = pd.read_csv('rest_count1.csv')\n",
    "cuisine_prices = pd.read_csv('cuisine_prices.csv')\n",
    "cuisine_count = pd.read_csv('cuisine_count.csv')\n",
    "tops = pd.read_csv('tops.csv')\n",
    "nc_pivot2 = pd.read_csv('nc.csv')"
   ]
  },
  {
   "cell_type": "code",
   "execution_count": 29,
   "metadata": {},
   "outputs": [
    {
     "data": {
      "application/vnd.plotly.v1+json": {
       "config": {
        "plotlyServerURL": "https://plot.ly"
       },
       "data": [
        {
         "name": "restaurant_bar",
         "type": "bar",
         "x": [
          "battery-park-city",
          "industry-city",
          "bowery",
          "brooklyn",
          "civic-center",
          "staten-island",
          "hudson-yards",
          "borough-park",
          "lenox-hill",
          "lincoln-square",
          "central-park",
          "theater-district",
          "sunnyside",
          "sheepshead-bay",
          "dyker-heights",
          "inwood",
          "coney-island",
          "ditmas-park",
          "koreatown",
          "flushing",
          "east-harlem",
          "columbus-circle",
          "downtown-brooklyn",
          "home",
          "queens",
          "sunset-park",
          "washington-heights",
          "red-hook",
          "hamilton-heights",
          "morningside-heights",
          "windsor-terrace",
          "union-square",
          "midtown",
          "prospect-lefferts-gardens",
          "bay-ridge",
          "flatbush",
          "dumbo",
          "carroll-gardens",
          "brooklyn-heights",
          "bronx",
          "little-italy",
          "bed-stuy",
          "kips-bay",
          "ridgewood",
          "nomad",
          "cobble-hill",
          "gowanus",
          "meatpacking-district",
          "fort-greene",
          "boerum-hill",
          "clinton-hill",
          "murray-hill",
          "prospect-heights",
          "noho",
          "gramercy-park",
          "nolita",
          "tribeca",
          "crown-heights",
          "long-island-city",
          "midtown-east",
          "chinatown",
          "hell-s-kitchen",
          "financial-district",
          "park-slope",
          "harlem",
          "chelsea",
          "flatiron-district",
          "astoria",
          "soho",
          "west-village",
          "bushwick",
          "greenpoint",
          "upper-east-side",
          "upper-west-side",
          "midtown-west",
          "greenwich-village",
          "lower-east-side",
          "williamsburg",
          "east-village"
         ],
         "y": [
          0,
          0,
          0,
          0,
          0,
          0,
          1,
          0,
          0,
          0,
          1,
          0,
          0,
          0,
          0,
          0,
          0,
          1,
          0,
          0,
          1,
          0,
          2,
          0,
          0,
          1,
          5,
          3,
          3,
          2,
          1,
          1,
          1,
          3,
          1,
          2,
          2,
          1,
          2,
          2,
          0,
          5,
          3,
          8,
          3,
          4,
          2,
          5,
          4,
          4,
          3,
          2,
          4,
          2,
          7,
          5,
          8,
          7,
          8,
          4,
          3,
          8,
          12,
          6,
          8,
          11,
          9,
          11,
          11,
          17,
          10,
          11,
          19,
          22,
          13,
          14,
          19,
          30,
          33
         ]
        },
        {
         "name": "restaurant",
         "type": "bar",
         "x": [
          "battery-park-city",
          "industry-city",
          "bowery",
          "brooklyn",
          "civic-center",
          "staten-island",
          "hudson-yards",
          "borough-park",
          "lenox-hill",
          "lincoln-square",
          "central-park",
          "theater-district",
          "sunnyside",
          "sheepshead-bay",
          "dyker-heights",
          "inwood",
          "coney-island",
          "ditmas-park",
          "koreatown",
          "flushing",
          "east-harlem",
          "columbus-circle",
          "downtown-brooklyn",
          "home",
          "queens",
          "sunset-park",
          "washington-heights",
          "red-hook",
          "hamilton-heights",
          "morningside-heights",
          "windsor-terrace",
          "union-square",
          "midtown",
          "prospect-lefferts-gardens",
          "bay-ridge",
          "flatbush",
          "dumbo",
          "carroll-gardens",
          "brooklyn-heights",
          "bronx",
          "little-italy",
          "bed-stuy",
          "kips-bay",
          "ridgewood",
          "nomad",
          "cobble-hill",
          "gowanus",
          "meatpacking-district",
          "fort-greene",
          "boerum-hill",
          "clinton-hill",
          "murray-hill",
          "prospect-heights",
          "noho",
          "gramercy-park",
          "nolita",
          "tribeca",
          "crown-heights",
          "long-island-city",
          "midtown-east",
          "chinatown",
          "hell-s-kitchen",
          "financial-district",
          "park-slope",
          "harlem",
          "chelsea",
          "flatiron-district",
          "astoria",
          "soho",
          "west-village",
          "bushwick",
          "greenpoint",
          "upper-east-side",
          "upper-west-side",
          "midtown-west",
          "greenwich-village",
          "lower-east-side",
          "williamsburg",
          "east-village"
         ],
         "y": [
          0,
          0,
          0,
          0,
          0,
          1,
          0,
          1,
          1,
          0,
          0,
          2,
          1,
          2,
          2,
          1,
          2,
          1,
          3,
          4,
          1,
          2,
          2,
          0,
          6,
          5,
          1,
          4,
          4,
          5,
          4,
          6,
          7,
          5,
          8,
          6,
          7,
          7,
          8,
          6,
          13,
          3,
          8,
          2,
          9,
          5,
          8,
          8,
          10,
          8,
          11,
          11,
          6,
          10,
          11,
          17,
          11,
          10,
          11,
          15,
          22,
          15,
          13,
          20,
          23,
          22,
          27,
          23,
          26,
          19,
          17,
          23,
          27,
          22,
          31,
          38,
          46,
          56,
          70
         ]
        },
        {
         "name": "bar",
         "type": "bar",
         "x": [
          "battery-park-city",
          "industry-city",
          "bowery",
          "brooklyn",
          "civic-center",
          "staten-island",
          "hudson-yards",
          "borough-park",
          "lenox-hill",
          "lincoln-square",
          "central-park",
          "theater-district",
          "sunnyside",
          "sheepshead-bay",
          "dyker-heights",
          "inwood",
          "coney-island",
          "ditmas-park",
          "koreatown",
          "flushing",
          "east-harlem",
          "columbus-circle",
          "downtown-brooklyn",
          "home",
          "queens",
          "sunset-park",
          "washington-heights",
          "red-hook",
          "hamilton-heights",
          "morningside-heights",
          "windsor-terrace",
          "union-square",
          "midtown",
          "prospect-lefferts-gardens",
          "bay-ridge",
          "flatbush",
          "dumbo",
          "carroll-gardens",
          "brooklyn-heights",
          "bronx",
          "little-italy",
          "bed-stuy",
          "kips-bay",
          "ridgewood",
          "nomad",
          "cobble-hill",
          "gowanus",
          "meatpacking-district",
          "fort-greene",
          "boerum-hill",
          "clinton-hill",
          "murray-hill",
          "prospect-heights",
          "noho",
          "gramercy-park",
          "nolita",
          "tribeca",
          "crown-heights",
          "long-island-city",
          "midtown-east",
          "chinatown",
          "hell-s-kitchen",
          "financial-district",
          "park-slope",
          "harlem",
          "chelsea",
          "flatiron-district",
          "astoria",
          "soho",
          "west-village",
          "bushwick",
          "greenpoint",
          "upper-east-side",
          "upper-west-side",
          "midtown-west",
          "greenwich-village",
          "lower-east-side",
          "williamsburg",
          "east-village"
         ],
         "y": [
          0,
          0,
          0,
          0,
          0,
          0,
          0,
          0,
          0,
          1,
          0,
          0,
          1,
          0,
          0,
          1,
          1,
          1,
          1,
          0,
          2,
          2,
          0,
          5,
          1,
          1,
          1,
          1,
          1,
          1,
          3,
          2,
          2,
          2,
          1,
          2,
          2,
          3,
          1,
          3,
          1,
          6,
          4,
          5,
          4,
          7,
          7,
          5,
          4,
          6,
          5,
          6,
          9,
          8,
          5,
          2,
          7,
          11,
          9,
          10,
          6,
          9,
          8,
          12,
          9,
          11,
          9,
          12,
          11,
          13,
          24,
          21,
          11,
          18,
          20,
          14,
          18,
          34,
          33
         ]
        }
       ],
       "layout": {
        "barmode": "stack",
        "font": {
         "size": 10
        },
        "template": {
         "data": {
          "bar": [
           {
            "error_x": {
             "color": "#2a3f5f"
            },
            "error_y": {
             "color": "#2a3f5f"
            },
            "marker": {
             "line": {
              "color": "#E5ECF6",
              "width": 0.5
             }
            },
            "type": "bar"
           }
          ],
          "barpolar": [
           {
            "marker": {
             "line": {
              "color": "#E5ECF6",
              "width": 0.5
             }
            },
            "type": "barpolar"
           }
          ],
          "carpet": [
           {
            "aaxis": {
             "endlinecolor": "#2a3f5f",
             "gridcolor": "white",
             "linecolor": "white",
             "minorgridcolor": "white",
             "startlinecolor": "#2a3f5f"
            },
            "baxis": {
             "endlinecolor": "#2a3f5f",
             "gridcolor": "white",
             "linecolor": "white",
             "minorgridcolor": "white",
             "startlinecolor": "#2a3f5f"
            },
            "type": "carpet"
           }
          ],
          "choropleth": [
           {
            "colorbar": {
             "outlinewidth": 0,
             "ticks": ""
            },
            "type": "choropleth"
           }
          ],
          "contour": [
           {
            "colorbar": {
             "outlinewidth": 0,
             "ticks": ""
            },
            "colorscale": [
             [
              0,
              "#0d0887"
             ],
             [
              0.1111111111111111,
              "#46039f"
             ],
             [
              0.2222222222222222,
              "#7201a8"
             ],
             [
              0.3333333333333333,
              "#9c179e"
             ],
             [
              0.4444444444444444,
              "#bd3786"
             ],
             [
              0.5555555555555556,
              "#d8576b"
             ],
             [
              0.6666666666666666,
              "#ed7953"
             ],
             [
              0.7777777777777778,
              "#fb9f3a"
             ],
             [
              0.8888888888888888,
              "#fdca26"
             ],
             [
              1,
              "#f0f921"
             ]
            ],
            "type": "contour"
           }
          ],
          "contourcarpet": [
           {
            "colorbar": {
             "outlinewidth": 0,
             "ticks": ""
            },
            "type": "contourcarpet"
           }
          ],
          "heatmap": [
           {
            "colorbar": {
             "outlinewidth": 0,
             "ticks": ""
            },
            "colorscale": [
             [
              0,
              "#0d0887"
             ],
             [
              0.1111111111111111,
              "#46039f"
             ],
             [
              0.2222222222222222,
              "#7201a8"
             ],
             [
              0.3333333333333333,
              "#9c179e"
             ],
             [
              0.4444444444444444,
              "#bd3786"
             ],
             [
              0.5555555555555556,
              "#d8576b"
             ],
             [
              0.6666666666666666,
              "#ed7953"
             ],
             [
              0.7777777777777778,
              "#fb9f3a"
             ],
             [
              0.8888888888888888,
              "#fdca26"
             ],
             [
              1,
              "#f0f921"
             ]
            ],
            "type": "heatmap"
           }
          ],
          "heatmapgl": [
           {
            "colorbar": {
             "outlinewidth": 0,
             "ticks": ""
            },
            "colorscale": [
             [
              0,
              "#0d0887"
             ],
             [
              0.1111111111111111,
              "#46039f"
             ],
             [
              0.2222222222222222,
              "#7201a8"
             ],
             [
              0.3333333333333333,
              "#9c179e"
             ],
             [
              0.4444444444444444,
              "#bd3786"
             ],
             [
              0.5555555555555556,
              "#d8576b"
             ],
             [
              0.6666666666666666,
              "#ed7953"
             ],
             [
              0.7777777777777778,
              "#fb9f3a"
             ],
             [
              0.8888888888888888,
              "#fdca26"
             ],
             [
              1,
              "#f0f921"
             ]
            ],
            "type": "heatmapgl"
           }
          ],
          "histogram": [
           {
            "marker": {
             "colorbar": {
              "outlinewidth": 0,
              "ticks": ""
             }
            },
            "type": "histogram"
           }
          ],
          "histogram2d": [
           {
            "colorbar": {
             "outlinewidth": 0,
             "ticks": ""
            },
            "colorscale": [
             [
              0,
              "#0d0887"
             ],
             [
              0.1111111111111111,
              "#46039f"
             ],
             [
              0.2222222222222222,
              "#7201a8"
             ],
             [
              0.3333333333333333,
              "#9c179e"
             ],
             [
              0.4444444444444444,
              "#bd3786"
             ],
             [
              0.5555555555555556,
              "#d8576b"
             ],
             [
              0.6666666666666666,
              "#ed7953"
             ],
             [
              0.7777777777777778,
              "#fb9f3a"
             ],
             [
              0.8888888888888888,
              "#fdca26"
             ],
             [
              1,
              "#f0f921"
             ]
            ],
            "type": "histogram2d"
           }
          ],
          "histogram2dcontour": [
           {
            "colorbar": {
             "outlinewidth": 0,
             "ticks": ""
            },
            "colorscale": [
             [
              0,
              "#0d0887"
             ],
             [
              0.1111111111111111,
              "#46039f"
             ],
             [
              0.2222222222222222,
              "#7201a8"
             ],
             [
              0.3333333333333333,
              "#9c179e"
             ],
             [
              0.4444444444444444,
              "#bd3786"
             ],
             [
              0.5555555555555556,
              "#d8576b"
             ],
             [
              0.6666666666666666,
              "#ed7953"
             ],
             [
              0.7777777777777778,
              "#fb9f3a"
             ],
             [
              0.8888888888888888,
              "#fdca26"
             ],
             [
              1,
              "#f0f921"
             ]
            ],
            "type": "histogram2dcontour"
           }
          ],
          "mesh3d": [
           {
            "colorbar": {
             "outlinewidth": 0,
             "ticks": ""
            },
            "type": "mesh3d"
           }
          ],
          "parcoords": [
           {
            "line": {
             "colorbar": {
              "outlinewidth": 0,
              "ticks": ""
             }
            },
            "type": "parcoords"
           }
          ],
          "pie": [
           {
            "automargin": true,
            "type": "pie"
           }
          ],
          "scatter": [
           {
            "marker": {
             "colorbar": {
              "outlinewidth": 0,
              "ticks": ""
             }
            },
            "type": "scatter"
           }
          ],
          "scatter3d": [
           {
            "line": {
             "colorbar": {
              "outlinewidth": 0,
              "ticks": ""
             }
            },
            "marker": {
             "colorbar": {
              "outlinewidth": 0,
              "ticks": ""
             }
            },
            "type": "scatter3d"
           }
          ],
          "scattercarpet": [
           {
            "marker": {
             "colorbar": {
              "outlinewidth": 0,
              "ticks": ""
             }
            },
            "type": "scattercarpet"
           }
          ],
          "scattergeo": [
           {
            "marker": {
             "colorbar": {
              "outlinewidth": 0,
              "ticks": ""
             }
            },
            "type": "scattergeo"
           }
          ],
          "scattergl": [
           {
            "marker": {
             "colorbar": {
              "outlinewidth": 0,
              "ticks": ""
             }
            },
            "type": "scattergl"
           }
          ],
          "scattermapbox": [
           {
            "marker": {
             "colorbar": {
              "outlinewidth": 0,
              "ticks": ""
             }
            },
            "type": "scattermapbox"
           }
          ],
          "scatterpolar": [
           {
            "marker": {
             "colorbar": {
              "outlinewidth": 0,
              "ticks": ""
             }
            },
            "type": "scatterpolar"
           }
          ],
          "scatterpolargl": [
           {
            "marker": {
             "colorbar": {
              "outlinewidth": 0,
              "ticks": ""
             }
            },
            "type": "scatterpolargl"
           }
          ],
          "scatterternary": [
           {
            "marker": {
             "colorbar": {
              "outlinewidth": 0,
              "ticks": ""
             }
            },
            "type": "scatterternary"
           }
          ],
          "surface": [
           {
            "colorbar": {
             "outlinewidth": 0,
             "ticks": ""
            },
            "colorscale": [
             [
              0,
              "#0d0887"
             ],
             [
              0.1111111111111111,
              "#46039f"
             ],
             [
              0.2222222222222222,
              "#7201a8"
             ],
             [
              0.3333333333333333,
              "#9c179e"
             ],
             [
              0.4444444444444444,
              "#bd3786"
             ],
             [
              0.5555555555555556,
              "#d8576b"
             ],
             [
              0.6666666666666666,
              "#ed7953"
             ],
             [
              0.7777777777777778,
              "#fb9f3a"
             ],
             [
              0.8888888888888888,
              "#fdca26"
             ],
             [
              1,
              "#f0f921"
             ]
            ],
            "type": "surface"
           }
          ],
          "table": [
           {
            "cells": {
             "fill": {
              "color": "#EBF0F8"
             },
             "line": {
              "color": "white"
             }
            },
            "header": {
             "fill": {
              "color": "#C8D4E3"
             },
             "line": {
              "color": "white"
             }
            },
            "type": "table"
           }
          ]
         },
         "layout": {
          "annotationdefaults": {
           "arrowcolor": "#2a3f5f",
           "arrowhead": 0,
           "arrowwidth": 1
          },
          "coloraxis": {
           "colorbar": {
            "outlinewidth": 0,
            "ticks": ""
           }
          },
          "colorscale": {
           "diverging": [
            [
             0,
             "#8e0152"
            ],
            [
             0.1,
             "#c51b7d"
            ],
            [
             0.2,
             "#de77ae"
            ],
            [
             0.3,
             "#f1b6da"
            ],
            [
             0.4,
             "#fde0ef"
            ],
            [
             0.5,
             "#f7f7f7"
            ],
            [
             0.6,
             "#e6f5d0"
            ],
            [
             0.7,
             "#b8e186"
            ],
            [
             0.8,
             "#7fbc41"
            ],
            [
             0.9,
             "#4d9221"
            ],
            [
             1,
             "#276419"
            ]
           ],
           "sequential": [
            [
             0,
             "#0d0887"
            ],
            [
             0.1111111111111111,
             "#46039f"
            ],
            [
             0.2222222222222222,
             "#7201a8"
            ],
            [
             0.3333333333333333,
             "#9c179e"
            ],
            [
             0.4444444444444444,
             "#bd3786"
            ],
            [
             0.5555555555555556,
             "#d8576b"
            ],
            [
             0.6666666666666666,
             "#ed7953"
            ],
            [
             0.7777777777777778,
             "#fb9f3a"
            ],
            [
             0.8888888888888888,
             "#fdca26"
            ],
            [
             1,
             "#f0f921"
            ]
           ],
           "sequentialminus": [
            [
             0,
             "#0d0887"
            ],
            [
             0.1111111111111111,
             "#46039f"
            ],
            [
             0.2222222222222222,
             "#7201a8"
            ],
            [
             0.3333333333333333,
             "#9c179e"
            ],
            [
             0.4444444444444444,
             "#bd3786"
            ],
            [
             0.5555555555555556,
             "#d8576b"
            ],
            [
             0.6666666666666666,
             "#ed7953"
            ],
            [
             0.7777777777777778,
             "#fb9f3a"
            ],
            [
             0.8888888888888888,
             "#fdca26"
            ],
            [
             1,
             "#f0f921"
            ]
           ]
          },
          "colorway": [
           "#636efa",
           "#EF553B",
           "#00cc96",
           "#ab63fa",
           "#FFA15A",
           "#19d3f3",
           "#FF6692",
           "#B6E880",
           "#FF97FF",
           "#FECB52"
          ],
          "font": {
           "color": "#2a3f5f"
          },
          "geo": {
           "bgcolor": "white",
           "lakecolor": "white",
           "landcolor": "#E5ECF6",
           "showlakes": true,
           "showland": true,
           "subunitcolor": "white"
          },
          "hoverlabel": {
           "align": "left"
          },
          "hovermode": "closest",
          "mapbox": {
           "style": "light"
          },
          "paper_bgcolor": "white",
          "plot_bgcolor": "#E5ECF6",
          "polar": {
           "angularaxis": {
            "gridcolor": "white",
            "linecolor": "white",
            "ticks": ""
           },
           "bgcolor": "#E5ECF6",
           "radialaxis": {
            "gridcolor": "white",
            "linecolor": "white",
            "ticks": ""
           }
          },
          "scene": {
           "xaxis": {
            "backgroundcolor": "#E5ECF6",
            "gridcolor": "white",
            "gridwidth": 2,
            "linecolor": "white",
            "showbackground": true,
            "ticks": "",
            "zerolinecolor": "white"
           },
           "yaxis": {
            "backgroundcolor": "#E5ECF6",
            "gridcolor": "white",
            "gridwidth": 2,
            "linecolor": "white",
            "showbackground": true,
            "ticks": "",
            "zerolinecolor": "white"
           },
           "zaxis": {
            "backgroundcolor": "#E5ECF6",
            "gridcolor": "white",
            "gridwidth": 2,
            "linecolor": "white",
            "showbackground": true,
            "ticks": "",
            "zerolinecolor": "white"
           }
          },
          "shapedefaults": {
           "line": {
            "color": "#2a3f5f"
           }
          },
          "ternary": {
           "aaxis": {
            "gridcolor": "white",
            "linecolor": "white",
            "ticks": ""
           },
           "baxis": {
            "gridcolor": "white",
            "linecolor": "white",
            "ticks": ""
           },
           "bgcolor": "#E5ECF6",
           "caxis": {
            "gridcolor": "white",
            "linecolor": "white",
            "ticks": ""
           }
          },
          "title": {
           "x": 0.05
          },
          "xaxis": {
           "automargin": true,
           "gridcolor": "white",
           "linecolor": "white",
           "ticks": "",
           "title": {
            "standoff": 15
           },
           "zerolinecolor": "white",
           "zerolinewidth": 2
          },
          "yaxis": {
           "automargin": true,
           "gridcolor": "white",
           "linecolor": "white",
           "ticks": "",
           "title": {
            "standoff": 15
           },
           "zerolinecolor": "white",
           "zerolinewidth": 2
          }
         }
        },
        "title": {
         "text": "Restaurants/Bars per Neighborhood"
        },
        "xaxis": {
         "categoryarray": [
          "d",
          "a",
          "c",
          "b"
         ],
         "categoryorder": "array",
         "title": {
          "text": "Neighborhood"
         }
        },
        "yaxis": {
         "title": {
          "text": "Quantity"
         }
        }
       }
      },
      "text/html": [
       "<div>\n",
       "        \n",
       "        \n",
       "            <div id=\"c3ce2bf2-fdab-46b3-9e46-177388b5647f\" class=\"plotly-graph-div\" style=\"height:525px; width:100%;\"></div>\n",
       "            <script type=\"text/javascript\">\n",
       "                require([\"plotly\"], function(Plotly) {\n",
       "                    window.PLOTLYENV=window.PLOTLYENV || {};\n",
       "                    \n",
       "                if (document.getElementById(\"c3ce2bf2-fdab-46b3-9e46-177388b5647f\")) {\n",
       "                    Plotly.newPlot(\n",
       "                        'c3ce2bf2-fdab-46b3-9e46-177388b5647f',\n",
       "                        [{\"name\": \"restaurant_bar\", \"type\": \"bar\", \"x\": [\"battery-park-city\", \"industry-city\", \"bowery\", \"brooklyn\", \"civic-center\", \"staten-island\", \"hudson-yards\", \"borough-park\", \"lenox-hill\", \"lincoln-square\", \"central-park\", \"theater-district\", \"sunnyside\", \"sheepshead-bay\", \"dyker-heights\", \"inwood\", \"coney-island\", \"ditmas-park\", \"koreatown\", \"flushing\", \"east-harlem\", \"columbus-circle\", \"downtown-brooklyn\", \"home\", \"queens\", \"sunset-park\", \"washington-heights\", \"red-hook\", \"hamilton-heights\", \"morningside-heights\", \"windsor-terrace\", \"union-square\", \"midtown\", \"prospect-lefferts-gardens\", \"bay-ridge\", \"flatbush\", \"dumbo\", \"carroll-gardens\", \"brooklyn-heights\", \"bronx\", \"little-italy\", \"bed-stuy\", \"kips-bay\", \"ridgewood\", \"nomad\", \"cobble-hill\", \"gowanus\", \"meatpacking-district\", \"fort-greene\", \"boerum-hill\", \"clinton-hill\", \"murray-hill\", \"prospect-heights\", \"noho\", \"gramercy-park\", \"nolita\", \"tribeca\", \"crown-heights\", \"long-island-city\", \"midtown-east\", \"chinatown\", \"hell-s-kitchen\", \"financial-district\", \"park-slope\", \"harlem\", \"chelsea\", \"flatiron-district\", \"astoria\", \"soho\", \"west-village\", \"bushwick\", \"greenpoint\", \"upper-east-side\", \"upper-west-side\", \"midtown-west\", \"greenwich-village\", \"lower-east-side\", \"williamsburg\", \"east-village\"], \"y\": [0, 0, 0, 0, 0, 0, 1, 0, 0, 0, 1, 0, 0, 0, 0, 0, 0, 1, 0, 0, 1, 0, 2, 0, 0, 1, 5, 3, 3, 2, 1, 1, 1, 3, 1, 2, 2, 1, 2, 2, 0, 5, 3, 8, 3, 4, 2, 5, 4, 4, 3, 2, 4, 2, 7, 5, 8, 7, 8, 4, 3, 8, 12, 6, 8, 11, 9, 11, 11, 17, 10, 11, 19, 22, 13, 14, 19, 30, 33]}, {\"name\": \"restaurant\", \"type\": \"bar\", \"x\": [\"battery-park-city\", \"industry-city\", \"bowery\", \"brooklyn\", \"civic-center\", \"staten-island\", \"hudson-yards\", \"borough-park\", \"lenox-hill\", \"lincoln-square\", \"central-park\", \"theater-district\", \"sunnyside\", \"sheepshead-bay\", \"dyker-heights\", \"inwood\", \"coney-island\", \"ditmas-park\", \"koreatown\", \"flushing\", \"east-harlem\", \"columbus-circle\", \"downtown-brooklyn\", \"home\", \"queens\", \"sunset-park\", \"washington-heights\", \"red-hook\", \"hamilton-heights\", \"morningside-heights\", \"windsor-terrace\", \"union-square\", \"midtown\", \"prospect-lefferts-gardens\", \"bay-ridge\", \"flatbush\", \"dumbo\", \"carroll-gardens\", \"brooklyn-heights\", \"bronx\", \"little-italy\", \"bed-stuy\", \"kips-bay\", \"ridgewood\", \"nomad\", \"cobble-hill\", \"gowanus\", \"meatpacking-district\", \"fort-greene\", \"boerum-hill\", \"clinton-hill\", \"murray-hill\", \"prospect-heights\", \"noho\", \"gramercy-park\", \"nolita\", \"tribeca\", \"crown-heights\", \"long-island-city\", \"midtown-east\", \"chinatown\", \"hell-s-kitchen\", \"financial-district\", \"park-slope\", \"harlem\", \"chelsea\", \"flatiron-district\", \"astoria\", \"soho\", \"west-village\", \"bushwick\", \"greenpoint\", \"upper-east-side\", \"upper-west-side\", \"midtown-west\", \"greenwich-village\", \"lower-east-side\", \"williamsburg\", \"east-village\"], \"y\": [0, 0, 0, 0, 0, 1, 0, 1, 1, 0, 0, 2, 1, 2, 2, 1, 2, 1, 3, 4, 1, 2, 2, 0, 6, 5, 1, 4, 4, 5, 4, 6, 7, 5, 8, 6, 7, 7, 8, 6, 13, 3, 8, 2, 9, 5, 8, 8, 10, 8, 11, 11, 6, 10, 11, 17, 11, 10, 11, 15, 22, 15, 13, 20, 23, 22, 27, 23, 26, 19, 17, 23, 27, 22, 31, 38, 46, 56, 70]}, {\"name\": \"bar\", \"type\": \"bar\", \"x\": [\"battery-park-city\", \"industry-city\", \"bowery\", \"brooklyn\", \"civic-center\", \"staten-island\", \"hudson-yards\", \"borough-park\", \"lenox-hill\", \"lincoln-square\", \"central-park\", \"theater-district\", \"sunnyside\", \"sheepshead-bay\", \"dyker-heights\", \"inwood\", \"coney-island\", \"ditmas-park\", \"koreatown\", \"flushing\", \"east-harlem\", \"columbus-circle\", \"downtown-brooklyn\", \"home\", \"queens\", \"sunset-park\", \"washington-heights\", \"red-hook\", \"hamilton-heights\", \"morningside-heights\", \"windsor-terrace\", \"union-square\", \"midtown\", \"prospect-lefferts-gardens\", \"bay-ridge\", \"flatbush\", \"dumbo\", \"carroll-gardens\", \"brooklyn-heights\", \"bronx\", \"little-italy\", \"bed-stuy\", \"kips-bay\", \"ridgewood\", \"nomad\", \"cobble-hill\", \"gowanus\", \"meatpacking-district\", \"fort-greene\", \"boerum-hill\", \"clinton-hill\", \"murray-hill\", \"prospect-heights\", \"noho\", \"gramercy-park\", \"nolita\", \"tribeca\", \"crown-heights\", \"long-island-city\", \"midtown-east\", \"chinatown\", \"hell-s-kitchen\", \"financial-district\", \"park-slope\", \"harlem\", \"chelsea\", \"flatiron-district\", \"astoria\", \"soho\", \"west-village\", \"bushwick\", \"greenpoint\", \"upper-east-side\", \"upper-west-side\", \"midtown-west\", \"greenwich-village\", \"lower-east-side\", \"williamsburg\", \"east-village\"], \"y\": [0, 0, 0, 0, 0, 0, 0, 0, 0, 1, 0, 0, 1, 0, 0, 1, 1, 1, 1, 0, 2, 2, 0, 5, 1, 1, 1, 1, 1, 1, 3, 2, 2, 2, 1, 2, 2, 3, 1, 3, 1, 6, 4, 5, 4, 7, 7, 5, 4, 6, 5, 6, 9, 8, 5, 2, 7, 11, 9, 10, 6, 9, 8, 12, 9, 11, 9, 12, 11, 13, 24, 21, 11, 18, 20, 14, 18, 34, 33]}],\n",
       "                        {\"barmode\": \"stack\", \"font\": {\"size\": 10}, \"template\": {\"data\": {\"bar\": [{\"error_x\": {\"color\": \"#2a3f5f\"}, \"error_y\": {\"color\": \"#2a3f5f\"}, \"marker\": {\"line\": {\"color\": \"#E5ECF6\", \"width\": 0.5}}, \"type\": \"bar\"}], \"barpolar\": [{\"marker\": {\"line\": {\"color\": \"#E5ECF6\", \"width\": 0.5}}, \"type\": \"barpolar\"}], \"carpet\": [{\"aaxis\": {\"endlinecolor\": \"#2a3f5f\", \"gridcolor\": \"white\", \"linecolor\": \"white\", \"minorgridcolor\": \"white\", \"startlinecolor\": \"#2a3f5f\"}, \"baxis\": {\"endlinecolor\": \"#2a3f5f\", \"gridcolor\": \"white\", \"linecolor\": \"white\", \"minorgridcolor\": \"white\", \"startlinecolor\": \"#2a3f5f\"}, \"type\": \"carpet\"}], \"choropleth\": [{\"colorbar\": {\"outlinewidth\": 0, \"ticks\": \"\"}, \"type\": \"choropleth\"}], \"contour\": [{\"colorbar\": {\"outlinewidth\": 0, \"ticks\": \"\"}, \"colorscale\": [[0.0, \"#0d0887\"], [0.1111111111111111, \"#46039f\"], [0.2222222222222222, \"#7201a8\"], [0.3333333333333333, \"#9c179e\"], [0.4444444444444444, \"#bd3786\"], [0.5555555555555556, \"#d8576b\"], [0.6666666666666666, \"#ed7953\"], [0.7777777777777778, \"#fb9f3a\"], [0.8888888888888888, \"#fdca26\"], [1.0, \"#f0f921\"]], \"type\": \"contour\"}], \"contourcarpet\": [{\"colorbar\": {\"outlinewidth\": 0, \"ticks\": \"\"}, \"type\": \"contourcarpet\"}], \"heatmap\": [{\"colorbar\": {\"outlinewidth\": 0, \"ticks\": \"\"}, \"colorscale\": [[0.0, \"#0d0887\"], [0.1111111111111111, \"#46039f\"], [0.2222222222222222, \"#7201a8\"], [0.3333333333333333, \"#9c179e\"], [0.4444444444444444, \"#bd3786\"], [0.5555555555555556, \"#d8576b\"], [0.6666666666666666, \"#ed7953\"], [0.7777777777777778, \"#fb9f3a\"], [0.8888888888888888, \"#fdca26\"], [1.0, \"#f0f921\"]], \"type\": \"heatmap\"}], \"heatmapgl\": [{\"colorbar\": {\"outlinewidth\": 0, \"ticks\": \"\"}, \"colorscale\": [[0.0, \"#0d0887\"], [0.1111111111111111, \"#46039f\"], [0.2222222222222222, \"#7201a8\"], [0.3333333333333333, \"#9c179e\"], [0.4444444444444444, \"#bd3786\"], [0.5555555555555556, \"#d8576b\"], [0.6666666666666666, \"#ed7953\"], [0.7777777777777778, \"#fb9f3a\"], [0.8888888888888888, \"#fdca26\"], [1.0, \"#f0f921\"]], \"type\": \"heatmapgl\"}], \"histogram\": [{\"marker\": {\"colorbar\": {\"outlinewidth\": 0, \"ticks\": \"\"}}, \"type\": \"histogram\"}], \"histogram2d\": [{\"colorbar\": {\"outlinewidth\": 0, \"ticks\": \"\"}, \"colorscale\": [[0.0, \"#0d0887\"], [0.1111111111111111, \"#46039f\"], [0.2222222222222222, \"#7201a8\"], [0.3333333333333333, \"#9c179e\"], [0.4444444444444444, \"#bd3786\"], [0.5555555555555556, \"#d8576b\"], [0.6666666666666666, \"#ed7953\"], [0.7777777777777778, \"#fb9f3a\"], [0.8888888888888888, \"#fdca26\"], [1.0, \"#f0f921\"]], \"type\": \"histogram2d\"}], \"histogram2dcontour\": [{\"colorbar\": {\"outlinewidth\": 0, \"ticks\": \"\"}, \"colorscale\": [[0.0, \"#0d0887\"], [0.1111111111111111, \"#46039f\"], [0.2222222222222222, \"#7201a8\"], [0.3333333333333333, \"#9c179e\"], [0.4444444444444444, \"#bd3786\"], [0.5555555555555556, \"#d8576b\"], [0.6666666666666666, \"#ed7953\"], [0.7777777777777778, \"#fb9f3a\"], [0.8888888888888888, \"#fdca26\"], [1.0, \"#f0f921\"]], \"type\": \"histogram2dcontour\"}], \"mesh3d\": [{\"colorbar\": {\"outlinewidth\": 0, \"ticks\": \"\"}, \"type\": \"mesh3d\"}], \"parcoords\": [{\"line\": {\"colorbar\": {\"outlinewidth\": 0, \"ticks\": \"\"}}, \"type\": \"parcoords\"}], \"pie\": [{\"automargin\": true, \"type\": \"pie\"}], \"scatter\": [{\"marker\": {\"colorbar\": {\"outlinewidth\": 0, \"ticks\": \"\"}}, \"type\": \"scatter\"}], \"scatter3d\": [{\"line\": {\"colorbar\": {\"outlinewidth\": 0, \"ticks\": \"\"}}, \"marker\": {\"colorbar\": {\"outlinewidth\": 0, \"ticks\": \"\"}}, \"type\": \"scatter3d\"}], \"scattercarpet\": [{\"marker\": {\"colorbar\": {\"outlinewidth\": 0, \"ticks\": \"\"}}, \"type\": \"scattercarpet\"}], \"scattergeo\": [{\"marker\": {\"colorbar\": {\"outlinewidth\": 0, \"ticks\": \"\"}}, \"type\": \"scattergeo\"}], \"scattergl\": [{\"marker\": {\"colorbar\": {\"outlinewidth\": 0, \"ticks\": \"\"}}, \"type\": \"scattergl\"}], \"scattermapbox\": [{\"marker\": {\"colorbar\": {\"outlinewidth\": 0, \"ticks\": \"\"}}, \"type\": \"scattermapbox\"}], \"scatterpolar\": [{\"marker\": {\"colorbar\": {\"outlinewidth\": 0, \"ticks\": \"\"}}, \"type\": \"scatterpolar\"}], \"scatterpolargl\": [{\"marker\": {\"colorbar\": {\"outlinewidth\": 0, \"ticks\": \"\"}}, \"type\": \"scatterpolargl\"}], \"scatterternary\": [{\"marker\": {\"colorbar\": {\"outlinewidth\": 0, \"ticks\": \"\"}}, \"type\": \"scatterternary\"}], \"surface\": [{\"colorbar\": {\"outlinewidth\": 0, \"ticks\": \"\"}, \"colorscale\": [[0.0, \"#0d0887\"], [0.1111111111111111, \"#46039f\"], [0.2222222222222222, \"#7201a8\"], [0.3333333333333333, \"#9c179e\"], [0.4444444444444444, \"#bd3786\"], [0.5555555555555556, \"#d8576b\"], [0.6666666666666666, \"#ed7953\"], [0.7777777777777778, \"#fb9f3a\"], [0.8888888888888888, \"#fdca26\"], [1.0, \"#f0f921\"]], \"type\": \"surface\"}], \"table\": [{\"cells\": {\"fill\": {\"color\": \"#EBF0F8\"}, \"line\": {\"color\": \"white\"}}, \"header\": {\"fill\": {\"color\": \"#C8D4E3\"}, \"line\": {\"color\": \"white\"}}, \"type\": \"table\"}]}, \"layout\": {\"annotationdefaults\": {\"arrowcolor\": \"#2a3f5f\", \"arrowhead\": 0, \"arrowwidth\": 1}, \"coloraxis\": {\"colorbar\": {\"outlinewidth\": 0, \"ticks\": \"\"}}, \"colorscale\": {\"diverging\": [[0, \"#8e0152\"], [0.1, \"#c51b7d\"], [0.2, \"#de77ae\"], [0.3, \"#f1b6da\"], [0.4, \"#fde0ef\"], [0.5, \"#f7f7f7\"], [0.6, \"#e6f5d0\"], [0.7, \"#b8e186\"], [0.8, \"#7fbc41\"], [0.9, \"#4d9221\"], [1, \"#276419\"]], \"sequential\": [[0.0, \"#0d0887\"], [0.1111111111111111, \"#46039f\"], [0.2222222222222222, \"#7201a8\"], [0.3333333333333333, \"#9c179e\"], [0.4444444444444444, \"#bd3786\"], [0.5555555555555556, \"#d8576b\"], [0.6666666666666666, \"#ed7953\"], [0.7777777777777778, \"#fb9f3a\"], [0.8888888888888888, \"#fdca26\"], [1.0, \"#f0f921\"]], \"sequentialminus\": [[0.0, \"#0d0887\"], [0.1111111111111111, \"#46039f\"], [0.2222222222222222, \"#7201a8\"], [0.3333333333333333, \"#9c179e\"], [0.4444444444444444, \"#bd3786\"], [0.5555555555555556, \"#d8576b\"], [0.6666666666666666, \"#ed7953\"], [0.7777777777777778, \"#fb9f3a\"], [0.8888888888888888, \"#fdca26\"], [1.0, \"#f0f921\"]]}, \"colorway\": [\"#636efa\", \"#EF553B\", \"#00cc96\", \"#ab63fa\", \"#FFA15A\", \"#19d3f3\", \"#FF6692\", \"#B6E880\", \"#FF97FF\", \"#FECB52\"], \"font\": {\"color\": \"#2a3f5f\"}, \"geo\": {\"bgcolor\": \"white\", \"lakecolor\": \"white\", \"landcolor\": \"#E5ECF6\", \"showlakes\": true, \"showland\": true, \"subunitcolor\": \"white\"}, \"hoverlabel\": {\"align\": \"left\"}, \"hovermode\": \"closest\", \"mapbox\": {\"style\": \"light\"}, \"paper_bgcolor\": \"white\", \"plot_bgcolor\": \"#E5ECF6\", \"polar\": {\"angularaxis\": {\"gridcolor\": \"white\", \"linecolor\": \"white\", \"ticks\": \"\"}, \"bgcolor\": \"#E5ECF6\", \"radialaxis\": {\"gridcolor\": \"white\", \"linecolor\": \"white\", \"ticks\": \"\"}}, \"scene\": {\"xaxis\": {\"backgroundcolor\": \"#E5ECF6\", \"gridcolor\": \"white\", \"gridwidth\": 2, \"linecolor\": \"white\", \"showbackground\": true, \"ticks\": \"\", \"zerolinecolor\": \"white\"}, \"yaxis\": {\"backgroundcolor\": \"#E5ECF6\", \"gridcolor\": \"white\", \"gridwidth\": 2, \"linecolor\": \"white\", \"showbackground\": true, \"ticks\": \"\", \"zerolinecolor\": \"white\"}, \"zaxis\": {\"backgroundcolor\": \"#E5ECF6\", \"gridcolor\": \"white\", \"gridwidth\": 2, \"linecolor\": \"white\", \"showbackground\": true, \"ticks\": \"\", \"zerolinecolor\": \"white\"}}, \"shapedefaults\": {\"line\": {\"color\": \"#2a3f5f\"}}, \"ternary\": {\"aaxis\": {\"gridcolor\": \"white\", \"linecolor\": \"white\", \"ticks\": \"\"}, \"baxis\": {\"gridcolor\": \"white\", \"linecolor\": \"white\", \"ticks\": \"\"}, \"bgcolor\": \"#E5ECF6\", \"caxis\": {\"gridcolor\": \"white\", \"linecolor\": \"white\", \"ticks\": \"\"}}, \"title\": {\"x\": 0.05}, \"xaxis\": {\"automargin\": true, \"gridcolor\": \"white\", \"linecolor\": \"white\", \"ticks\": \"\", \"title\": {\"standoff\": 15}, \"zerolinecolor\": \"white\", \"zerolinewidth\": 2}, \"yaxis\": {\"automargin\": true, \"gridcolor\": \"white\", \"linecolor\": \"white\", \"ticks\": \"\", \"title\": {\"standoff\": 15}, \"zerolinecolor\": \"white\", \"zerolinewidth\": 2}}}, \"title\": {\"text\": \"Restaurants/Bars per Neighborhood\"}, \"xaxis\": {\"categoryarray\": [\"d\", \"a\", \"c\", \"b\"], \"categoryorder\": \"array\", \"title\": {\"text\": \"Neighborhood\"}}, \"yaxis\": {\"title\": {\"text\": \"Quantity\"}}},\n",
       "                        {\"responsive\": true}\n",
       "                    ).then(function(){\n",
       "                            \n",
       "var gd = document.getElementById('c3ce2bf2-fdab-46b3-9e46-177388b5647f');\n",
       "var x = new MutationObserver(function (mutations, observer) {{\n",
       "        var display = window.getComputedStyle(gd).display;\n",
       "        if (!display || display === 'none') {{\n",
       "            console.log([gd, 'removed!']);\n",
       "            Plotly.purge(gd);\n",
       "            observer.disconnect();\n",
       "        }}\n",
       "}});\n",
       "\n",
       "// Listen for the removal of the full notebook cells\n",
       "var notebookContainer = gd.closest('#notebook-container');\n",
       "if (notebookContainer) {{\n",
       "    x.observe(notebookContainer, {childList: true});\n",
       "}}\n",
       "\n",
       "// Listen for the clearing of the current output cell\n",
       "var outputEl = gd.closest('.output');\n",
       "if (outputEl) {{\n",
       "    x.observe(outputEl, {childList: true});\n",
       "}}\n",
       "\n",
       "                        })\n",
       "                };\n",
       "                });\n",
       "            </script>\n",
       "        </div>"
      ]
     },
     "metadata": {},
     "output_type": "display_data"
    }
   ],
   "source": [
    "import plotly.graph_objects as go\n",
    "\n",
    "x=rest_count['neighborhood']\n",
    "fig = go.Figure(go.Bar(x=x, y=rest_count.iloc[:,2], name='restaurant_bar'))\n",
    "fig.add_trace(go.Bar(x=x, y=rest_count.iloc[:,3], name='restaurant'))\n",
    "fig.add_trace(go.Bar(x=x, y=rest_count.iloc[:,4], name='bar'))\n",
    "fig.update_layout(title=\"Restaurants/Bars per Neighborhood\")\n",
    "\n",
    "fig.update_layout(barmode='stack', xaxis={'categoryorder':'array', 'categoryarray':['d','a','c','b']})\n",
    "\n",
    "fig.update_layout(\n",
    "    xaxis_title=\"Neighborhood\",\n",
    "    yaxis_title=\"Quantity\",\n",
    "    font=dict(\n",
    "        size=10,\n",
    "    )\n",
    ")\n",
    "fig.show()"
   ]
  },
  {
   "cell_type": "code",
   "execution_count": 31,
   "metadata": {},
   "outputs": [
    {
     "data": {
      "application/vnd.plotly.v1+json": {
       "config": {
        "plotlyServerURL": "https://plot.ly"
       },
       "data": [
        {
         "name": "restaurant_bar",
         "type": "bar",
         "x": [
          "bronx",
          "brooklyn",
          "manhattan",
          "queens"
         ],
         "y": [
          2,
          109,
          253,
          27
         ]
        },
        {
         "name": "restaurant",
         "type": "bar",
         "x": [
          "bronx",
          "brooklyn",
          "manhattan",
          "queens"
         ],
         "y": [
          6,
          241,
          547,
          47
         ]
        },
        {
         "name": "bar",
         "type": "bar",
         "x": [
          "bronx",
          "brooklyn",
          "manhattan",
          "queens"
         ],
         "y": [
          3,
          164,
          256,
          28
         ]
        }
       ],
       "layout": {
        "barmode": "stack",
        "font": {
         "size": 10
        },
        "template": {
         "data": {
          "bar": [
           {
            "error_x": {
             "color": "#2a3f5f"
            },
            "error_y": {
             "color": "#2a3f5f"
            },
            "marker": {
             "line": {
              "color": "#E5ECF6",
              "width": 0.5
             }
            },
            "type": "bar"
           }
          ],
          "barpolar": [
           {
            "marker": {
             "line": {
              "color": "#E5ECF6",
              "width": 0.5
             }
            },
            "type": "barpolar"
           }
          ],
          "carpet": [
           {
            "aaxis": {
             "endlinecolor": "#2a3f5f",
             "gridcolor": "white",
             "linecolor": "white",
             "minorgridcolor": "white",
             "startlinecolor": "#2a3f5f"
            },
            "baxis": {
             "endlinecolor": "#2a3f5f",
             "gridcolor": "white",
             "linecolor": "white",
             "minorgridcolor": "white",
             "startlinecolor": "#2a3f5f"
            },
            "type": "carpet"
           }
          ],
          "choropleth": [
           {
            "colorbar": {
             "outlinewidth": 0,
             "ticks": ""
            },
            "type": "choropleth"
           }
          ],
          "contour": [
           {
            "colorbar": {
             "outlinewidth": 0,
             "ticks": ""
            },
            "colorscale": [
             [
              0,
              "#0d0887"
             ],
             [
              0.1111111111111111,
              "#46039f"
             ],
             [
              0.2222222222222222,
              "#7201a8"
             ],
             [
              0.3333333333333333,
              "#9c179e"
             ],
             [
              0.4444444444444444,
              "#bd3786"
             ],
             [
              0.5555555555555556,
              "#d8576b"
             ],
             [
              0.6666666666666666,
              "#ed7953"
             ],
             [
              0.7777777777777778,
              "#fb9f3a"
             ],
             [
              0.8888888888888888,
              "#fdca26"
             ],
             [
              1,
              "#f0f921"
             ]
            ],
            "type": "contour"
           }
          ],
          "contourcarpet": [
           {
            "colorbar": {
             "outlinewidth": 0,
             "ticks": ""
            },
            "type": "contourcarpet"
           }
          ],
          "heatmap": [
           {
            "colorbar": {
             "outlinewidth": 0,
             "ticks": ""
            },
            "colorscale": [
             [
              0,
              "#0d0887"
             ],
             [
              0.1111111111111111,
              "#46039f"
             ],
             [
              0.2222222222222222,
              "#7201a8"
             ],
             [
              0.3333333333333333,
              "#9c179e"
             ],
             [
              0.4444444444444444,
              "#bd3786"
             ],
             [
              0.5555555555555556,
              "#d8576b"
             ],
             [
              0.6666666666666666,
              "#ed7953"
             ],
             [
              0.7777777777777778,
              "#fb9f3a"
             ],
             [
              0.8888888888888888,
              "#fdca26"
             ],
             [
              1,
              "#f0f921"
             ]
            ],
            "type": "heatmap"
           }
          ],
          "heatmapgl": [
           {
            "colorbar": {
             "outlinewidth": 0,
             "ticks": ""
            },
            "colorscale": [
             [
              0,
              "#0d0887"
             ],
             [
              0.1111111111111111,
              "#46039f"
             ],
             [
              0.2222222222222222,
              "#7201a8"
             ],
             [
              0.3333333333333333,
              "#9c179e"
             ],
             [
              0.4444444444444444,
              "#bd3786"
             ],
             [
              0.5555555555555556,
              "#d8576b"
             ],
             [
              0.6666666666666666,
              "#ed7953"
             ],
             [
              0.7777777777777778,
              "#fb9f3a"
             ],
             [
              0.8888888888888888,
              "#fdca26"
             ],
             [
              1,
              "#f0f921"
             ]
            ],
            "type": "heatmapgl"
           }
          ],
          "histogram": [
           {
            "marker": {
             "colorbar": {
              "outlinewidth": 0,
              "ticks": ""
             }
            },
            "type": "histogram"
           }
          ],
          "histogram2d": [
           {
            "colorbar": {
             "outlinewidth": 0,
             "ticks": ""
            },
            "colorscale": [
             [
              0,
              "#0d0887"
             ],
             [
              0.1111111111111111,
              "#46039f"
             ],
             [
              0.2222222222222222,
              "#7201a8"
             ],
             [
              0.3333333333333333,
              "#9c179e"
             ],
             [
              0.4444444444444444,
              "#bd3786"
             ],
             [
              0.5555555555555556,
              "#d8576b"
             ],
             [
              0.6666666666666666,
              "#ed7953"
             ],
             [
              0.7777777777777778,
              "#fb9f3a"
             ],
             [
              0.8888888888888888,
              "#fdca26"
             ],
             [
              1,
              "#f0f921"
             ]
            ],
            "type": "histogram2d"
           }
          ],
          "histogram2dcontour": [
           {
            "colorbar": {
             "outlinewidth": 0,
             "ticks": ""
            },
            "colorscale": [
             [
              0,
              "#0d0887"
             ],
             [
              0.1111111111111111,
              "#46039f"
             ],
             [
              0.2222222222222222,
              "#7201a8"
             ],
             [
              0.3333333333333333,
              "#9c179e"
             ],
             [
              0.4444444444444444,
              "#bd3786"
             ],
             [
              0.5555555555555556,
              "#d8576b"
             ],
             [
              0.6666666666666666,
              "#ed7953"
             ],
             [
              0.7777777777777778,
              "#fb9f3a"
             ],
             [
              0.8888888888888888,
              "#fdca26"
             ],
             [
              1,
              "#f0f921"
             ]
            ],
            "type": "histogram2dcontour"
           }
          ],
          "mesh3d": [
           {
            "colorbar": {
             "outlinewidth": 0,
             "ticks": ""
            },
            "type": "mesh3d"
           }
          ],
          "parcoords": [
           {
            "line": {
             "colorbar": {
              "outlinewidth": 0,
              "ticks": ""
             }
            },
            "type": "parcoords"
           }
          ],
          "pie": [
           {
            "automargin": true,
            "type": "pie"
           }
          ],
          "scatter": [
           {
            "marker": {
             "colorbar": {
              "outlinewidth": 0,
              "ticks": ""
             }
            },
            "type": "scatter"
           }
          ],
          "scatter3d": [
           {
            "line": {
             "colorbar": {
              "outlinewidth": 0,
              "ticks": ""
             }
            },
            "marker": {
             "colorbar": {
              "outlinewidth": 0,
              "ticks": ""
             }
            },
            "type": "scatter3d"
           }
          ],
          "scattercarpet": [
           {
            "marker": {
             "colorbar": {
              "outlinewidth": 0,
              "ticks": ""
             }
            },
            "type": "scattercarpet"
           }
          ],
          "scattergeo": [
           {
            "marker": {
             "colorbar": {
              "outlinewidth": 0,
              "ticks": ""
             }
            },
            "type": "scattergeo"
           }
          ],
          "scattergl": [
           {
            "marker": {
             "colorbar": {
              "outlinewidth": 0,
              "ticks": ""
             }
            },
            "type": "scattergl"
           }
          ],
          "scattermapbox": [
           {
            "marker": {
             "colorbar": {
              "outlinewidth": 0,
              "ticks": ""
             }
            },
            "type": "scattermapbox"
           }
          ],
          "scatterpolar": [
           {
            "marker": {
             "colorbar": {
              "outlinewidth": 0,
              "ticks": ""
             }
            },
            "type": "scatterpolar"
           }
          ],
          "scatterpolargl": [
           {
            "marker": {
             "colorbar": {
              "outlinewidth": 0,
              "ticks": ""
             }
            },
            "type": "scatterpolargl"
           }
          ],
          "scatterternary": [
           {
            "marker": {
             "colorbar": {
              "outlinewidth": 0,
              "ticks": ""
             }
            },
            "type": "scatterternary"
           }
          ],
          "surface": [
           {
            "colorbar": {
             "outlinewidth": 0,
             "ticks": ""
            },
            "colorscale": [
             [
              0,
              "#0d0887"
             ],
             [
              0.1111111111111111,
              "#46039f"
             ],
             [
              0.2222222222222222,
              "#7201a8"
             ],
             [
              0.3333333333333333,
              "#9c179e"
             ],
             [
              0.4444444444444444,
              "#bd3786"
             ],
             [
              0.5555555555555556,
              "#d8576b"
             ],
             [
              0.6666666666666666,
              "#ed7953"
             ],
             [
              0.7777777777777778,
              "#fb9f3a"
             ],
             [
              0.8888888888888888,
              "#fdca26"
             ],
             [
              1,
              "#f0f921"
             ]
            ],
            "type": "surface"
           }
          ],
          "table": [
           {
            "cells": {
             "fill": {
              "color": "#EBF0F8"
             },
             "line": {
              "color": "white"
             }
            },
            "header": {
             "fill": {
              "color": "#C8D4E3"
             },
             "line": {
              "color": "white"
             }
            },
            "type": "table"
           }
          ]
         },
         "layout": {
          "annotationdefaults": {
           "arrowcolor": "#2a3f5f",
           "arrowhead": 0,
           "arrowwidth": 1
          },
          "coloraxis": {
           "colorbar": {
            "outlinewidth": 0,
            "ticks": ""
           }
          },
          "colorscale": {
           "diverging": [
            [
             0,
             "#8e0152"
            ],
            [
             0.1,
             "#c51b7d"
            ],
            [
             0.2,
             "#de77ae"
            ],
            [
             0.3,
             "#f1b6da"
            ],
            [
             0.4,
             "#fde0ef"
            ],
            [
             0.5,
             "#f7f7f7"
            ],
            [
             0.6,
             "#e6f5d0"
            ],
            [
             0.7,
             "#b8e186"
            ],
            [
             0.8,
             "#7fbc41"
            ],
            [
             0.9,
             "#4d9221"
            ],
            [
             1,
             "#276419"
            ]
           ],
           "sequential": [
            [
             0,
             "#0d0887"
            ],
            [
             0.1111111111111111,
             "#46039f"
            ],
            [
             0.2222222222222222,
             "#7201a8"
            ],
            [
             0.3333333333333333,
             "#9c179e"
            ],
            [
             0.4444444444444444,
             "#bd3786"
            ],
            [
             0.5555555555555556,
             "#d8576b"
            ],
            [
             0.6666666666666666,
             "#ed7953"
            ],
            [
             0.7777777777777778,
             "#fb9f3a"
            ],
            [
             0.8888888888888888,
             "#fdca26"
            ],
            [
             1,
             "#f0f921"
            ]
           ],
           "sequentialminus": [
            [
             0,
             "#0d0887"
            ],
            [
             0.1111111111111111,
             "#46039f"
            ],
            [
             0.2222222222222222,
             "#7201a8"
            ],
            [
             0.3333333333333333,
             "#9c179e"
            ],
            [
             0.4444444444444444,
             "#bd3786"
            ],
            [
             0.5555555555555556,
             "#d8576b"
            ],
            [
             0.6666666666666666,
             "#ed7953"
            ],
            [
             0.7777777777777778,
             "#fb9f3a"
            ],
            [
             0.8888888888888888,
             "#fdca26"
            ],
            [
             1,
             "#f0f921"
            ]
           ]
          },
          "colorway": [
           "#636efa",
           "#EF553B",
           "#00cc96",
           "#ab63fa",
           "#FFA15A",
           "#19d3f3",
           "#FF6692",
           "#B6E880",
           "#FF97FF",
           "#FECB52"
          ],
          "font": {
           "color": "#2a3f5f"
          },
          "geo": {
           "bgcolor": "white",
           "lakecolor": "white",
           "landcolor": "#E5ECF6",
           "showlakes": true,
           "showland": true,
           "subunitcolor": "white"
          },
          "hoverlabel": {
           "align": "left"
          },
          "hovermode": "closest",
          "mapbox": {
           "style": "light"
          },
          "paper_bgcolor": "white",
          "plot_bgcolor": "#E5ECF6",
          "polar": {
           "angularaxis": {
            "gridcolor": "white",
            "linecolor": "white",
            "ticks": ""
           },
           "bgcolor": "#E5ECF6",
           "radialaxis": {
            "gridcolor": "white",
            "linecolor": "white",
            "ticks": ""
           }
          },
          "scene": {
           "xaxis": {
            "backgroundcolor": "#E5ECF6",
            "gridcolor": "white",
            "gridwidth": 2,
            "linecolor": "white",
            "showbackground": true,
            "ticks": "",
            "zerolinecolor": "white"
           },
           "yaxis": {
            "backgroundcolor": "#E5ECF6",
            "gridcolor": "white",
            "gridwidth": 2,
            "linecolor": "white",
            "showbackground": true,
            "ticks": "",
            "zerolinecolor": "white"
           },
           "zaxis": {
            "backgroundcolor": "#E5ECF6",
            "gridcolor": "white",
            "gridwidth": 2,
            "linecolor": "white",
            "showbackground": true,
            "ticks": "",
            "zerolinecolor": "white"
           }
          },
          "shapedefaults": {
           "line": {
            "color": "#2a3f5f"
           }
          },
          "ternary": {
           "aaxis": {
            "gridcolor": "white",
            "linecolor": "white",
            "ticks": ""
           },
           "baxis": {
            "gridcolor": "white",
            "linecolor": "white",
            "ticks": ""
           },
           "bgcolor": "#E5ECF6",
           "caxis": {
            "gridcolor": "white",
            "linecolor": "white",
            "ticks": ""
           }
          },
          "title": {
           "x": 0.05
          },
          "xaxis": {
           "automargin": true,
           "gridcolor": "white",
           "linecolor": "white",
           "ticks": "",
           "title": {
            "standoff": 15
           },
           "zerolinecolor": "white",
           "zerolinewidth": 2
          },
          "yaxis": {
           "automargin": true,
           "gridcolor": "white",
           "linecolor": "white",
           "ticks": "",
           "title": {
            "standoff": 15
           },
           "zerolinecolor": "white",
           "zerolinewidth": 2
          }
         }
        },
        "title": {
         "text": "Restaurants/Bars per Burough"
        },
        "xaxis": {
         "categoryarray": [
          "d",
          "a",
          "c",
          "b"
         ],
         "categoryorder": "array",
         "title": {
          "text": "Burough"
         }
        },
        "yaxis": {
         "title": {
          "text": "Quantity"
         }
        }
       }
      },
      "text/html": [
       "<div>\n",
       "        \n",
       "        \n",
       "            <div id=\"7165ef85-8ab1-477b-ac22-a25a45a0ae48\" class=\"plotly-graph-div\" style=\"height:525px; width:100%;\"></div>\n",
       "            <script type=\"text/javascript\">\n",
       "                require([\"plotly\"], function(Plotly) {\n",
       "                    window.PLOTLYENV=window.PLOTLYENV || {};\n",
       "                    \n",
       "                if (document.getElementById(\"7165ef85-8ab1-477b-ac22-a25a45a0ae48\")) {\n",
       "                    Plotly.newPlot(\n",
       "                        '7165ef85-8ab1-477b-ac22-a25a45a0ae48',\n",
       "                        [{\"name\": \"restaurant_bar\", \"type\": \"bar\", \"x\": [\"bronx\", \"brooklyn\", \"manhattan\", \"queens\"], \"y\": [2, 109, 253, 27]}, {\"name\": \"restaurant\", \"type\": \"bar\", \"x\": [\"bronx\", \"brooklyn\", \"manhattan\", \"queens\"], \"y\": [6, 241, 547, 47]}, {\"name\": \"bar\", \"type\": \"bar\", \"x\": [\"bronx\", \"brooklyn\", \"manhattan\", \"queens\"], \"y\": [3, 164, 256, 28]}],\n",
       "                        {\"barmode\": \"stack\", \"font\": {\"size\": 10}, \"template\": {\"data\": {\"bar\": [{\"error_x\": {\"color\": \"#2a3f5f\"}, \"error_y\": {\"color\": \"#2a3f5f\"}, \"marker\": {\"line\": {\"color\": \"#E5ECF6\", \"width\": 0.5}}, \"type\": \"bar\"}], \"barpolar\": [{\"marker\": {\"line\": {\"color\": \"#E5ECF6\", \"width\": 0.5}}, \"type\": \"barpolar\"}], \"carpet\": [{\"aaxis\": {\"endlinecolor\": \"#2a3f5f\", \"gridcolor\": \"white\", \"linecolor\": \"white\", \"minorgridcolor\": \"white\", \"startlinecolor\": \"#2a3f5f\"}, \"baxis\": {\"endlinecolor\": \"#2a3f5f\", \"gridcolor\": \"white\", \"linecolor\": \"white\", \"minorgridcolor\": \"white\", \"startlinecolor\": \"#2a3f5f\"}, \"type\": \"carpet\"}], \"choropleth\": [{\"colorbar\": {\"outlinewidth\": 0, \"ticks\": \"\"}, \"type\": \"choropleth\"}], \"contour\": [{\"colorbar\": {\"outlinewidth\": 0, \"ticks\": \"\"}, \"colorscale\": [[0.0, \"#0d0887\"], [0.1111111111111111, \"#46039f\"], [0.2222222222222222, \"#7201a8\"], [0.3333333333333333, \"#9c179e\"], [0.4444444444444444, \"#bd3786\"], [0.5555555555555556, \"#d8576b\"], [0.6666666666666666, \"#ed7953\"], [0.7777777777777778, \"#fb9f3a\"], [0.8888888888888888, \"#fdca26\"], [1.0, \"#f0f921\"]], \"type\": \"contour\"}], \"contourcarpet\": [{\"colorbar\": {\"outlinewidth\": 0, \"ticks\": \"\"}, \"type\": \"contourcarpet\"}], \"heatmap\": [{\"colorbar\": {\"outlinewidth\": 0, \"ticks\": \"\"}, \"colorscale\": [[0.0, \"#0d0887\"], [0.1111111111111111, \"#46039f\"], [0.2222222222222222, \"#7201a8\"], [0.3333333333333333, \"#9c179e\"], [0.4444444444444444, \"#bd3786\"], [0.5555555555555556, \"#d8576b\"], [0.6666666666666666, \"#ed7953\"], [0.7777777777777778, \"#fb9f3a\"], [0.8888888888888888, \"#fdca26\"], [1.0, \"#f0f921\"]], \"type\": \"heatmap\"}], \"heatmapgl\": [{\"colorbar\": {\"outlinewidth\": 0, \"ticks\": \"\"}, \"colorscale\": [[0.0, \"#0d0887\"], [0.1111111111111111, \"#46039f\"], [0.2222222222222222, \"#7201a8\"], [0.3333333333333333, \"#9c179e\"], [0.4444444444444444, \"#bd3786\"], [0.5555555555555556, \"#d8576b\"], [0.6666666666666666, \"#ed7953\"], [0.7777777777777778, \"#fb9f3a\"], [0.8888888888888888, \"#fdca26\"], [1.0, \"#f0f921\"]], \"type\": \"heatmapgl\"}], \"histogram\": [{\"marker\": {\"colorbar\": {\"outlinewidth\": 0, \"ticks\": \"\"}}, \"type\": \"histogram\"}], \"histogram2d\": [{\"colorbar\": {\"outlinewidth\": 0, \"ticks\": \"\"}, \"colorscale\": [[0.0, \"#0d0887\"], [0.1111111111111111, \"#46039f\"], [0.2222222222222222, \"#7201a8\"], [0.3333333333333333, \"#9c179e\"], [0.4444444444444444, \"#bd3786\"], [0.5555555555555556, \"#d8576b\"], [0.6666666666666666, \"#ed7953\"], [0.7777777777777778, \"#fb9f3a\"], [0.8888888888888888, \"#fdca26\"], [1.0, \"#f0f921\"]], \"type\": \"histogram2d\"}], \"histogram2dcontour\": [{\"colorbar\": {\"outlinewidth\": 0, \"ticks\": \"\"}, \"colorscale\": [[0.0, \"#0d0887\"], [0.1111111111111111, \"#46039f\"], [0.2222222222222222, \"#7201a8\"], [0.3333333333333333, \"#9c179e\"], [0.4444444444444444, \"#bd3786\"], [0.5555555555555556, \"#d8576b\"], [0.6666666666666666, \"#ed7953\"], [0.7777777777777778, \"#fb9f3a\"], [0.8888888888888888, \"#fdca26\"], [1.0, \"#f0f921\"]], \"type\": \"histogram2dcontour\"}], \"mesh3d\": [{\"colorbar\": {\"outlinewidth\": 0, \"ticks\": \"\"}, \"type\": \"mesh3d\"}], \"parcoords\": [{\"line\": {\"colorbar\": {\"outlinewidth\": 0, \"ticks\": \"\"}}, \"type\": \"parcoords\"}], \"pie\": [{\"automargin\": true, \"type\": \"pie\"}], \"scatter\": [{\"marker\": {\"colorbar\": {\"outlinewidth\": 0, \"ticks\": \"\"}}, \"type\": \"scatter\"}], \"scatter3d\": [{\"line\": {\"colorbar\": {\"outlinewidth\": 0, \"ticks\": \"\"}}, \"marker\": {\"colorbar\": {\"outlinewidth\": 0, \"ticks\": \"\"}}, \"type\": \"scatter3d\"}], \"scattercarpet\": [{\"marker\": {\"colorbar\": {\"outlinewidth\": 0, \"ticks\": \"\"}}, \"type\": \"scattercarpet\"}], \"scattergeo\": [{\"marker\": {\"colorbar\": {\"outlinewidth\": 0, \"ticks\": \"\"}}, \"type\": \"scattergeo\"}], \"scattergl\": [{\"marker\": {\"colorbar\": {\"outlinewidth\": 0, \"ticks\": \"\"}}, \"type\": \"scattergl\"}], \"scattermapbox\": [{\"marker\": {\"colorbar\": {\"outlinewidth\": 0, \"ticks\": \"\"}}, \"type\": \"scattermapbox\"}], \"scatterpolar\": [{\"marker\": {\"colorbar\": {\"outlinewidth\": 0, \"ticks\": \"\"}}, \"type\": \"scatterpolar\"}], \"scatterpolargl\": [{\"marker\": {\"colorbar\": {\"outlinewidth\": 0, \"ticks\": \"\"}}, \"type\": \"scatterpolargl\"}], \"scatterternary\": [{\"marker\": {\"colorbar\": {\"outlinewidth\": 0, \"ticks\": \"\"}}, \"type\": \"scatterternary\"}], \"surface\": [{\"colorbar\": {\"outlinewidth\": 0, \"ticks\": \"\"}, \"colorscale\": [[0.0, \"#0d0887\"], [0.1111111111111111, \"#46039f\"], [0.2222222222222222, \"#7201a8\"], [0.3333333333333333, \"#9c179e\"], [0.4444444444444444, \"#bd3786\"], [0.5555555555555556, \"#d8576b\"], [0.6666666666666666, \"#ed7953\"], [0.7777777777777778, \"#fb9f3a\"], [0.8888888888888888, \"#fdca26\"], [1.0, \"#f0f921\"]], \"type\": \"surface\"}], \"table\": [{\"cells\": {\"fill\": {\"color\": \"#EBF0F8\"}, \"line\": {\"color\": \"white\"}}, \"header\": {\"fill\": {\"color\": \"#C8D4E3\"}, \"line\": {\"color\": \"white\"}}, \"type\": \"table\"}]}, \"layout\": {\"annotationdefaults\": {\"arrowcolor\": \"#2a3f5f\", \"arrowhead\": 0, \"arrowwidth\": 1}, \"coloraxis\": {\"colorbar\": {\"outlinewidth\": 0, \"ticks\": \"\"}}, \"colorscale\": {\"diverging\": [[0, \"#8e0152\"], [0.1, \"#c51b7d\"], [0.2, \"#de77ae\"], [0.3, \"#f1b6da\"], [0.4, \"#fde0ef\"], [0.5, \"#f7f7f7\"], [0.6, \"#e6f5d0\"], [0.7, \"#b8e186\"], [0.8, \"#7fbc41\"], [0.9, \"#4d9221\"], [1, \"#276419\"]], \"sequential\": [[0.0, \"#0d0887\"], [0.1111111111111111, \"#46039f\"], [0.2222222222222222, \"#7201a8\"], [0.3333333333333333, \"#9c179e\"], [0.4444444444444444, \"#bd3786\"], [0.5555555555555556, \"#d8576b\"], [0.6666666666666666, \"#ed7953\"], [0.7777777777777778, \"#fb9f3a\"], [0.8888888888888888, \"#fdca26\"], [1.0, \"#f0f921\"]], \"sequentialminus\": [[0.0, \"#0d0887\"], [0.1111111111111111, \"#46039f\"], [0.2222222222222222, \"#7201a8\"], [0.3333333333333333, \"#9c179e\"], [0.4444444444444444, \"#bd3786\"], [0.5555555555555556, \"#d8576b\"], [0.6666666666666666, \"#ed7953\"], [0.7777777777777778, \"#fb9f3a\"], [0.8888888888888888, \"#fdca26\"], [1.0, \"#f0f921\"]]}, \"colorway\": [\"#636efa\", \"#EF553B\", \"#00cc96\", \"#ab63fa\", \"#FFA15A\", \"#19d3f3\", \"#FF6692\", \"#B6E880\", \"#FF97FF\", \"#FECB52\"], \"font\": {\"color\": \"#2a3f5f\"}, \"geo\": {\"bgcolor\": \"white\", \"lakecolor\": \"white\", \"landcolor\": \"#E5ECF6\", \"showlakes\": true, \"showland\": true, \"subunitcolor\": \"white\"}, \"hoverlabel\": {\"align\": \"left\"}, \"hovermode\": \"closest\", \"mapbox\": {\"style\": \"light\"}, \"paper_bgcolor\": \"white\", \"plot_bgcolor\": \"#E5ECF6\", \"polar\": {\"angularaxis\": {\"gridcolor\": \"white\", \"linecolor\": \"white\", \"ticks\": \"\"}, \"bgcolor\": \"#E5ECF6\", \"radialaxis\": {\"gridcolor\": \"white\", \"linecolor\": \"white\", \"ticks\": \"\"}}, \"scene\": {\"xaxis\": {\"backgroundcolor\": \"#E5ECF6\", \"gridcolor\": \"white\", \"gridwidth\": 2, \"linecolor\": \"white\", \"showbackground\": true, \"ticks\": \"\", \"zerolinecolor\": \"white\"}, \"yaxis\": {\"backgroundcolor\": \"#E5ECF6\", \"gridcolor\": \"white\", \"gridwidth\": 2, \"linecolor\": \"white\", \"showbackground\": true, \"ticks\": \"\", \"zerolinecolor\": \"white\"}, \"zaxis\": {\"backgroundcolor\": \"#E5ECF6\", \"gridcolor\": \"white\", \"gridwidth\": 2, \"linecolor\": \"white\", \"showbackground\": true, \"ticks\": \"\", \"zerolinecolor\": \"white\"}}, \"shapedefaults\": {\"line\": {\"color\": \"#2a3f5f\"}}, \"ternary\": {\"aaxis\": {\"gridcolor\": \"white\", \"linecolor\": \"white\", \"ticks\": \"\"}, \"baxis\": {\"gridcolor\": \"white\", \"linecolor\": \"white\", \"ticks\": \"\"}, \"bgcolor\": \"#E5ECF6\", \"caxis\": {\"gridcolor\": \"white\", \"linecolor\": \"white\", \"ticks\": \"\"}}, \"title\": {\"x\": 0.05}, \"xaxis\": {\"automargin\": true, \"gridcolor\": \"white\", \"linecolor\": \"white\", \"ticks\": \"\", \"title\": {\"standoff\": 15}, \"zerolinecolor\": \"white\", \"zerolinewidth\": 2}, \"yaxis\": {\"automargin\": true, \"gridcolor\": \"white\", \"linecolor\": \"white\", \"ticks\": \"\", \"title\": {\"standoff\": 15}, \"zerolinecolor\": \"white\", \"zerolinewidth\": 2}}}, \"title\": {\"text\": \"Restaurants/Bars per Burough\"}, \"xaxis\": {\"categoryarray\": [\"d\", \"a\", \"c\", \"b\"], \"categoryorder\": \"array\", \"title\": {\"text\": \"Burough\"}}, \"yaxis\": {\"title\": {\"text\": \"Quantity\"}}},\n",
       "                        {\"responsive\": true}\n",
       "                    ).then(function(){\n",
       "                            \n",
       "var gd = document.getElementById('7165ef85-8ab1-477b-ac22-a25a45a0ae48');\n",
       "var x = new MutationObserver(function (mutations, observer) {{\n",
       "        var display = window.getComputedStyle(gd).display;\n",
       "        if (!display || display === 'none') {{\n",
       "            console.log([gd, 'removed!']);\n",
       "            Plotly.purge(gd);\n",
       "            observer.disconnect();\n",
       "        }}\n",
       "}});\n",
       "\n",
       "// Listen for the removal of the full notebook cells\n",
       "var notebookContainer = gd.closest('#notebook-container');\n",
       "if (notebookContainer) {{\n",
       "    x.observe(notebookContainer, {childList: true});\n",
       "}}\n",
       "\n",
       "// Listen for the clearing of the current output cell\n",
       "var outputEl = gd.closest('.output');\n",
       "if (outputEl) {{\n",
       "    x.observe(outputEl, {childList: true});\n",
       "}}\n",
       "\n",
       "                        })\n",
       "                };\n",
       "                });\n",
       "            </script>\n",
       "        </div>"
      ]
     },
     "metadata": {},
     "output_type": "display_data"
    }
   ],
   "source": [
    "import plotly.graph_objects as go\n",
    "\n",
    "x=rest_count1['burough']\n",
    "fig = go.Figure(go.Bar(x=x, y=rest_count1.iloc[:,2], name='restaurant_bar'))\n",
    "fig.add_trace(go.Bar(x=x, y=rest_count1.iloc[:,3], name='restaurant'))\n",
    "fig.add_trace(go.Bar(x=x, y=rest_count1.iloc[:,4], name='bar'))\n",
    "fig.update_layout(title=\"Restaurants/Bars per Burough\")\n",
    "\n",
    "fig.update_layout(barmode='stack', xaxis={'categoryorder':'array', 'categoryarray':['d','a','c','b']})\n",
    "fig.update_layout(\n",
    "    xaxis_title=\"Burough\",\n",
    "    yaxis_title=\"Quantity\",\n",
    "    font=dict(\n",
    "        size=10,\n",
    "    )\n",
    ")\n",
    "fig.show()\n"
   ]
  },
  {
   "cell_type": "code",
   "execution_count": null,
   "metadata": {},
   "outputs": [],
   "source": []
  },
  {
   "cell_type": "code",
   "execution_count": 13,
   "metadata": {},
   "outputs": [
    {
     "data": {
      "application/vnd.plotly.v1+json": {
       "config": {
        "plotlyServerURL": "https://plot.ly"
       },
       "data": [
        {
         "customdata": [
          [
           "italian"
          ],
          [
           "american"
          ],
          [
           "french"
          ],
          [
           "japanese"
          ],
          [
           "mexican"
          ],
          [
           "pizza"
          ],
          [
           "mediterranean"
          ],
          [
           "new-american"
          ],
          [
           "chinese"
          ],
          [
           "greek"
          ],
          [
           "seafood"
          ],
          [
           "bakery"
          ],
          [
           "thai"
          ],
          [
           "sushi"
          ],
          [
           "korean"
          ],
          [
           "indian"
          ],
          [
           "asian"
          ]
         ],
         "domain": {
          "x": [
           0,
           1
          ],
          "y": [
           0,
           1
          ]
         },
         "hoverlabel": {
          "namelength": 0
         },
         "hovertemplate": "cuisine_1=%{label}<br>sum=%{value}",
         "labels": [
          "italian",
          "american",
          "french",
          "japanese",
          "mexican",
          "pizza",
          "mediterranean",
          "new-american",
          "chinese",
          "greek",
          "seafood",
          "bakery",
          "thai",
          "sushi",
          "korean",
          "indian",
          "asian"
         ],
         "legendgroup": "",
         "name": "",
         "showlegend": true,
         "textinfo": "percent+label",
         "textposition": "inside",
         "type": "pie",
         "values": [
          135,
          122,
          49,
          38,
          37,
          33,
          31,
          30,
          28,
          25,
          25,
          24,
          18,
          16,
          16,
          15,
          14
         ]
        }
       ],
       "layout": {
        "legend": {
         "tracegroupgap": 0
        },
        "template": {
         "data": {
          "bar": [
           {
            "error_x": {
             "color": "#2a3f5f"
            },
            "error_y": {
             "color": "#2a3f5f"
            },
            "marker": {
             "line": {
              "color": "#E5ECF6",
              "width": 0.5
             }
            },
            "type": "bar"
           }
          ],
          "barpolar": [
           {
            "marker": {
             "line": {
              "color": "#E5ECF6",
              "width": 0.5
             }
            },
            "type": "barpolar"
           }
          ],
          "carpet": [
           {
            "aaxis": {
             "endlinecolor": "#2a3f5f",
             "gridcolor": "white",
             "linecolor": "white",
             "minorgridcolor": "white",
             "startlinecolor": "#2a3f5f"
            },
            "baxis": {
             "endlinecolor": "#2a3f5f",
             "gridcolor": "white",
             "linecolor": "white",
             "minorgridcolor": "white",
             "startlinecolor": "#2a3f5f"
            },
            "type": "carpet"
           }
          ],
          "choropleth": [
           {
            "colorbar": {
             "outlinewidth": 0,
             "ticks": ""
            },
            "type": "choropleth"
           }
          ],
          "contour": [
           {
            "colorbar": {
             "outlinewidth": 0,
             "ticks": ""
            },
            "colorscale": [
             [
              0,
              "#0d0887"
             ],
             [
              0.1111111111111111,
              "#46039f"
             ],
             [
              0.2222222222222222,
              "#7201a8"
             ],
             [
              0.3333333333333333,
              "#9c179e"
             ],
             [
              0.4444444444444444,
              "#bd3786"
             ],
             [
              0.5555555555555556,
              "#d8576b"
             ],
             [
              0.6666666666666666,
              "#ed7953"
             ],
             [
              0.7777777777777778,
              "#fb9f3a"
             ],
             [
              0.8888888888888888,
              "#fdca26"
             ],
             [
              1,
              "#f0f921"
             ]
            ],
            "type": "contour"
           }
          ],
          "contourcarpet": [
           {
            "colorbar": {
             "outlinewidth": 0,
             "ticks": ""
            },
            "type": "contourcarpet"
           }
          ],
          "heatmap": [
           {
            "colorbar": {
             "outlinewidth": 0,
             "ticks": ""
            },
            "colorscale": [
             [
              0,
              "#0d0887"
             ],
             [
              0.1111111111111111,
              "#46039f"
             ],
             [
              0.2222222222222222,
              "#7201a8"
             ],
             [
              0.3333333333333333,
              "#9c179e"
             ],
             [
              0.4444444444444444,
              "#bd3786"
             ],
             [
              0.5555555555555556,
              "#d8576b"
             ],
             [
              0.6666666666666666,
              "#ed7953"
             ],
             [
              0.7777777777777778,
              "#fb9f3a"
             ],
             [
              0.8888888888888888,
              "#fdca26"
             ],
             [
              1,
              "#f0f921"
             ]
            ],
            "type": "heatmap"
           }
          ],
          "heatmapgl": [
           {
            "colorbar": {
             "outlinewidth": 0,
             "ticks": ""
            },
            "colorscale": [
             [
              0,
              "#0d0887"
             ],
             [
              0.1111111111111111,
              "#46039f"
             ],
             [
              0.2222222222222222,
              "#7201a8"
             ],
             [
              0.3333333333333333,
              "#9c179e"
             ],
             [
              0.4444444444444444,
              "#bd3786"
             ],
             [
              0.5555555555555556,
              "#d8576b"
             ],
             [
              0.6666666666666666,
              "#ed7953"
             ],
             [
              0.7777777777777778,
              "#fb9f3a"
             ],
             [
              0.8888888888888888,
              "#fdca26"
             ],
             [
              1,
              "#f0f921"
             ]
            ],
            "type": "heatmapgl"
           }
          ],
          "histogram": [
           {
            "marker": {
             "colorbar": {
              "outlinewidth": 0,
              "ticks": ""
             }
            },
            "type": "histogram"
           }
          ],
          "histogram2d": [
           {
            "colorbar": {
             "outlinewidth": 0,
             "ticks": ""
            },
            "colorscale": [
             [
              0,
              "#0d0887"
             ],
             [
              0.1111111111111111,
              "#46039f"
             ],
             [
              0.2222222222222222,
              "#7201a8"
             ],
             [
              0.3333333333333333,
              "#9c179e"
             ],
             [
              0.4444444444444444,
              "#bd3786"
             ],
             [
              0.5555555555555556,
              "#d8576b"
             ],
             [
              0.6666666666666666,
              "#ed7953"
             ],
             [
              0.7777777777777778,
              "#fb9f3a"
             ],
             [
              0.8888888888888888,
              "#fdca26"
             ],
             [
              1,
              "#f0f921"
             ]
            ],
            "type": "histogram2d"
           }
          ],
          "histogram2dcontour": [
           {
            "colorbar": {
             "outlinewidth": 0,
             "ticks": ""
            },
            "colorscale": [
             [
              0,
              "#0d0887"
             ],
             [
              0.1111111111111111,
              "#46039f"
             ],
             [
              0.2222222222222222,
              "#7201a8"
             ],
             [
              0.3333333333333333,
              "#9c179e"
             ],
             [
              0.4444444444444444,
              "#bd3786"
             ],
             [
              0.5555555555555556,
              "#d8576b"
             ],
             [
              0.6666666666666666,
              "#ed7953"
             ],
             [
              0.7777777777777778,
              "#fb9f3a"
             ],
             [
              0.8888888888888888,
              "#fdca26"
             ],
             [
              1,
              "#f0f921"
             ]
            ],
            "type": "histogram2dcontour"
           }
          ],
          "mesh3d": [
           {
            "colorbar": {
             "outlinewidth": 0,
             "ticks": ""
            },
            "type": "mesh3d"
           }
          ],
          "parcoords": [
           {
            "line": {
             "colorbar": {
              "outlinewidth": 0,
              "ticks": ""
             }
            },
            "type": "parcoords"
           }
          ],
          "pie": [
           {
            "automargin": true,
            "type": "pie"
           }
          ],
          "scatter": [
           {
            "marker": {
             "colorbar": {
              "outlinewidth": 0,
              "ticks": ""
             }
            },
            "type": "scatter"
           }
          ],
          "scatter3d": [
           {
            "line": {
             "colorbar": {
              "outlinewidth": 0,
              "ticks": ""
             }
            },
            "marker": {
             "colorbar": {
              "outlinewidth": 0,
              "ticks": ""
             }
            },
            "type": "scatter3d"
           }
          ],
          "scattercarpet": [
           {
            "marker": {
             "colorbar": {
              "outlinewidth": 0,
              "ticks": ""
             }
            },
            "type": "scattercarpet"
           }
          ],
          "scattergeo": [
           {
            "marker": {
             "colorbar": {
              "outlinewidth": 0,
              "ticks": ""
             }
            },
            "type": "scattergeo"
           }
          ],
          "scattergl": [
           {
            "marker": {
             "colorbar": {
              "outlinewidth": 0,
              "ticks": ""
             }
            },
            "type": "scattergl"
           }
          ],
          "scattermapbox": [
           {
            "marker": {
             "colorbar": {
              "outlinewidth": 0,
              "ticks": ""
             }
            },
            "type": "scattermapbox"
           }
          ],
          "scatterpolar": [
           {
            "marker": {
             "colorbar": {
              "outlinewidth": 0,
              "ticks": ""
             }
            },
            "type": "scatterpolar"
           }
          ],
          "scatterpolargl": [
           {
            "marker": {
             "colorbar": {
              "outlinewidth": 0,
              "ticks": ""
             }
            },
            "type": "scatterpolargl"
           }
          ],
          "scatterternary": [
           {
            "marker": {
             "colorbar": {
              "outlinewidth": 0,
              "ticks": ""
             }
            },
            "type": "scatterternary"
           }
          ],
          "surface": [
           {
            "colorbar": {
             "outlinewidth": 0,
             "ticks": ""
            },
            "colorscale": [
             [
              0,
              "#0d0887"
             ],
             [
              0.1111111111111111,
              "#46039f"
             ],
             [
              0.2222222222222222,
              "#7201a8"
             ],
             [
              0.3333333333333333,
              "#9c179e"
             ],
             [
              0.4444444444444444,
              "#bd3786"
             ],
             [
              0.5555555555555556,
              "#d8576b"
             ],
             [
              0.6666666666666666,
              "#ed7953"
             ],
             [
              0.7777777777777778,
              "#fb9f3a"
             ],
             [
              0.8888888888888888,
              "#fdca26"
             ],
             [
              1,
              "#f0f921"
             ]
            ],
            "type": "surface"
           }
          ],
          "table": [
           {
            "cells": {
             "fill": {
              "color": "#EBF0F8"
             },
             "line": {
              "color": "white"
             }
            },
            "header": {
             "fill": {
              "color": "#C8D4E3"
             },
             "line": {
              "color": "white"
             }
            },
            "type": "table"
           }
          ]
         },
         "layout": {
          "annotationdefaults": {
           "arrowcolor": "#2a3f5f",
           "arrowhead": 0,
           "arrowwidth": 1
          },
          "coloraxis": {
           "colorbar": {
            "outlinewidth": 0,
            "ticks": ""
           }
          },
          "colorscale": {
           "diverging": [
            [
             0,
             "#8e0152"
            ],
            [
             0.1,
             "#c51b7d"
            ],
            [
             0.2,
             "#de77ae"
            ],
            [
             0.3,
             "#f1b6da"
            ],
            [
             0.4,
             "#fde0ef"
            ],
            [
             0.5,
             "#f7f7f7"
            ],
            [
             0.6,
             "#e6f5d0"
            ],
            [
             0.7,
             "#b8e186"
            ],
            [
             0.8,
             "#7fbc41"
            ],
            [
             0.9,
             "#4d9221"
            ],
            [
             1,
             "#276419"
            ]
           ],
           "sequential": [
            [
             0,
             "#0d0887"
            ],
            [
             0.1111111111111111,
             "#46039f"
            ],
            [
             0.2222222222222222,
             "#7201a8"
            ],
            [
             0.3333333333333333,
             "#9c179e"
            ],
            [
             0.4444444444444444,
             "#bd3786"
            ],
            [
             0.5555555555555556,
             "#d8576b"
            ],
            [
             0.6666666666666666,
             "#ed7953"
            ],
            [
             0.7777777777777778,
             "#fb9f3a"
            ],
            [
             0.8888888888888888,
             "#fdca26"
            ],
            [
             1,
             "#f0f921"
            ]
           ],
           "sequentialminus": [
            [
             0,
             "#0d0887"
            ],
            [
             0.1111111111111111,
             "#46039f"
            ],
            [
             0.2222222222222222,
             "#7201a8"
            ],
            [
             0.3333333333333333,
             "#9c179e"
            ],
            [
             0.4444444444444444,
             "#bd3786"
            ],
            [
             0.5555555555555556,
             "#d8576b"
            ],
            [
             0.6666666666666666,
             "#ed7953"
            ],
            [
             0.7777777777777778,
             "#fb9f3a"
            ],
            [
             0.8888888888888888,
             "#fdca26"
            ],
            [
             1,
             "#f0f921"
            ]
           ]
          },
          "colorway": [
           "#636efa",
           "#EF553B",
           "#00cc96",
           "#ab63fa",
           "#FFA15A",
           "#19d3f3",
           "#FF6692",
           "#B6E880",
           "#FF97FF",
           "#FECB52"
          ],
          "font": {
           "color": "#2a3f5f"
          },
          "geo": {
           "bgcolor": "white",
           "lakecolor": "white",
           "landcolor": "#E5ECF6",
           "showlakes": true,
           "showland": true,
           "subunitcolor": "white"
          },
          "hoverlabel": {
           "align": "left"
          },
          "hovermode": "closest",
          "mapbox": {
           "style": "light"
          },
          "paper_bgcolor": "white",
          "plot_bgcolor": "#E5ECF6",
          "polar": {
           "angularaxis": {
            "gridcolor": "white",
            "linecolor": "white",
            "ticks": ""
           },
           "bgcolor": "#E5ECF6",
           "radialaxis": {
            "gridcolor": "white",
            "linecolor": "white",
            "ticks": ""
           }
          },
          "scene": {
           "xaxis": {
            "backgroundcolor": "#E5ECF6",
            "gridcolor": "white",
            "gridwidth": 2,
            "linecolor": "white",
            "showbackground": true,
            "ticks": "",
            "zerolinecolor": "white"
           },
           "yaxis": {
            "backgroundcolor": "#E5ECF6",
            "gridcolor": "white",
            "gridwidth": 2,
            "linecolor": "white",
            "showbackground": true,
            "ticks": "",
            "zerolinecolor": "white"
           },
           "zaxis": {
            "backgroundcolor": "#E5ECF6",
            "gridcolor": "white",
            "gridwidth": 2,
            "linecolor": "white",
            "showbackground": true,
            "ticks": "",
            "zerolinecolor": "white"
           }
          },
          "shapedefaults": {
           "line": {
            "color": "#2a3f5f"
           }
          },
          "ternary": {
           "aaxis": {
            "gridcolor": "white",
            "linecolor": "white",
            "ticks": ""
           },
           "baxis": {
            "gridcolor": "white",
            "linecolor": "white",
            "ticks": ""
           },
           "bgcolor": "#E5ECF6",
           "caxis": {
            "gridcolor": "white",
            "linecolor": "white",
            "ticks": ""
           }
          },
          "title": {
           "x": 0.05
          },
          "xaxis": {
           "automargin": true,
           "gridcolor": "white",
           "linecolor": "white",
           "ticks": "",
           "title": {
            "standoff": 15
           },
           "zerolinecolor": "white",
           "zerolinewidth": 2
          },
          "yaxis": {
           "automargin": true,
           "gridcolor": "white",
           "linecolor": "white",
           "ticks": "",
           "title": {
            "standoff": 15
           },
           "zerolinecolor": "white",
           "zerolinewidth": 2
          }
         }
        },
        "title": {
         "text": "Cuisine Type"
        }
       }
      },
      "text/html": [
       "<div>\n",
       "        \n",
       "        \n",
       "            <div id=\"9b61184a-0351-46b6-a87e-3367247d55af\" class=\"plotly-graph-div\" style=\"height:525px; width:100%;\"></div>\n",
       "            <script type=\"text/javascript\">\n",
       "                require([\"plotly\"], function(Plotly) {\n",
       "                    window.PLOTLYENV=window.PLOTLYENV || {};\n",
       "                    \n",
       "                if (document.getElementById(\"9b61184a-0351-46b6-a87e-3367247d55af\")) {\n",
       "                    Plotly.newPlot(\n",
       "                        '9b61184a-0351-46b6-a87e-3367247d55af',\n",
       "                        [{\"customdata\": [[\"italian\"], [\"american\"], [\"french\"], [\"japanese\"], [\"mexican\"], [\"pizza\"], [\"mediterranean\"], [\"new-american\"], [\"chinese\"], [\"greek\"], [\"seafood\"], [\"bakery\"], [\"thai\"], [\"sushi\"], [\"korean\"], [\"indian\"], [\"asian\"]], \"domain\": {\"x\": [0.0, 1.0], \"y\": [0.0, 1.0]}, \"hoverlabel\": {\"namelength\": 0}, \"hovertemplate\": \"cuisine_1=%{label}<br>sum=%{value}\", \"labels\": [\"italian\", \"american\", \"french\", \"japanese\", \"mexican\", \"pizza\", \"mediterranean\", \"new-american\", \"chinese\", \"greek\", \"seafood\", \"bakery\", \"thai\", \"sushi\", \"korean\", \"indian\", \"asian\"], \"legendgroup\": \"\", \"name\": \"\", \"showlegend\": true, \"textinfo\": \"percent+label\", \"textposition\": \"inside\", \"type\": \"pie\", \"values\": [135, 122, 49, 38, 37, 33, 31, 30, 28, 25, 25, 24, 18, 16, 16, 15, 14]}],\n",
       "                        {\"legend\": {\"tracegroupgap\": 0}, \"template\": {\"data\": {\"bar\": [{\"error_x\": {\"color\": \"#2a3f5f\"}, \"error_y\": {\"color\": \"#2a3f5f\"}, \"marker\": {\"line\": {\"color\": \"#E5ECF6\", \"width\": 0.5}}, \"type\": \"bar\"}], \"barpolar\": [{\"marker\": {\"line\": {\"color\": \"#E5ECF6\", \"width\": 0.5}}, \"type\": \"barpolar\"}], \"carpet\": [{\"aaxis\": {\"endlinecolor\": \"#2a3f5f\", \"gridcolor\": \"white\", \"linecolor\": \"white\", \"minorgridcolor\": \"white\", \"startlinecolor\": \"#2a3f5f\"}, \"baxis\": {\"endlinecolor\": \"#2a3f5f\", \"gridcolor\": \"white\", \"linecolor\": \"white\", \"minorgridcolor\": \"white\", \"startlinecolor\": \"#2a3f5f\"}, \"type\": \"carpet\"}], \"choropleth\": [{\"colorbar\": {\"outlinewidth\": 0, \"ticks\": \"\"}, \"type\": \"choropleth\"}], \"contour\": [{\"colorbar\": {\"outlinewidth\": 0, \"ticks\": \"\"}, \"colorscale\": [[0.0, \"#0d0887\"], [0.1111111111111111, \"#46039f\"], [0.2222222222222222, \"#7201a8\"], [0.3333333333333333, \"#9c179e\"], [0.4444444444444444, \"#bd3786\"], [0.5555555555555556, \"#d8576b\"], [0.6666666666666666, \"#ed7953\"], [0.7777777777777778, \"#fb9f3a\"], [0.8888888888888888, \"#fdca26\"], [1.0, \"#f0f921\"]], \"type\": \"contour\"}], \"contourcarpet\": [{\"colorbar\": {\"outlinewidth\": 0, \"ticks\": \"\"}, \"type\": \"contourcarpet\"}], \"heatmap\": [{\"colorbar\": {\"outlinewidth\": 0, \"ticks\": \"\"}, \"colorscale\": [[0.0, \"#0d0887\"], [0.1111111111111111, \"#46039f\"], [0.2222222222222222, \"#7201a8\"], [0.3333333333333333, \"#9c179e\"], [0.4444444444444444, \"#bd3786\"], [0.5555555555555556, \"#d8576b\"], [0.6666666666666666, \"#ed7953\"], [0.7777777777777778, \"#fb9f3a\"], [0.8888888888888888, \"#fdca26\"], [1.0, \"#f0f921\"]], \"type\": \"heatmap\"}], \"heatmapgl\": [{\"colorbar\": {\"outlinewidth\": 0, \"ticks\": \"\"}, \"colorscale\": [[0.0, \"#0d0887\"], [0.1111111111111111, \"#46039f\"], [0.2222222222222222, \"#7201a8\"], [0.3333333333333333, \"#9c179e\"], [0.4444444444444444, \"#bd3786\"], [0.5555555555555556, \"#d8576b\"], [0.6666666666666666, \"#ed7953\"], [0.7777777777777778, \"#fb9f3a\"], [0.8888888888888888, \"#fdca26\"], [1.0, \"#f0f921\"]], \"type\": \"heatmapgl\"}], \"histogram\": [{\"marker\": {\"colorbar\": {\"outlinewidth\": 0, \"ticks\": \"\"}}, \"type\": \"histogram\"}], \"histogram2d\": [{\"colorbar\": {\"outlinewidth\": 0, \"ticks\": \"\"}, \"colorscale\": [[0.0, \"#0d0887\"], [0.1111111111111111, \"#46039f\"], [0.2222222222222222, \"#7201a8\"], [0.3333333333333333, \"#9c179e\"], [0.4444444444444444, \"#bd3786\"], [0.5555555555555556, \"#d8576b\"], [0.6666666666666666, \"#ed7953\"], [0.7777777777777778, \"#fb9f3a\"], [0.8888888888888888, \"#fdca26\"], [1.0, \"#f0f921\"]], \"type\": \"histogram2d\"}], \"histogram2dcontour\": [{\"colorbar\": {\"outlinewidth\": 0, \"ticks\": \"\"}, \"colorscale\": [[0.0, \"#0d0887\"], [0.1111111111111111, \"#46039f\"], [0.2222222222222222, \"#7201a8\"], [0.3333333333333333, \"#9c179e\"], [0.4444444444444444, \"#bd3786\"], [0.5555555555555556, \"#d8576b\"], [0.6666666666666666, \"#ed7953\"], [0.7777777777777778, \"#fb9f3a\"], [0.8888888888888888, \"#fdca26\"], [1.0, \"#f0f921\"]], \"type\": \"histogram2dcontour\"}], \"mesh3d\": [{\"colorbar\": {\"outlinewidth\": 0, \"ticks\": \"\"}, \"type\": \"mesh3d\"}], \"parcoords\": [{\"line\": {\"colorbar\": {\"outlinewidth\": 0, \"ticks\": \"\"}}, \"type\": \"parcoords\"}], \"pie\": [{\"automargin\": true, \"type\": \"pie\"}], \"scatter\": [{\"marker\": {\"colorbar\": {\"outlinewidth\": 0, \"ticks\": \"\"}}, \"type\": \"scatter\"}], \"scatter3d\": [{\"line\": {\"colorbar\": {\"outlinewidth\": 0, \"ticks\": \"\"}}, \"marker\": {\"colorbar\": {\"outlinewidth\": 0, \"ticks\": \"\"}}, \"type\": \"scatter3d\"}], \"scattercarpet\": [{\"marker\": {\"colorbar\": {\"outlinewidth\": 0, \"ticks\": \"\"}}, \"type\": \"scattercarpet\"}], \"scattergeo\": [{\"marker\": {\"colorbar\": {\"outlinewidth\": 0, \"ticks\": \"\"}}, \"type\": \"scattergeo\"}], \"scattergl\": [{\"marker\": {\"colorbar\": {\"outlinewidth\": 0, \"ticks\": \"\"}}, \"type\": \"scattergl\"}], \"scattermapbox\": [{\"marker\": {\"colorbar\": {\"outlinewidth\": 0, \"ticks\": \"\"}}, \"type\": \"scattermapbox\"}], \"scatterpolar\": [{\"marker\": {\"colorbar\": {\"outlinewidth\": 0, \"ticks\": \"\"}}, \"type\": \"scatterpolar\"}], \"scatterpolargl\": [{\"marker\": {\"colorbar\": {\"outlinewidth\": 0, \"ticks\": \"\"}}, \"type\": \"scatterpolargl\"}], \"scatterternary\": [{\"marker\": {\"colorbar\": {\"outlinewidth\": 0, \"ticks\": \"\"}}, \"type\": \"scatterternary\"}], \"surface\": [{\"colorbar\": {\"outlinewidth\": 0, \"ticks\": \"\"}, \"colorscale\": [[0.0, \"#0d0887\"], [0.1111111111111111, \"#46039f\"], [0.2222222222222222, \"#7201a8\"], [0.3333333333333333, \"#9c179e\"], [0.4444444444444444, \"#bd3786\"], [0.5555555555555556, \"#d8576b\"], [0.6666666666666666, \"#ed7953\"], [0.7777777777777778, \"#fb9f3a\"], [0.8888888888888888, \"#fdca26\"], [1.0, \"#f0f921\"]], \"type\": \"surface\"}], \"table\": [{\"cells\": {\"fill\": {\"color\": \"#EBF0F8\"}, \"line\": {\"color\": \"white\"}}, \"header\": {\"fill\": {\"color\": \"#C8D4E3\"}, \"line\": {\"color\": \"white\"}}, \"type\": \"table\"}]}, \"layout\": {\"annotationdefaults\": {\"arrowcolor\": \"#2a3f5f\", \"arrowhead\": 0, \"arrowwidth\": 1}, \"coloraxis\": {\"colorbar\": {\"outlinewidth\": 0, \"ticks\": \"\"}}, \"colorscale\": {\"diverging\": [[0, \"#8e0152\"], [0.1, \"#c51b7d\"], [0.2, \"#de77ae\"], [0.3, \"#f1b6da\"], [0.4, \"#fde0ef\"], [0.5, \"#f7f7f7\"], [0.6, \"#e6f5d0\"], [0.7, \"#b8e186\"], [0.8, \"#7fbc41\"], [0.9, \"#4d9221\"], [1, \"#276419\"]], \"sequential\": [[0.0, \"#0d0887\"], [0.1111111111111111, \"#46039f\"], [0.2222222222222222, \"#7201a8\"], [0.3333333333333333, \"#9c179e\"], [0.4444444444444444, \"#bd3786\"], [0.5555555555555556, \"#d8576b\"], [0.6666666666666666, \"#ed7953\"], [0.7777777777777778, \"#fb9f3a\"], [0.8888888888888888, \"#fdca26\"], [1.0, \"#f0f921\"]], \"sequentialminus\": [[0.0, \"#0d0887\"], [0.1111111111111111, \"#46039f\"], [0.2222222222222222, \"#7201a8\"], [0.3333333333333333, \"#9c179e\"], [0.4444444444444444, \"#bd3786\"], [0.5555555555555556, \"#d8576b\"], [0.6666666666666666, \"#ed7953\"], [0.7777777777777778, \"#fb9f3a\"], [0.8888888888888888, \"#fdca26\"], [1.0, \"#f0f921\"]]}, \"colorway\": [\"#636efa\", \"#EF553B\", \"#00cc96\", \"#ab63fa\", \"#FFA15A\", \"#19d3f3\", \"#FF6692\", \"#B6E880\", \"#FF97FF\", \"#FECB52\"], \"font\": {\"color\": \"#2a3f5f\"}, \"geo\": {\"bgcolor\": \"white\", \"lakecolor\": \"white\", \"landcolor\": \"#E5ECF6\", \"showlakes\": true, \"showland\": true, \"subunitcolor\": \"white\"}, \"hoverlabel\": {\"align\": \"left\"}, \"hovermode\": \"closest\", \"mapbox\": {\"style\": \"light\"}, \"paper_bgcolor\": \"white\", \"plot_bgcolor\": \"#E5ECF6\", \"polar\": {\"angularaxis\": {\"gridcolor\": \"white\", \"linecolor\": \"white\", \"ticks\": \"\"}, \"bgcolor\": \"#E5ECF6\", \"radialaxis\": {\"gridcolor\": \"white\", \"linecolor\": \"white\", \"ticks\": \"\"}}, \"scene\": {\"xaxis\": {\"backgroundcolor\": \"#E5ECF6\", \"gridcolor\": \"white\", \"gridwidth\": 2, \"linecolor\": \"white\", \"showbackground\": true, \"ticks\": \"\", \"zerolinecolor\": \"white\"}, \"yaxis\": {\"backgroundcolor\": \"#E5ECF6\", \"gridcolor\": \"white\", \"gridwidth\": 2, \"linecolor\": \"white\", \"showbackground\": true, \"ticks\": \"\", \"zerolinecolor\": \"white\"}, \"zaxis\": {\"backgroundcolor\": \"#E5ECF6\", \"gridcolor\": \"white\", \"gridwidth\": 2, \"linecolor\": \"white\", \"showbackground\": true, \"ticks\": \"\", \"zerolinecolor\": \"white\"}}, \"shapedefaults\": {\"line\": {\"color\": \"#2a3f5f\"}}, \"ternary\": {\"aaxis\": {\"gridcolor\": \"white\", \"linecolor\": \"white\", \"ticks\": \"\"}, \"baxis\": {\"gridcolor\": \"white\", \"linecolor\": \"white\", \"ticks\": \"\"}, \"bgcolor\": \"#E5ECF6\", \"caxis\": {\"gridcolor\": \"white\", \"linecolor\": \"white\", \"ticks\": \"\"}}, \"title\": {\"x\": 0.05}, \"xaxis\": {\"automargin\": true, \"gridcolor\": \"white\", \"linecolor\": \"white\", \"ticks\": \"\", \"title\": {\"standoff\": 15}, \"zerolinecolor\": \"white\", \"zerolinewidth\": 2}, \"yaxis\": {\"automargin\": true, \"gridcolor\": \"white\", \"linecolor\": \"white\", \"ticks\": \"\", \"title\": {\"standoff\": 15}, \"zerolinecolor\": \"white\", \"zerolinewidth\": 2}}}, \"title\": {\"text\": \"Cuisine Type\"}},\n",
       "                        {\"responsive\": true}\n",
       "                    ).then(function(){\n",
       "                            \n",
       "var gd = document.getElementById('9b61184a-0351-46b6-a87e-3367247d55af');\n",
       "var x = new MutationObserver(function (mutations, observer) {{\n",
       "        var display = window.getComputedStyle(gd).display;\n",
       "        if (!display || display === 'none') {{\n",
       "            console.log([gd, 'removed!']);\n",
       "            Plotly.purge(gd);\n",
       "            observer.disconnect();\n",
       "        }}\n",
       "}});\n",
       "\n",
       "// Listen for the removal of the full notebook cells\n",
       "var notebookContainer = gd.closest('#notebook-container');\n",
       "if (notebookContainer) {{\n",
       "    x.observe(notebookContainer, {childList: true});\n",
       "}}\n",
       "\n",
       "// Listen for the clearing of the current output cell\n",
       "var outputEl = gd.closest('.output');\n",
       "if (outputEl) {{\n",
       "    x.observe(outputEl, {childList: true});\n",
       "}}\n",
       "\n",
       "                        })\n",
       "                };\n",
       "                });\n",
       "            </script>\n",
       "        </div>"
      ]
     },
     "metadata": {},
     "output_type": "display_data"
    }
   ],
   "source": [
    "import plotly.express as px\n",
    "fig = px.pie(cuisine_count.sort_values('sum', ascending=False).head(17), values='sum', names='cuisine_1',\n",
    "             title='Cuisine Type',\n",
    "             hover_data=['cuisine_1'])\n",
    "fig.update_traces(textposition='inside', textinfo='percent+label')\n",
    "fig.show()"
   ]
  },
  {
   "cell_type": "code",
   "execution_count": 36,
   "metadata": {},
   "outputs": [
    {
     "data": {
      "text/html": [
       "<div>\n",
       "<style scoped>\n",
       "    .dataframe tbody tr th:only-of-type {\n",
       "        vertical-align: middle;\n",
       "    }\n",
       "\n",
       "    .dataframe tbody tr th {\n",
       "        vertical-align: top;\n",
       "    }\n",
       "\n",
       "    .dataframe thead th {\n",
       "        text-align: right;\n",
       "    }\n",
       "</style>\n",
       "<table border=\"1\" class=\"dataframe\">\n",
       "  <thead>\n",
       "    <tr style=\"text-align: right;\">\n",
       "      <th></th>\n",
       "      <th>Unnamed: 0</th>\n",
       "      <th>cuisine_1</th>\n",
       "      <th>east-village</th>\n",
       "      <th>williamsburg</th>\n",
       "      <th>lower-east-side</th>\n",
       "      <th>greenwich-village</th>\n",
       "      <th>midtown-west</th>\n",
       "      <th>upper-west-side</th>\n",
       "      <th>upper-east-side</th>\n",
       "      <th>greenpoint</th>\n",
       "      <th>...</th>\n",
       "      <th>astoria</th>\n",
       "      <th>flatiron-district</th>\n",
       "      <th>chelsea</th>\n",
       "      <th>harlem</th>\n",
       "      <th>park-slope</th>\n",
       "      <th>financial-district</th>\n",
       "      <th>hell-s-kitchen</th>\n",
       "      <th>chinatown</th>\n",
       "      <th>midtown-east</th>\n",
       "      <th>sum</th>\n",
       "    </tr>\n",
       "  </thead>\n",
       "  <tbody>\n",
       "    <tr>\n",
       "      <td>0</td>\n",
       "      <td>1</td>\n",
       "      <td>american</td>\n",
       "      <td>5.0</td>\n",
       "      <td>9.0</td>\n",
       "      <td>4.0</td>\n",
       "      <td>6.0</td>\n",
       "      <td>7.0</td>\n",
       "      <td>8.0</td>\n",
       "      <td>1.0</td>\n",
       "      <td>5.0</td>\n",
       "      <td>...</td>\n",
       "      <td>2.0</td>\n",
       "      <td>3.0</td>\n",
       "      <td>7.0</td>\n",
       "      <td>8.0</td>\n",
       "      <td>5.0</td>\n",
       "      <td>3.0</td>\n",
       "      <td>3.0</td>\n",
       "      <td>0.0</td>\n",
       "      <td>1.0</td>\n",
       "      <td>143.0</td>\n",
       "    </tr>\n",
       "    <tr>\n",
       "      <td>1</td>\n",
       "      <td>30</td>\n",
       "      <td>italian</td>\n",
       "      <td>10.0</td>\n",
       "      <td>8.0</td>\n",
       "      <td>3.0</td>\n",
       "      <td>10.0</td>\n",
       "      <td>4.0</td>\n",
       "      <td>4.0</td>\n",
       "      <td>7.0</td>\n",
       "      <td>4.0</td>\n",
       "      <td>...</td>\n",
       "      <td>3.0</td>\n",
       "      <td>7.0</td>\n",
       "      <td>3.0</td>\n",
       "      <td>2.0</td>\n",
       "      <td>2.0</td>\n",
       "      <td>4.0</td>\n",
       "      <td>3.0</td>\n",
       "      <td>1.0</td>\n",
       "      <td>3.0</td>\n",
       "      <td>138.0</td>\n",
       "    </tr>\n",
       "    <tr>\n",
       "      <td>2</td>\n",
       "      <td>20</td>\n",
       "      <td>french</td>\n",
       "      <td>1.0</td>\n",
       "      <td>3.0</td>\n",
       "      <td>3.0</td>\n",
       "      <td>1.0</td>\n",
       "      <td>2.0</td>\n",
       "      <td>2.0</td>\n",
       "      <td>5.0</td>\n",
       "      <td>4.0</td>\n",
       "      <td>...</td>\n",
       "      <td>0.0</td>\n",
       "      <td>1.0</td>\n",
       "      <td>0.0</td>\n",
       "      <td>1.0</td>\n",
       "      <td>3.0</td>\n",
       "      <td>1.0</td>\n",
       "      <td>1.0</td>\n",
       "      <td>0.0</td>\n",
       "      <td>1.0</td>\n",
       "      <td>53.0</td>\n",
       "    </tr>\n",
       "    <tr>\n",
       "      <td>3</td>\n",
       "      <td>39</td>\n",
       "      <td>mexican</td>\n",
       "      <td>2.0</td>\n",
       "      <td>4.0</td>\n",
       "      <td>2.0</td>\n",
       "      <td>1.0</td>\n",
       "      <td>1.0</td>\n",
       "      <td>1.0</td>\n",
       "      <td>2.0</td>\n",
       "      <td>2.0</td>\n",
       "      <td>...</td>\n",
       "      <td>1.0</td>\n",
       "      <td>1.0</td>\n",
       "      <td>0.0</td>\n",
       "      <td>2.0</td>\n",
       "      <td>2.0</td>\n",
       "      <td>1.0</td>\n",
       "      <td>2.0</td>\n",
       "      <td>0.0</td>\n",
       "      <td>0.0</td>\n",
       "      <td>40.0</td>\n",
       "    </tr>\n",
       "    <tr>\n",
       "      <td>4</td>\n",
       "      <td>31</td>\n",
       "      <td>japanese</td>\n",
       "      <td>3.0</td>\n",
       "      <td>4.0</td>\n",
       "      <td>3.0</td>\n",
       "      <td>5.0</td>\n",
       "      <td>3.0</td>\n",
       "      <td>1.0</td>\n",
       "      <td>0.0</td>\n",
       "      <td>0.0</td>\n",
       "      <td>...</td>\n",
       "      <td>0.0</td>\n",
       "      <td>3.0</td>\n",
       "      <td>0.0</td>\n",
       "      <td>0.0</td>\n",
       "      <td>0.0</td>\n",
       "      <td>0.0</td>\n",
       "      <td>1.0</td>\n",
       "      <td>1.0</td>\n",
       "      <td>1.0</td>\n",
       "      <td>39.0</td>\n",
       "    </tr>\n",
       "    <tr>\n",
       "      <td>5</td>\n",
       "      <td>38</td>\n",
       "      <td>mediterranean</td>\n",
       "      <td>0.0</td>\n",
       "      <td>7.0</td>\n",
       "      <td>1.0</td>\n",
       "      <td>0.0</td>\n",
       "      <td>0.0</td>\n",
       "      <td>8.0</td>\n",
       "      <td>0.0</td>\n",
       "      <td>2.0</td>\n",
       "      <td>...</td>\n",
       "      <td>0.0</td>\n",
       "      <td>0.0</td>\n",
       "      <td>0.0</td>\n",
       "      <td>2.0</td>\n",
       "      <td>0.0</td>\n",
       "      <td>0.0</td>\n",
       "      <td>1.0</td>\n",
       "      <td>0.0</td>\n",
       "      <td>0.0</td>\n",
       "      <td>35.0</td>\n",
       "    </tr>\n",
       "    <tr>\n",
       "      <td>6</td>\n",
       "      <td>45</td>\n",
       "      <td>pizza</td>\n",
       "      <td>4.0</td>\n",
       "      <td>3.0</td>\n",
       "      <td>1.0</td>\n",
       "      <td>1.0</td>\n",
       "      <td>0.0</td>\n",
       "      <td>0.0</td>\n",
       "      <td>1.0</td>\n",
       "      <td>2.0</td>\n",
       "      <td>...</td>\n",
       "      <td>0.0</td>\n",
       "      <td>1.0</td>\n",
       "      <td>2.0</td>\n",
       "      <td>1.0</td>\n",
       "      <td>2.0</td>\n",
       "      <td>1.0</td>\n",
       "      <td>0.0</td>\n",
       "      <td>1.0</td>\n",
       "      <td>0.0</td>\n",
       "      <td>33.0</td>\n",
       "    </tr>\n",
       "    <tr>\n",
       "      <td>7</td>\n",
       "      <td>42</td>\n",
       "      <td>new-american</td>\n",
       "      <td>1.0</td>\n",
       "      <td>3.0</td>\n",
       "      <td>1.0</td>\n",
       "      <td>3.0</td>\n",
       "      <td>2.0</td>\n",
       "      <td>0.0</td>\n",
       "      <td>0.0</td>\n",
       "      <td>1.0</td>\n",
       "      <td>...</td>\n",
       "      <td>0.0</td>\n",
       "      <td>3.0</td>\n",
       "      <td>0.0</td>\n",
       "      <td>0.0</td>\n",
       "      <td>1.0</td>\n",
       "      <td>1.0</td>\n",
       "      <td>0.0</td>\n",
       "      <td>1.0</td>\n",
       "      <td>0.0</td>\n",
       "      <td>31.0</td>\n",
       "    </tr>\n",
       "    <tr>\n",
       "      <td>8</td>\n",
       "      <td>12</td>\n",
       "      <td>chinese</td>\n",
       "      <td>4.0</td>\n",
       "      <td>3.0</td>\n",
       "      <td>3.0</td>\n",
       "      <td>1.0</td>\n",
       "      <td>0.0</td>\n",
       "      <td>2.0</td>\n",
       "      <td>0.0</td>\n",
       "      <td>0.0</td>\n",
       "      <td>...</td>\n",
       "      <td>1.0</td>\n",
       "      <td>2.0</td>\n",
       "      <td>0.0</td>\n",
       "      <td>1.0</td>\n",
       "      <td>0.0</td>\n",
       "      <td>2.0</td>\n",
       "      <td>0.0</td>\n",
       "      <td>3.0</td>\n",
       "      <td>0.0</td>\n",
       "      <td>29.0</td>\n",
       "    </tr>\n",
       "    <tr>\n",
       "      <td>9</td>\n",
       "      <td>53</td>\n",
       "      <td>seafood</td>\n",
       "      <td>2.0</td>\n",
       "      <td>0.0</td>\n",
       "      <td>3.0</td>\n",
       "      <td>1.0</td>\n",
       "      <td>0.0</td>\n",
       "      <td>2.0</td>\n",
       "      <td>0.0</td>\n",
       "      <td>1.0</td>\n",
       "      <td>...</td>\n",
       "      <td>2.0</td>\n",
       "      <td>0.0</td>\n",
       "      <td>0.0</td>\n",
       "      <td>0.0</td>\n",
       "      <td>0.0</td>\n",
       "      <td>3.0</td>\n",
       "      <td>0.0</td>\n",
       "      <td>0.0</td>\n",
       "      <td>0.0</td>\n",
       "      <td>28.0</td>\n",
       "    </tr>\n",
       "    <tr>\n",
       "      <td>10</td>\n",
       "      <td>66</td>\n",
       "      <td>wine-bar-with-food</td>\n",
       "      <td>0.0</td>\n",
       "      <td>1.0</td>\n",
       "      <td>1.0</td>\n",
       "      <td>1.0</td>\n",
       "      <td>0.0</td>\n",
       "      <td>1.0</td>\n",
       "      <td>2.0</td>\n",
       "      <td>0.0</td>\n",
       "      <td>...</td>\n",
       "      <td>0.0</td>\n",
       "      <td>0.0</td>\n",
       "      <td>2.0</td>\n",
       "      <td>1.0</td>\n",
       "      <td>1.0</td>\n",
       "      <td>0.0</td>\n",
       "      <td>0.0</td>\n",
       "      <td>0.0</td>\n",
       "      <td>0.0</td>\n",
       "      <td>26.0</td>\n",
       "    </tr>\n",
       "    <tr>\n",
       "      <td>11</td>\n",
       "      <td>23</td>\n",
       "      <td>greek</td>\n",
       "      <td>1.0</td>\n",
       "      <td>1.0</td>\n",
       "      <td>1.0</td>\n",
       "      <td>1.0</td>\n",
       "      <td>1.0</td>\n",
       "      <td>2.0</td>\n",
       "      <td>0.0</td>\n",
       "      <td>0.0</td>\n",
       "      <td>...</td>\n",
       "      <td>8.0</td>\n",
       "      <td>1.0</td>\n",
       "      <td>2.0</td>\n",
       "      <td>0.0</td>\n",
       "      <td>0.0</td>\n",
       "      <td>0.0</td>\n",
       "      <td>1.0</td>\n",
       "      <td>0.0</td>\n",
       "      <td>1.0</td>\n",
       "      <td>26.0</td>\n",
       "    </tr>\n",
       "    <tr>\n",
       "      <td>12</td>\n",
       "      <td>6</td>\n",
       "      <td>bakery</td>\n",
       "      <td>1.0</td>\n",
       "      <td>0.0</td>\n",
       "      <td>1.0</td>\n",
       "      <td>0.0</td>\n",
       "      <td>1.0</td>\n",
       "      <td>2.0</td>\n",
       "      <td>0.0</td>\n",
       "      <td>0.0</td>\n",
       "      <td>...</td>\n",
       "      <td>0.0</td>\n",
       "      <td>0.0</td>\n",
       "      <td>2.0</td>\n",
       "      <td>0.0</td>\n",
       "      <td>1.0</td>\n",
       "      <td>0.0</td>\n",
       "      <td>0.0</td>\n",
       "      <td>0.0</td>\n",
       "      <td>0.0</td>\n",
       "      <td>25.0</td>\n",
       "    </tr>\n",
       "    <tr>\n",
       "      <td>13</td>\n",
       "      <td>59</td>\n",
       "      <td>thai</td>\n",
       "      <td>3.0</td>\n",
       "      <td>2.0</td>\n",
       "      <td>2.0</td>\n",
       "      <td>0.0</td>\n",
       "      <td>0.0</td>\n",
       "      <td>2.0</td>\n",
       "      <td>1.0</td>\n",
       "      <td>0.0</td>\n",
       "      <td>...</td>\n",
       "      <td>0.0</td>\n",
       "      <td>1.0</td>\n",
       "      <td>0.0</td>\n",
       "      <td>0.0</td>\n",
       "      <td>0.0</td>\n",
       "      <td>0.0</td>\n",
       "      <td>1.0</td>\n",
       "      <td>0.0</td>\n",
       "      <td>0.0</td>\n",
       "      <td>20.0</td>\n",
       "    </tr>\n",
       "    <tr>\n",
       "      <td>14</td>\n",
       "      <td>33</td>\n",
       "      <td>korean</td>\n",
       "      <td>3.0</td>\n",
       "      <td>3.0</td>\n",
       "      <td>0.0</td>\n",
       "      <td>0.0</td>\n",
       "      <td>2.0</td>\n",
       "      <td>0.0</td>\n",
       "      <td>0.0</td>\n",
       "      <td>0.0</td>\n",
       "      <td>...</td>\n",
       "      <td>0.0</td>\n",
       "      <td>2.0</td>\n",
       "      <td>0.0</td>\n",
       "      <td>0.0</td>\n",
       "      <td>1.0</td>\n",
       "      <td>0.0</td>\n",
       "      <td>1.0</td>\n",
       "      <td>0.0</td>\n",
       "      <td>0.0</td>\n",
       "      <td>16.0</td>\n",
       "    </tr>\n",
       "    <tr>\n",
       "      <td>15</td>\n",
       "      <td>27</td>\n",
       "      <td>indian</td>\n",
       "      <td>1.0</td>\n",
       "      <td>0.0</td>\n",
       "      <td>2.0</td>\n",
       "      <td>0.0</td>\n",
       "      <td>0.0</td>\n",
       "      <td>1.0</td>\n",
       "      <td>1.0</td>\n",
       "      <td>0.0</td>\n",
       "      <td>...</td>\n",
       "      <td>0.0</td>\n",
       "      <td>2.0</td>\n",
       "      <td>0.0</td>\n",
       "      <td>1.0</td>\n",
       "      <td>0.0</td>\n",
       "      <td>0.0</td>\n",
       "      <td>0.0</td>\n",
       "      <td>0.0</td>\n",
       "      <td>1.0</td>\n",
       "      <td>16.0</td>\n",
       "    </tr>\n",
       "    <tr>\n",
       "      <td>16</td>\n",
       "      <td>56</td>\n",
       "      <td>sushi</td>\n",
       "      <td>3.0</td>\n",
       "      <td>1.0</td>\n",
       "      <td>0.0</td>\n",
       "      <td>0.0</td>\n",
       "      <td>2.0</td>\n",
       "      <td>1.0</td>\n",
       "      <td>5.0</td>\n",
       "      <td>0.0</td>\n",
       "      <td>...</td>\n",
       "      <td>0.0</td>\n",
       "      <td>0.0</td>\n",
       "      <td>0.0</td>\n",
       "      <td>0.0</td>\n",
       "      <td>0.0</td>\n",
       "      <td>0.0</td>\n",
       "      <td>0.0</td>\n",
       "      <td>0.0</td>\n",
       "      <td>0.0</td>\n",
       "      <td>16.0</td>\n",
       "    </tr>\n",
       "    <tr>\n",
       "      <td>17</td>\n",
       "      <td>3</td>\n",
       "      <td>asian</td>\n",
       "      <td>2.0</td>\n",
       "      <td>1.0</td>\n",
       "      <td>2.0</td>\n",
       "      <td>1.0</td>\n",
       "      <td>0.0</td>\n",
       "      <td>1.0</td>\n",
       "      <td>0.0</td>\n",
       "      <td>0.0</td>\n",
       "      <td>...</td>\n",
       "      <td>0.0</td>\n",
       "      <td>0.0</td>\n",
       "      <td>0.0</td>\n",
       "      <td>0.0</td>\n",
       "      <td>2.0</td>\n",
       "      <td>0.0</td>\n",
       "      <td>0.0</td>\n",
       "      <td>0.0</td>\n",
       "      <td>1.0</td>\n",
       "      <td>15.0</td>\n",
       "    </tr>\n",
       "    <tr>\n",
       "      <td>18</td>\n",
       "      <td>63</td>\n",
       "      <td>vegan</td>\n",
       "      <td>2.0</td>\n",
       "      <td>1.0</td>\n",
       "      <td>2.0</td>\n",
       "      <td>3.0</td>\n",
       "      <td>1.0</td>\n",
       "      <td>0.0</td>\n",
       "      <td>0.0</td>\n",
       "      <td>1.0</td>\n",
       "      <td>...</td>\n",
       "      <td>0.0</td>\n",
       "      <td>0.0</td>\n",
       "      <td>0.0</td>\n",
       "      <td>0.0</td>\n",
       "      <td>0.0</td>\n",
       "      <td>0.0</td>\n",
       "      <td>0.0</td>\n",
       "      <td>0.0</td>\n",
       "      <td>1.0</td>\n",
       "      <td>15.0</td>\n",
       "    </tr>\n",
       "    <tr>\n",
       "      <td>19</td>\n",
       "      <td>35</td>\n",
       "      <td>latin</td>\n",
       "      <td>2.0</td>\n",
       "      <td>2.0</td>\n",
       "      <td>1.0</td>\n",
       "      <td>0.0</td>\n",
       "      <td>0.0</td>\n",
       "      <td>0.0</td>\n",
       "      <td>0.0</td>\n",
       "      <td>0.0</td>\n",
       "      <td>...</td>\n",
       "      <td>1.0</td>\n",
       "      <td>0.0</td>\n",
       "      <td>0.0</td>\n",
       "      <td>1.0</td>\n",
       "      <td>1.0</td>\n",
       "      <td>0.0</td>\n",
       "      <td>0.0</td>\n",
       "      <td>0.0</td>\n",
       "      <td>0.0</td>\n",
       "      <td>14.0</td>\n",
       "    </tr>\n",
       "  </tbody>\n",
       "</table>\n",
       "<p>20 rows × 23 columns</p>\n",
       "</div>"
      ],
      "text/plain": [
       "    Unnamed: 0           cuisine_1  east-village  williamsburg  \\\n",
       "0            1            american           5.0           9.0   \n",
       "1           30             italian          10.0           8.0   \n",
       "2           20              french           1.0           3.0   \n",
       "3           39             mexican           2.0           4.0   \n",
       "4           31            japanese           3.0           4.0   \n",
       "5           38       mediterranean           0.0           7.0   \n",
       "6           45               pizza           4.0           3.0   \n",
       "7           42        new-american           1.0           3.0   \n",
       "8           12             chinese           4.0           3.0   \n",
       "9           53             seafood           2.0           0.0   \n",
       "10          66  wine-bar-with-food           0.0           1.0   \n",
       "11          23               greek           1.0           1.0   \n",
       "12           6              bakery           1.0           0.0   \n",
       "13          59                thai           3.0           2.0   \n",
       "14          33              korean           3.0           3.0   \n",
       "15          27              indian           1.0           0.0   \n",
       "16          56               sushi           3.0           1.0   \n",
       "17           3               asian           2.0           1.0   \n",
       "18          63               vegan           2.0           1.0   \n",
       "19          35               latin           2.0           2.0   \n",
       "\n",
       "    lower-east-side  greenwich-village  midtown-west  upper-west-side  \\\n",
       "0               4.0                6.0           7.0              8.0   \n",
       "1               3.0               10.0           4.0              4.0   \n",
       "2               3.0                1.0           2.0              2.0   \n",
       "3               2.0                1.0           1.0              1.0   \n",
       "4               3.0                5.0           3.0              1.0   \n",
       "5               1.0                0.0           0.0              8.0   \n",
       "6               1.0                1.0           0.0              0.0   \n",
       "7               1.0                3.0           2.0              0.0   \n",
       "8               3.0                1.0           0.0              2.0   \n",
       "9               3.0                1.0           0.0              2.0   \n",
       "10              1.0                1.0           0.0              1.0   \n",
       "11              1.0                1.0           1.0              2.0   \n",
       "12              1.0                0.0           1.0              2.0   \n",
       "13              2.0                0.0           0.0              2.0   \n",
       "14              0.0                0.0           2.0              0.0   \n",
       "15              2.0                0.0           0.0              1.0   \n",
       "16              0.0                0.0           2.0              1.0   \n",
       "17              2.0                1.0           0.0              1.0   \n",
       "18              2.0                3.0           1.0              0.0   \n",
       "19              1.0                0.0           0.0              0.0   \n",
       "\n",
       "    upper-east-side  greenpoint  ...  astoria  flatiron-district  chelsea  \\\n",
       "0               1.0         5.0  ...      2.0                3.0      7.0   \n",
       "1               7.0         4.0  ...      3.0                7.0      3.0   \n",
       "2               5.0         4.0  ...      0.0                1.0      0.0   \n",
       "3               2.0         2.0  ...      1.0                1.0      0.0   \n",
       "4               0.0         0.0  ...      0.0                3.0      0.0   \n",
       "5               0.0         2.0  ...      0.0                0.0      0.0   \n",
       "6               1.0         2.0  ...      0.0                1.0      2.0   \n",
       "7               0.0         1.0  ...      0.0                3.0      0.0   \n",
       "8               0.0         0.0  ...      1.0                2.0      0.0   \n",
       "9               0.0         1.0  ...      2.0                0.0      0.0   \n",
       "10              2.0         0.0  ...      0.0                0.0      2.0   \n",
       "11              0.0         0.0  ...      8.0                1.0      2.0   \n",
       "12              0.0         0.0  ...      0.0                0.0      2.0   \n",
       "13              1.0         0.0  ...      0.0                1.0      0.0   \n",
       "14              0.0         0.0  ...      0.0                2.0      0.0   \n",
       "15              1.0         0.0  ...      0.0                2.0      0.0   \n",
       "16              5.0         0.0  ...      0.0                0.0      0.0   \n",
       "17              0.0         0.0  ...      0.0                0.0      0.0   \n",
       "18              0.0         1.0  ...      0.0                0.0      0.0   \n",
       "19              0.0         0.0  ...      1.0                0.0      0.0   \n",
       "\n",
       "    harlem  park-slope  financial-district  hell-s-kitchen  chinatown  \\\n",
       "0      8.0         5.0                 3.0             3.0        0.0   \n",
       "1      2.0         2.0                 4.0             3.0        1.0   \n",
       "2      1.0         3.0                 1.0             1.0        0.0   \n",
       "3      2.0         2.0                 1.0             2.0        0.0   \n",
       "4      0.0         0.0                 0.0             1.0        1.0   \n",
       "5      2.0         0.0                 0.0             1.0        0.0   \n",
       "6      1.0         2.0                 1.0             0.0        1.0   \n",
       "7      0.0         1.0                 1.0             0.0        1.0   \n",
       "8      1.0         0.0                 2.0             0.0        3.0   \n",
       "9      0.0         0.0                 3.0             0.0        0.0   \n",
       "10     1.0         1.0                 0.0             0.0        0.0   \n",
       "11     0.0         0.0                 0.0             1.0        0.0   \n",
       "12     0.0         1.0                 0.0             0.0        0.0   \n",
       "13     0.0         0.0                 0.0             1.0        0.0   \n",
       "14     0.0         1.0                 0.0             1.0        0.0   \n",
       "15     1.0         0.0                 0.0             0.0        0.0   \n",
       "16     0.0         0.0                 0.0             0.0        0.0   \n",
       "17     0.0         2.0                 0.0             0.0        0.0   \n",
       "18     0.0         0.0                 0.0             0.0        0.0   \n",
       "19     1.0         1.0                 0.0             0.0        0.0   \n",
       "\n",
       "    midtown-east    sum  \n",
       "0            1.0  143.0  \n",
       "1            3.0  138.0  \n",
       "2            1.0   53.0  \n",
       "3            0.0   40.0  \n",
       "4            1.0   39.0  \n",
       "5            0.0   35.0  \n",
       "6            0.0   33.0  \n",
       "7            0.0   31.0  \n",
       "8            0.0   29.0  \n",
       "9            0.0   28.0  \n",
       "10           0.0   26.0  \n",
       "11           1.0   26.0  \n",
       "12           0.0   25.0  \n",
       "13           0.0   20.0  \n",
       "14           0.0   16.0  \n",
       "15           1.0   16.0  \n",
       "16           0.0   16.0  \n",
       "17           1.0   15.0  \n",
       "18           1.0   15.0  \n",
       "19           0.0   14.0  \n",
       "\n",
       "[20 rows x 23 columns]"
      ]
     },
     "execution_count": 36,
     "metadata": {},
     "output_type": "execute_result"
    }
   ],
   "source": [
    "tops"
   ]
  },
  {
   "cell_type": "code",
   "execution_count": null,
   "metadata": {},
   "outputs": [],
   "source": []
  },
  {
   "cell_type": "code",
   "execution_count": 27,
   "metadata": {},
   "outputs": [
    {
     "data": {
      "text/html": [
       "        <script type=\"text/javascript\">\n",
       "        window.PlotlyConfig = {MathJaxConfig: 'local'};\n",
       "        if (window.MathJax) {MathJax.Hub.Config({SVG: {font: \"STIX-Web\"}});}\n",
       "        if (typeof require !== 'undefined') {\n",
       "        require.undef(\"plotly\");\n",
       "        requirejs.config({\n",
       "            paths: {\n",
       "                'plotly': ['https://cdn.plot.ly/plotly-latest.min']\n",
       "            }\n",
       "        });\n",
       "        require(['plotly'], function(Plotly) {\n",
       "            window._Plotly = Plotly;\n",
       "        });\n",
       "        }\n",
       "        </script>\n",
       "        "
      ]
     },
     "metadata": {},
     "output_type": "display_data"
    },
    {
     "data": {
      "application/vnd.plotly.v1+json": {
       "config": {
        "plotlyServerURL": "https://plot.ly"
       },
       "data": [
        {
         "name": "american",
         "type": "bar",
         "x": [
          "williamsburg",
          "east-village",
          "lower-east-side",
          "upper-west-side",
          "greenwich-village",
          "west-village",
          "upper-east-side",
          "midtown-west",
          "flatiron-district",
          "soho",
          "harlem",
          "greenpoint",
          "astoria",
          "park-slope",
          "chelsea",
          "financial-district",
          "bushwick",
          "hell-s-kitchen",
          "tribeca",
          "gramercy-park"
         ],
         "y": [
          9,
          5,
          4,
          8,
          6,
          11,
          1,
          7,
          3,
          2,
          8,
          5,
          2,
          5,
          7,
          3,
          2,
          3,
          2,
          2
         ]
        },
        {
         "name": "italian",
         "type": "bar",
         "x": [
          "williamsburg",
          "east-village",
          "lower-east-side",
          "upper-west-side",
          "greenwich-village",
          "west-village",
          "upper-east-side",
          "midtown-west",
          "flatiron-district",
          "soho",
          "harlem",
          "greenpoint",
          "astoria",
          "park-slope",
          "chelsea",
          "financial-district",
          "bushwick",
          "hell-s-kitchen",
          "tribeca",
          "gramercy-park"
         ],
         "y": [
          8,
          10,
          3,
          4,
          10,
          3,
          7,
          4,
          7,
          9,
          2,
          4,
          3,
          2,
          3,
          4,
          4,
          3,
          4,
          0
         ]
        },
        {
         "name": "french",
         "type": "bar",
         "x": [
          "williamsburg",
          "east-village",
          "lower-east-side",
          "upper-west-side",
          "greenwich-village",
          "west-village",
          "upper-east-side",
          "midtown-west",
          "flatiron-district",
          "soho",
          "harlem",
          "greenpoint",
          "astoria",
          "park-slope",
          "chelsea",
          "financial-district",
          "bushwick",
          "hell-s-kitchen",
          "tribeca",
          "gramercy-park"
         ],
         "y": [
          3,
          1,
          3,
          2,
          1,
          1,
          5,
          2,
          1,
          5,
          1,
          4,
          0,
          3,
          0,
          1,
          1,
          1,
          1,
          3
         ]
        },
        {
         "name": "mexican",
         "type": "bar",
         "x": [
          "williamsburg",
          "east-village",
          "lower-east-side",
          "upper-west-side",
          "greenwich-village",
          "west-village",
          "upper-east-side",
          "midtown-west",
          "flatiron-district",
          "soho",
          "harlem",
          "greenpoint",
          "astoria",
          "park-slope",
          "chelsea",
          "financial-district",
          "bushwick",
          "hell-s-kitchen",
          "tribeca",
          "gramercy-park"
         ],
         "y": [
          4,
          2,
          2,
          1,
          1,
          1,
          2,
          1,
          1,
          0,
          2,
          2,
          1,
          2,
          0,
          1,
          0,
          2,
          0,
          1
         ]
        },
        {
         "name": "japanese",
         "type": "bar",
         "x": [
          "williamsburg",
          "east-village",
          "lower-east-side",
          "upper-west-side",
          "greenwich-village",
          "west-village",
          "upper-east-side",
          "midtown-west",
          "flatiron-district",
          "soho",
          "harlem",
          "greenpoint",
          "astoria",
          "park-slope",
          "chelsea",
          "financial-district",
          "bushwick",
          "hell-s-kitchen",
          "tribeca",
          "gramercy-park"
         ],
         "y": [
          4,
          3,
          3,
          1,
          5,
          1,
          0,
          3,
          3,
          2,
          0,
          0,
          0,
          0,
          0,
          0,
          0,
          1,
          0,
          0
         ]
        },
        {
         "name": "mediterranean",
         "type": "bar",
         "x": [
          "williamsburg",
          "east-village",
          "lower-east-side",
          "upper-west-side",
          "greenwich-village",
          "west-village",
          "upper-east-side",
          "midtown-west",
          "flatiron-district",
          "soho",
          "harlem",
          "greenpoint",
          "astoria",
          "park-slope",
          "chelsea",
          "financial-district",
          "bushwick",
          "hell-s-kitchen",
          "tribeca",
          "gramercy-park"
         ],
         "y": [
          7,
          0,
          1,
          8,
          0,
          1,
          0,
          0,
          0,
          1,
          2,
          2,
          0,
          0,
          0,
          0,
          0,
          1,
          1,
          0
         ]
        },
        {
         "name": "pizza",
         "type": "bar",
         "x": [
          "williamsburg",
          "east-village",
          "lower-east-side",
          "upper-west-side",
          "greenwich-village",
          "west-village",
          "upper-east-side",
          "midtown-west",
          "flatiron-district",
          "soho",
          "harlem",
          "greenpoint",
          "astoria",
          "park-slope",
          "chelsea",
          "financial-district",
          "bushwick",
          "hell-s-kitchen",
          "tribeca",
          "gramercy-park"
         ],
         "y": [
          3,
          4,
          1,
          0,
          1,
          1,
          1,
          0,
          1,
          1,
          1,
          2,
          0,
          2,
          2,
          1,
          1,
          0,
          0,
          0
         ]
        },
        {
         "name": "new american",
         "type": "bar",
         "x": [
          "williamsburg",
          "east-village",
          "lower-east-side",
          "upper-west-side",
          "greenwich-village",
          "west-village",
          "upper-east-side",
          "midtown-west",
          "flatiron-district",
          "soho",
          "harlem",
          "greenpoint",
          "astoria",
          "park-slope",
          "chelsea",
          "financial-district",
          "bushwick",
          "hell-s-kitchen",
          "tribeca",
          "gramercy-park"
         ],
         "y": [
          3,
          1,
          1,
          0,
          3,
          3,
          0,
          2,
          3,
          0,
          0,
          1,
          0,
          1,
          0,
          1,
          0,
          0,
          1,
          0
         ]
        },
        {
         "name": "chinese",
         "type": "bar",
         "x": [
          "williamsburg",
          "east-village",
          "lower-east-side",
          "upper-west-side",
          "greenwich-village",
          "west-village",
          "upper-east-side",
          "midtown-west",
          "flatiron-district",
          "soho",
          "harlem",
          "greenpoint",
          "astoria",
          "park-slope",
          "chelsea",
          "financial-district",
          "bushwick",
          "hell-s-kitchen",
          "tribeca",
          "gramercy-park"
         ],
         "y": [
          3,
          4,
          3,
          2,
          1,
          0,
          0,
          0,
          2,
          0,
          1,
          0,
          1,
          0,
          0,
          2,
          1,
          0,
          0,
          0
         ]
        },
        {
         "name": "seafood",
         "type": "bar",
         "x": [
          "williamsburg",
          "east-village",
          "lower-east-side",
          "upper-west-side",
          "greenwich-village",
          "west-village",
          "upper-east-side",
          "midtown-west",
          "flatiron-district",
          "soho",
          "harlem",
          "greenpoint",
          "astoria",
          "park-slope",
          "chelsea",
          "financial-district",
          "bushwick",
          "hell-s-kitchen",
          "tribeca",
          "gramercy-park"
         ],
         "y": [
          0,
          2,
          3,
          2,
          1,
          1,
          0,
          0,
          0,
          1,
          0,
          1,
          2,
          0,
          0,
          3,
          0,
          0,
          1,
          1
         ]
        },
        {
         "name": "wine bar with food",
         "type": "bar",
         "x": [
          "williamsburg",
          "east-village",
          "lower-east-side",
          "upper-west-side",
          "greenwich-village",
          "west-village",
          "upper-east-side",
          "midtown-west",
          "flatiron-district",
          "soho",
          "harlem",
          "greenpoint",
          "astoria",
          "park-slope",
          "chelsea",
          "financial-district",
          "bushwick",
          "hell-s-kitchen",
          "tribeca",
          "gramercy-park"
         ],
         "y": [
          1,
          0,
          1,
          1,
          1,
          0,
          2,
          0,
          0,
          1,
          1,
          0,
          0,
          1,
          2,
          0,
          0,
          0,
          2,
          2
         ]
        },
        {
         "name": "greek",
         "type": "bar",
         "x": [
          "williamsburg",
          "east-village",
          "lower-east-side",
          "upper-west-side",
          "greenwich-village",
          "west-village",
          "upper-east-side",
          "midtown-west",
          "flatiron-district",
          "soho",
          "harlem",
          "greenpoint",
          "astoria",
          "park-slope",
          "chelsea",
          "financial-district",
          "bushwick",
          "hell-s-kitchen",
          "tribeca",
          "gramercy-park"
         ],
         "y": [
          1,
          1,
          1,
          2,
          1,
          0,
          0,
          1,
          1,
          1,
          0,
          0,
          8,
          0,
          2,
          0,
          0,
          1,
          0,
          0
         ]
        },
        {
         "name": "bakery",
         "type": "bar",
         "x": [
          "williamsburg",
          "east-village",
          "lower-east-side",
          "upper-west-side",
          "greenwich-village",
          "west-village",
          "upper-east-side",
          "midtown-west",
          "flatiron-district",
          "soho",
          "harlem",
          "greenpoint",
          "astoria",
          "park-slope",
          "chelsea",
          "financial-district",
          "bushwick",
          "hell-s-kitchen",
          "tribeca",
          "gramercy-park"
         ],
         "y": [
          0,
          1,
          1,
          2,
          0,
          1,
          0,
          1,
          0,
          0,
          0,
          0,
          0,
          1,
          2,
          0,
          1,
          0,
          1,
          1
         ]
        },
        {
         "name": "thai",
         "type": "bar",
         "x": [
          "williamsburg",
          "east-village",
          "lower-east-side",
          "upper-west-side",
          "greenwich-village",
          "west-village",
          "upper-east-side",
          "midtown-west",
          "flatiron-district",
          "soho",
          "harlem",
          "greenpoint",
          "astoria",
          "park-slope",
          "chelsea",
          "financial-district",
          "bushwick",
          "hell-s-kitchen",
          "tribeca",
          "gramercy-park"
         ],
         "y": [
          2,
          3,
          2,
          2,
          0,
          0,
          1,
          0,
          1,
          0,
          0,
          0,
          0,
          0,
          0,
          0,
          1,
          1,
          0,
          0
         ]
        },
        {
         "name": "korean",
         "type": "bar",
         "x": [
          "williamsburg",
          "east-village",
          "lower-east-side",
          "upper-west-side",
          "greenwich-village",
          "west-village",
          "upper-east-side",
          "midtown-west",
          "flatiron-district",
          "soho",
          "harlem",
          "greenpoint",
          "astoria",
          "park-slope",
          "chelsea",
          "financial-district",
          "bushwick",
          "hell-s-kitchen",
          "tribeca",
          "gramercy-park"
         ],
         "y": [
          3,
          3,
          0,
          0,
          0,
          1,
          0,
          2,
          2,
          1,
          0,
          0,
          0,
          1,
          0,
          0,
          0,
          1,
          1,
          0
         ]
        },
        {
         "name": "indian",
         "type": "bar",
         "x": [
          "williamsburg",
          "east-village",
          "lower-east-side",
          "upper-west-side",
          "greenwich-village",
          "west-village",
          "upper-east-side",
          "midtown-west",
          "flatiron-district",
          "soho",
          "harlem",
          "greenpoint",
          "astoria",
          "park-slope",
          "chelsea",
          "financial-district",
          "bushwick",
          "hell-s-kitchen",
          "tribeca",
          "gramercy-park"
         ],
         "y": [
          0,
          1,
          2,
          1,
          0,
          0,
          1,
          0,
          2,
          0,
          1,
          0,
          0,
          0,
          0,
          0,
          0,
          0,
          0,
          2
         ]
        },
        {
         "name": "sushi",
         "type": "bar",
         "x": [
          "williamsburg",
          "east-village",
          "lower-east-side",
          "upper-west-side",
          "greenwich-village",
          "west-village",
          "upper-east-side",
          "midtown-west",
          "flatiron-district",
          "soho",
          "harlem",
          "greenpoint",
          "astoria",
          "park-slope",
          "chelsea",
          "financial-district",
          "bushwick",
          "hell-s-kitchen",
          "tribeca",
          "gramercy-park"
         ],
         "y": [
          1,
          3,
          0,
          1,
          0,
          0,
          5,
          2,
          0,
          1,
          0,
          0,
          0,
          0,
          0,
          0,
          0,
          0,
          0,
          0
         ]
        },
        {
         "name": "asian",
         "type": "bar",
         "x": [
          "williamsburg",
          "east-village",
          "lower-east-side",
          "upper-west-side",
          "greenwich-village",
          "west-village",
          "upper-east-side",
          "midtown-west",
          "flatiron-district",
          "soho",
          "harlem",
          "greenpoint",
          "astoria",
          "park-slope",
          "chelsea",
          "financial-district",
          "bushwick",
          "hell-s-kitchen",
          "tribeca",
          "gramercy-park"
         ],
         "y": [
          1,
          2,
          2,
          1,
          1,
          0,
          0,
          0,
          0,
          0,
          0,
          0,
          0,
          2,
          0,
          0,
          0,
          0,
          0,
          0
         ]
        },
        {
         "name": "vegan",
         "type": "bar",
         "x": [
          "williamsburg",
          "east-village",
          "lower-east-side",
          "upper-west-side",
          "greenwich-village",
          "west-village",
          "upper-east-side",
          "midtown-west",
          "flatiron-district",
          "soho",
          "harlem",
          "greenpoint",
          "astoria",
          "park-slope",
          "chelsea",
          "financial-district",
          "bushwick",
          "hell-s-kitchen",
          "tribeca",
          "gramercy-park"
         ],
         "y": [
          1,
          2,
          2,
          0,
          3,
          0,
          0,
          1,
          0,
          1,
          0,
          1,
          0,
          0,
          0,
          0,
          1,
          0,
          0,
          0
         ]
        },
        {
         "name": "latin",
         "type": "bar",
         "x": [
          "williamsburg",
          "east-village",
          "lower-east-side",
          "upper-west-side",
          "greenwich-village",
          "west-village",
          "upper-east-side",
          "midtown-west",
          "flatiron-district",
          "soho",
          "harlem",
          "greenpoint",
          "astoria",
          "park-slope",
          "chelsea",
          "financial-district",
          "bushwick",
          "hell-s-kitchen",
          "tribeca",
          "gramercy-park"
         ],
         "y": [
          2,
          2,
          1,
          0,
          0,
          0,
          0,
          0,
          0,
          0,
          1,
          0,
          1,
          1,
          0,
          0,
          2,
          0,
          0,
          0
         ]
        }
       ],
       "layout": {
        "barmode": "stack",
        "template": {
         "data": {
          "bar": [
           {
            "error_x": {
             "color": "#2a3f5f"
            },
            "error_y": {
             "color": "#2a3f5f"
            },
            "marker": {
             "line": {
              "color": "#E5ECF6",
              "width": 0.5
             }
            },
            "type": "bar"
           }
          ],
          "barpolar": [
           {
            "marker": {
             "line": {
              "color": "#E5ECF6",
              "width": 0.5
             }
            },
            "type": "barpolar"
           }
          ],
          "carpet": [
           {
            "aaxis": {
             "endlinecolor": "#2a3f5f",
             "gridcolor": "white",
             "linecolor": "white",
             "minorgridcolor": "white",
             "startlinecolor": "#2a3f5f"
            },
            "baxis": {
             "endlinecolor": "#2a3f5f",
             "gridcolor": "white",
             "linecolor": "white",
             "minorgridcolor": "white",
             "startlinecolor": "#2a3f5f"
            },
            "type": "carpet"
           }
          ],
          "choropleth": [
           {
            "colorbar": {
             "outlinewidth": 0,
             "ticks": ""
            },
            "type": "choropleth"
           }
          ],
          "contour": [
           {
            "colorbar": {
             "outlinewidth": 0,
             "ticks": ""
            },
            "colorscale": [
             [
              0,
              "#0d0887"
             ],
             [
              0.1111111111111111,
              "#46039f"
             ],
             [
              0.2222222222222222,
              "#7201a8"
             ],
             [
              0.3333333333333333,
              "#9c179e"
             ],
             [
              0.4444444444444444,
              "#bd3786"
             ],
             [
              0.5555555555555556,
              "#d8576b"
             ],
             [
              0.6666666666666666,
              "#ed7953"
             ],
             [
              0.7777777777777778,
              "#fb9f3a"
             ],
             [
              0.8888888888888888,
              "#fdca26"
             ],
             [
              1,
              "#f0f921"
             ]
            ],
            "type": "contour"
           }
          ],
          "contourcarpet": [
           {
            "colorbar": {
             "outlinewidth": 0,
             "ticks": ""
            },
            "type": "contourcarpet"
           }
          ],
          "heatmap": [
           {
            "colorbar": {
             "outlinewidth": 0,
             "ticks": ""
            },
            "colorscale": [
             [
              0,
              "#0d0887"
             ],
             [
              0.1111111111111111,
              "#46039f"
             ],
             [
              0.2222222222222222,
              "#7201a8"
             ],
             [
              0.3333333333333333,
              "#9c179e"
             ],
             [
              0.4444444444444444,
              "#bd3786"
             ],
             [
              0.5555555555555556,
              "#d8576b"
             ],
             [
              0.6666666666666666,
              "#ed7953"
             ],
             [
              0.7777777777777778,
              "#fb9f3a"
             ],
             [
              0.8888888888888888,
              "#fdca26"
             ],
             [
              1,
              "#f0f921"
             ]
            ],
            "type": "heatmap"
           }
          ],
          "heatmapgl": [
           {
            "colorbar": {
             "outlinewidth": 0,
             "ticks": ""
            },
            "colorscale": [
             [
              0,
              "#0d0887"
             ],
             [
              0.1111111111111111,
              "#46039f"
             ],
             [
              0.2222222222222222,
              "#7201a8"
             ],
             [
              0.3333333333333333,
              "#9c179e"
             ],
             [
              0.4444444444444444,
              "#bd3786"
             ],
             [
              0.5555555555555556,
              "#d8576b"
             ],
             [
              0.6666666666666666,
              "#ed7953"
             ],
             [
              0.7777777777777778,
              "#fb9f3a"
             ],
             [
              0.8888888888888888,
              "#fdca26"
             ],
             [
              1,
              "#f0f921"
             ]
            ],
            "type": "heatmapgl"
           }
          ],
          "histogram": [
           {
            "marker": {
             "colorbar": {
              "outlinewidth": 0,
              "ticks": ""
             }
            },
            "type": "histogram"
           }
          ],
          "histogram2d": [
           {
            "colorbar": {
             "outlinewidth": 0,
             "ticks": ""
            },
            "colorscale": [
             [
              0,
              "#0d0887"
             ],
             [
              0.1111111111111111,
              "#46039f"
             ],
             [
              0.2222222222222222,
              "#7201a8"
             ],
             [
              0.3333333333333333,
              "#9c179e"
             ],
             [
              0.4444444444444444,
              "#bd3786"
             ],
             [
              0.5555555555555556,
              "#d8576b"
             ],
             [
              0.6666666666666666,
              "#ed7953"
             ],
             [
              0.7777777777777778,
              "#fb9f3a"
             ],
             [
              0.8888888888888888,
              "#fdca26"
             ],
             [
              1,
              "#f0f921"
             ]
            ],
            "type": "histogram2d"
           }
          ],
          "histogram2dcontour": [
           {
            "colorbar": {
             "outlinewidth": 0,
             "ticks": ""
            },
            "colorscale": [
             [
              0,
              "#0d0887"
             ],
             [
              0.1111111111111111,
              "#46039f"
             ],
             [
              0.2222222222222222,
              "#7201a8"
             ],
             [
              0.3333333333333333,
              "#9c179e"
             ],
             [
              0.4444444444444444,
              "#bd3786"
             ],
             [
              0.5555555555555556,
              "#d8576b"
             ],
             [
              0.6666666666666666,
              "#ed7953"
             ],
             [
              0.7777777777777778,
              "#fb9f3a"
             ],
             [
              0.8888888888888888,
              "#fdca26"
             ],
             [
              1,
              "#f0f921"
             ]
            ],
            "type": "histogram2dcontour"
           }
          ],
          "mesh3d": [
           {
            "colorbar": {
             "outlinewidth": 0,
             "ticks": ""
            },
            "type": "mesh3d"
           }
          ],
          "parcoords": [
           {
            "line": {
             "colorbar": {
              "outlinewidth": 0,
              "ticks": ""
             }
            },
            "type": "parcoords"
           }
          ],
          "pie": [
           {
            "automargin": true,
            "type": "pie"
           }
          ],
          "scatter": [
           {
            "marker": {
             "colorbar": {
              "outlinewidth": 0,
              "ticks": ""
             }
            },
            "type": "scatter"
           }
          ],
          "scatter3d": [
           {
            "line": {
             "colorbar": {
              "outlinewidth": 0,
              "ticks": ""
             }
            },
            "marker": {
             "colorbar": {
              "outlinewidth": 0,
              "ticks": ""
             }
            },
            "type": "scatter3d"
           }
          ],
          "scattercarpet": [
           {
            "marker": {
             "colorbar": {
              "outlinewidth": 0,
              "ticks": ""
             }
            },
            "type": "scattercarpet"
           }
          ],
          "scattergeo": [
           {
            "marker": {
             "colorbar": {
              "outlinewidth": 0,
              "ticks": ""
             }
            },
            "type": "scattergeo"
           }
          ],
          "scattergl": [
           {
            "marker": {
             "colorbar": {
              "outlinewidth": 0,
              "ticks": ""
             }
            },
            "type": "scattergl"
           }
          ],
          "scattermapbox": [
           {
            "marker": {
             "colorbar": {
              "outlinewidth": 0,
              "ticks": ""
             }
            },
            "type": "scattermapbox"
           }
          ],
          "scatterpolar": [
           {
            "marker": {
             "colorbar": {
              "outlinewidth": 0,
              "ticks": ""
             }
            },
            "type": "scatterpolar"
           }
          ],
          "scatterpolargl": [
           {
            "marker": {
             "colorbar": {
              "outlinewidth": 0,
              "ticks": ""
             }
            },
            "type": "scatterpolargl"
           }
          ],
          "scatterternary": [
           {
            "marker": {
             "colorbar": {
              "outlinewidth": 0,
              "ticks": ""
             }
            },
            "type": "scatterternary"
           }
          ],
          "surface": [
           {
            "colorbar": {
             "outlinewidth": 0,
             "ticks": ""
            },
            "colorscale": [
             [
              0,
              "#0d0887"
             ],
             [
              0.1111111111111111,
              "#46039f"
             ],
             [
              0.2222222222222222,
              "#7201a8"
             ],
             [
              0.3333333333333333,
              "#9c179e"
             ],
             [
              0.4444444444444444,
              "#bd3786"
             ],
             [
              0.5555555555555556,
              "#d8576b"
             ],
             [
              0.6666666666666666,
              "#ed7953"
             ],
             [
              0.7777777777777778,
              "#fb9f3a"
             ],
             [
              0.8888888888888888,
              "#fdca26"
             ],
             [
              1,
              "#f0f921"
             ]
            ],
            "type": "surface"
           }
          ],
          "table": [
           {
            "cells": {
             "fill": {
              "color": "#EBF0F8"
             },
             "line": {
              "color": "white"
             }
            },
            "header": {
             "fill": {
              "color": "#C8D4E3"
             },
             "line": {
              "color": "white"
             }
            },
            "type": "table"
           }
          ]
         },
         "layout": {
          "annotationdefaults": {
           "arrowcolor": "#2a3f5f",
           "arrowhead": 0,
           "arrowwidth": 1
          },
          "coloraxis": {
           "colorbar": {
            "outlinewidth": 0,
            "ticks": ""
           }
          },
          "colorscale": {
           "diverging": [
            [
             0,
             "#8e0152"
            ],
            [
             0.1,
             "#c51b7d"
            ],
            [
             0.2,
             "#de77ae"
            ],
            [
             0.3,
             "#f1b6da"
            ],
            [
             0.4,
             "#fde0ef"
            ],
            [
             0.5,
             "#f7f7f7"
            ],
            [
             0.6,
             "#e6f5d0"
            ],
            [
             0.7,
             "#b8e186"
            ],
            [
             0.8,
             "#7fbc41"
            ],
            [
             0.9,
             "#4d9221"
            ],
            [
             1,
             "#276419"
            ]
           ],
           "sequential": [
            [
             0,
             "#0d0887"
            ],
            [
             0.1111111111111111,
             "#46039f"
            ],
            [
             0.2222222222222222,
             "#7201a8"
            ],
            [
             0.3333333333333333,
             "#9c179e"
            ],
            [
             0.4444444444444444,
             "#bd3786"
            ],
            [
             0.5555555555555556,
             "#d8576b"
            ],
            [
             0.6666666666666666,
             "#ed7953"
            ],
            [
             0.7777777777777778,
             "#fb9f3a"
            ],
            [
             0.8888888888888888,
             "#fdca26"
            ],
            [
             1,
             "#f0f921"
            ]
           ],
           "sequentialminus": [
            [
             0,
             "#0d0887"
            ],
            [
             0.1111111111111111,
             "#46039f"
            ],
            [
             0.2222222222222222,
             "#7201a8"
            ],
            [
             0.3333333333333333,
             "#9c179e"
            ],
            [
             0.4444444444444444,
             "#bd3786"
            ],
            [
             0.5555555555555556,
             "#d8576b"
            ],
            [
             0.6666666666666666,
             "#ed7953"
            ],
            [
             0.7777777777777778,
             "#fb9f3a"
            ],
            [
             0.8888888888888888,
             "#fdca26"
            ],
            [
             1,
             "#f0f921"
            ]
           ]
          },
          "colorway": [
           "#636efa",
           "#EF553B",
           "#00cc96",
           "#ab63fa",
           "#FFA15A",
           "#19d3f3",
           "#FF6692",
           "#B6E880",
           "#FF97FF",
           "#FECB52"
          ],
          "font": {
           "color": "#2a3f5f"
          },
          "geo": {
           "bgcolor": "white",
           "lakecolor": "white",
           "landcolor": "#E5ECF6",
           "showlakes": true,
           "showland": true,
           "subunitcolor": "white"
          },
          "hoverlabel": {
           "align": "left"
          },
          "hovermode": "closest",
          "mapbox": {
           "style": "light"
          },
          "paper_bgcolor": "white",
          "plot_bgcolor": "#E5ECF6",
          "polar": {
           "angularaxis": {
            "gridcolor": "white",
            "linecolor": "white",
            "ticks": ""
           },
           "bgcolor": "#E5ECF6",
           "radialaxis": {
            "gridcolor": "white",
            "linecolor": "white",
            "ticks": ""
           }
          },
          "scene": {
           "xaxis": {
            "backgroundcolor": "#E5ECF6",
            "gridcolor": "white",
            "gridwidth": 2,
            "linecolor": "white",
            "showbackground": true,
            "ticks": "",
            "zerolinecolor": "white"
           },
           "yaxis": {
            "backgroundcolor": "#E5ECF6",
            "gridcolor": "white",
            "gridwidth": 2,
            "linecolor": "white",
            "showbackground": true,
            "ticks": "",
            "zerolinecolor": "white"
           },
           "zaxis": {
            "backgroundcolor": "#E5ECF6",
            "gridcolor": "white",
            "gridwidth": 2,
            "linecolor": "white",
            "showbackground": true,
            "ticks": "",
            "zerolinecolor": "white"
           }
          },
          "shapedefaults": {
           "line": {
            "color": "#2a3f5f"
           }
          },
          "ternary": {
           "aaxis": {
            "gridcolor": "white",
            "linecolor": "white",
            "ticks": ""
           },
           "baxis": {
            "gridcolor": "white",
            "linecolor": "white",
            "ticks": ""
           },
           "bgcolor": "#E5ECF6",
           "caxis": {
            "gridcolor": "white",
            "linecolor": "white",
            "ticks": ""
           }
          },
          "title": {
           "x": 0.05
          },
          "xaxis": {
           "automargin": true,
           "gridcolor": "white",
           "linecolor": "white",
           "ticks": "",
           "title": {
            "standoff": 15
           },
           "zerolinecolor": "white",
           "zerolinewidth": 2
          },
          "yaxis": {
           "automargin": true,
           "gridcolor": "white",
           "linecolor": "white",
           "ticks": "",
           "title": {
            "standoff": 15
           },
           "zerolinecolor": "white",
           "zerolinewidth": 2
          }
         }
        },
        "title": {
         "text": "Neighborhoods by Cuisine"
        },
        "xaxis": {
         "categoryorder": "category ascending"
        }
       }
      },
      "text/html": [
       "<div>\n",
       "        \n",
       "        \n",
       "            <div id=\"b256fb0b-1aaa-4904-b750-d0ebfb7ed93e\" class=\"plotly-graph-div\" style=\"height:525px; width:100%;\"></div>\n",
       "            <script type=\"text/javascript\">\n",
       "                require([\"plotly\"], function(Plotly) {\n",
       "                    window.PLOTLYENV=window.PLOTLYENV || {};\n",
       "                    \n",
       "                if (document.getElementById(\"b256fb0b-1aaa-4904-b750-d0ebfb7ed93e\")) {\n",
       "                    Plotly.newPlot(\n",
       "                        'b256fb0b-1aaa-4904-b750-d0ebfb7ed93e',\n",
       "                        [{\"name\": \"american\", \"type\": \"bar\", \"x\": [\"williamsburg\", \"east-village\", \"lower-east-side\", \"upper-west-side\", \"greenwich-village\", \"west-village\", \"upper-east-side\", \"midtown-west\", \"flatiron-district\", \"soho\", \"harlem\", \"greenpoint\", \"astoria\", \"park-slope\", \"chelsea\", \"financial-district\", \"bushwick\", \"hell-s-kitchen\", \"tribeca\", \"gramercy-park\"], \"y\": [9.0, 5.0, 4.0, 8.0, 6.0, 11.0, 1.0, 7.0, 3.0, 2.0, 8.0, 5.0, 2.0, 5.0, 7.0, 3.0, 2.0, 3.0, 2.0, 2.0]}, {\"name\": \"italian\", \"type\": \"bar\", \"x\": [\"williamsburg\", \"east-village\", \"lower-east-side\", \"upper-west-side\", \"greenwich-village\", \"west-village\", \"upper-east-side\", \"midtown-west\", \"flatiron-district\", \"soho\", \"harlem\", \"greenpoint\", \"astoria\", \"park-slope\", \"chelsea\", \"financial-district\", \"bushwick\", \"hell-s-kitchen\", \"tribeca\", \"gramercy-park\"], \"y\": [8.0, 10.0, 3.0, 4.0, 10.0, 3.0, 7.0, 4.0, 7.0, 9.0, 2.0, 4.0, 3.0, 2.0, 3.0, 4.0, 4.0, 3.0, 4.0, 0.0]}, {\"name\": \"french\", \"type\": \"bar\", \"x\": [\"williamsburg\", \"east-village\", \"lower-east-side\", \"upper-west-side\", \"greenwich-village\", \"west-village\", \"upper-east-side\", \"midtown-west\", \"flatiron-district\", \"soho\", \"harlem\", \"greenpoint\", \"astoria\", \"park-slope\", \"chelsea\", \"financial-district\", \"bushwick\", \"hell-s-kitchen\", \"tribeca\", \"gramercy-park\"], \"y\": [3.0, 1.0, 3.0, 2.0, 1.0, 1.0, 5.0, 2.0, 1.0, 5.0, 1.0, 4.0, 0.0, 3.0, 0.0, 1.0, 1.0, 1.0, 1.0, 3.0]}, {\"name\": \"mexican\", \"type\": \"bar\", \"x\": [\"williamsburg\", \"east-village\", \"lower-east-side\", \"upper-west-side\", \"greenwich-village\", \"west-village\", \"upper-east-side\", \"midtown-west\", \"flatiron-district\", \"soho\", \"harlem\", \"greenpoint\", \"astoria\", \"park-slope\", \"chelsea\", \"financial-district\", \"bushwick\", \"hell-s-kitchen\", \"tribeca\", \"gramercy-park\"], \"y\": [4.0, 2.0, 2.0, 1.0, 1.0, 1.0, 2.0, 1.0, 1.0, 0.0, 2.0, 2.0, 1.0, 2.0, 0.0, 1.0, 0.0, 2.0, 0.0, 1.0]}, {\"name\": \"japanese\", \"type\": \"bar\", \"x\": [\"williamsburg\", \"east-village\", \"lower-east-side\", \"upper-west-side\", \"greenwich-village\", \"west-village\", \"upper-east-side\", \"midtown-west\", \"flatiron-district\", \"soho\", \"harlem\", \"greenpoint\", \"astoria\", \"park-slope\", \"chelsea\", \"financial-district\", \"bushwick\", \"hell-s-kitchen\", \"tribeca\", \"gramercy-park\"], \"y\": [4.0, 3.0, 3.0, 1.0, 5.0, 1.0, 0.0, 3.0, 3.0, 2.0, 0.0, 0.0, 0.0, 0.0, 0.0, 0.0, 0.0, 1.0, 0.0, 0.0]}, {\"name\": \"mediterranean\", \"type\": \"bar\", \"x\": [\"williamsburg\", \"east-village\", \"lower-east-side\", \"upper-west-side\", \"greenwich-village\", \"west-village\", \"upper-east-side\", \"midtown-west\", \"flatiron-district\", \"soho\", \"harlem\", \"greenpoint\", \"astoria\", \"park-slope\", \"chelsea\", \"financial-district\", \"bushwick\", \"hell-s-kitchen\", \"tribeca\", \"gramercy-park\"], \"y\": [7.0, 0.0, 1.0, 8.0, 0.0, 1.0, 0.0, 0.0, 0.0, 1.0, 2.0, 2.0, 0.0, 0.0, 0.0, 0.0, 0.0, 1.0, 1.0, 0.0]}, {\"name\": \"pizza\", \"type\": \"bar\", \"x\": [\"williamsburg\", \"east-village\", \"lower-east-side\", \"upper-west-side\", \"greenwich-village\", \"west-village\", \"upper-east-side\", \"midtown-west\", \"flatiron-district\", \"soho\", \"harlem\", \"greenpoint\", \"astoria\", \"park-slope\", \"chelsea\", \"financial-district\", \"bushwick\", \"hell-s-kitchen\", \"tribeca\", \"gramercy-park\"], \"y\": [3.0, 4.0, 1.0, 0.0, 1.0, 1.0, 1.0, 0.0, 1.0, 1.0, 1.0, 2.0, 0.0, 2.0, 2.0, 1.0, 1.0, 0.0, 0.0, 0.0]}, {\"name\": \"new american\", \"type\": \"bar\", \"x\": [\"williamsburg\", \"east-village\", \"lower-east-side\", \"upper-west-side\", \"greenwich-village\", \"west-village\", \"upper-east-side\", \"midtown-west\", \"flatiron-district\", \"soho\", \"harlem\", \"greenpoint\", \"astoria\", \"park-slope\", \"chelsea\", \"financial-district\", \"bushwick\", \"hell-s-kitchen\", \"tribeca\", \"gramercy-park\"], \"y\": [3.0, 1.0, 1.0, 0.0, 3.0, 3.0, 0.0, 2.0, 3.0, 0.0, 0.0, 1.0, 0.0, 1.0, 0.0, 1.0, 0.0, 0.0, 1.0, 0.0]}, {\"name\": \"chinese\", \"type\": \"bar\", \"x\": [\"williamsburg\", \"east-village\", \"lower-east-side\", \"upper-west-side\", \"greenwich-village\", \"west-village\", \"upper-east-side\", \"midtown-west\", \"flatiron-district\", \"soho\", \"harlem\", \"greenpoint\", \"astoria\", \"park-slope\", \"chelsea\", \"financial-district\", \"bushwick\", \"hell-s-kitchen\", \"tribeca\", \"gramercy-park\"], \"y\": [3.0, 4.0, 3.0, 2.0, 1.0, 0.0, 0.0, 0.0, 2.0, 0.0, 1.0, 0.0, 1.0, 0.0, 0.0, 2.0, 1.0, 0.0, 0.0, 0.0]}, {\"name\": \"seafood\", \"type\": \"bar\", \"x\": [\"williamsburg\", \"east-village\", \"lower-east-side\", \"upper-west-side\", \"greenwich-village\", \"west-village\", \"upper-east-side\", \"midtown-west\", \"flatiron-district\", \"soho\", \"harlem\", \"greenpoint\", \"astoria\", \"park-slope\", \"chelsea\", \"financial-district\", \"bushwick\", \"hell-s-kitchen\", \"tribeca\", \"gramercy-park\"], \"y\": [0.0, 2.0, 3.0, 2.0, 1.0, 1.0, 0.0, 0.0, 0.0, 1.0, 0.0, 1.0, 2.0, 0.0, 0.0, 3.0, 0.0, 0.0, 1.0, 1.0]}, {\"name\": \"wine bar with food\", \"type\": \"bar\", \"x\": [\"williamsburg\", \"east-village\", \"lower-east-side\", \"upper-west-side\", \"greenwich-village\", \"west-village\", \"upper-east-side\", \"midtown-west\", \"flatiron-district\", \"soho\", \"harlem\", \"greenpoint\", \"astoria\", \"park-slope\", \"chelsea\", \"financial-district\", \"bushwick\", \"hell-s-kitchen\", \"tribeca\", \"gramercy-park\"], \"y\": [1.0, 0.0, 1.0, 1.0, 1.0, 0.0, 2.0, 0.0, 0.0, 1.0, 1.0, 0.0, 0.0, 1.0, 2.0, 0.0, 0.0, 0.0, 2.0, 2.0]}, {\"name\": \"greek\", \"type\": \"bar\", \"x\": [\"williamsburg\", \"east-village\", \"lower-east-side\", \"upper-west-side\", \"greenwich-village\", \"west-village\", \"upper-east-side\", \"midtown-west\", \"flatiron-district\", \"soho\", \"harlem\", \"greenpoint\", \"astoria\", \"park-slope\", \"chelsea\", \"financial-district\", \"bushwick\", \"hell-s-kitchen\", \"tribeca\", \"gramercy-park\"], \"y\": [1.0, 1.0, 1.0, 2.0, 1.0, 0.0, 0.0, 1.0, 1.0, 1.0, 0.0, 0.0, 8.0, 0.0, 2.0, 0.0, 0.0, 1.0, 0.0, 0.0]}, {\"name\": \"bakery\", \"type\": \"bar\", \"x\": [\"williamsburg\", \"east-village\", \"lower-east-side\", \"upper-west-side\", \"greenwich-village\", \"west-village\", \"upper-east-side\", \"midtown-west\", \"flatiron-district\", \"soho\", \"harlem\", \"greenpoint\", \"astoria\", \"park-slope\", \"chelsea\", \"financial-district\", \"bushwick\", \"hell-s-kitchen\", \"tribeca\", \"gramercy-park\"], \"y\": [0.0, 1.0, 1.0, 2.0, 0.0, 1.0, 0.0, 1.0, 0.0, 0.0, 0.0, 0.0, 0.0, 1.0, 2.0, 0.0, 1.0, 0.0, 1.0, 1.0]}, {\"name\": \"thai\", \"type\": \"bar\", \"x\": [\"williamsburg\", \"east-village\", \"lower-east-side\", \"upper-west-side\", \"greenwich-village\", \"west-village\", \"upper-east-side\", \"midtown-west\", \"flatiron-district\", \"soho\", \"harlem\", \"greenpoint\", \"astoria\", \"park-slope\", \"chelsea\", \"financial-district\", \"bushwick\", \"hell-s-kitchen\", \"tribeca\", \"gramercy-park\"], \"y\": [2.0, 3.0, 2.0, 2.0, 0.0, 0.0, 1.0, 0.0, 1.0, 0.0, 0.0, 0.0, 0.0, 0.0, 0.0, 0.0, 1.0, 1.0, 0.0, 0.0]}, {\"name\": \"korean\", \"type\": \"bar\", \"x\": [\"williamsburg\", \"east-village\", \"lower-east-side\", \"upper-west-side\", \"greenwich-village\", \"west-village\", \"upper-east-side\", \"midtown-west\", \"flatiron-district\", \"soho\", \"harlem\", \"greenpoint\", \"astoria\", \"park-slope\", \"chelsea\", \"financial-district\", \"bushwick\", \"hell-s-kitchen\", \"tribeca\", \"gramercy-park\"], \"y\": [3.0, 3.0, 0.0, 0.0, 0.0, 1.0, 0.0, 2.0, 2.0, 1.0, 0.0, 0.0, 0.0, 1.0, 0.0, 0.0, 0.0, 1.0, 1.0, 0.0]}, {\"name\": \"indian\", \"type\": \"bar\", \"x\": [\"williamsburg\", \"east-village\", \"lower-east-side\", \"upper-west-side\", \"greenwich-village\", \"west-village\", \"upper-east-side\", \"midtown-west\", \"flatiron-district\", \"soho\", \"harlem\", \"greenpoint\", \"astoria\", \"park-slope\", \"chelsea\", \"financial-district\", \"bushwick\", \"hell-s-kitchen\", \"tribeca\", \"gramercy-park\"], \"y\": [0.0, 1.0, 2.0, 1.0, 0.0, 0.0, 1.0, 0.0, 2.0, 0.0, 1.0, 0.0, 0.0, 0.0, 0.0, 0.0, 0.0, 0.0, 0.0, 2.0]}, {\"name\": \"sushi\", \"type\": \"bar\", \"x\": [\"williamsburg\", \"east-village\", \"lower-east-side\", \"upper-west-side\", \"greenwich-village\", \"west-village\", \"upper-east-side\", \"midtown-west\", \"flatiron-district\", \"soho\", \"harlem\", \"greenpoint\", \"astoria\", \"park-slope\", \"chelsea\", \"financial-district\", \"bushwick\", \"hell-s-kitchen\", \"tribeca\", \"gramercy-park\"], \"y\": [1.0, 3.0, 0.0, 1.0, 0.0, 0.0, 5.0, 2.0, 0.0, 1.0, 0.0, 0.0, 0.0, 0.0, 0.0, 0.0, 0.0, 0.0, 0.0, 0.0]}, {\"name\": \"asian\", \"type\": \"bar\", \"x\": [\"williamsburg\", \"east-village\", \"lower-east-side\", \"upper-west-side\", \"greenwich-village\", \"west-village\", \"upper-east-side\", \"midtown-west\", \"flatiron-district\", \"soho\", \"harlem\", \"greenpoint\", \"astoria\", \"park-slope\", \"chelsea\", \"financial-district\", \"bushwick\", \"hell-s-kitchen\", \"tribeca\", \"gramercy-park\"], \"y\": [1.0, 2.0, 2.0, 1.0, 1.0, 0.0, 0.0, 0.0, 0.0, 0.0, 0.0, 0.0, 0.0, 2.0, 0.0, 0.0, 0.0, 0.0, 0.0, 0.0]}, {\"name\": \"vegan\", \"type\": \"bar\", \"x\": [\"williamsburg\", \"east-village\", \"lower-east-side\", \"upper-west-side\", \"greenwich-village\", \"west-village\", \"upper-east-side\", \"midtown-west\", \"flatiron-district\", \"soho\", \"harlem\", \"greenpoint\", \"astoria\", \"park-slope\", \"chelsea\", \"financial-district\", \"bushwick\", \"hell-s-kitchen\", \"tribeca\", \"gramercy-park\"], \"y\": [1.0, 2.0, 2.0, 0.0, 3.0, 0.0, 0.0, 1.0, 0.0, 1.0, 0.0, 1.0, 0.0, 0.0, 0.0, 0.0, 1.0, 0.0, 0.0, 0.0]}, {\"name\": \"latin\", \"type\": \"bar\", \"x\": [\"williamsburg\", \"east-village\", \"lower-east-side\", \"upper-west-side\", \"greenwich-village\", \"west-village\", \"upper-east-side\", \"midtown-west\", \"flatiron-district\", \"soho\", \"harlem\", \"greenpoint\", \"astoria\", \"park-slope\", \"chelsea\", \"financial-district\", \"bushwick\", \"hell-s-kitchen\", \"tribeca\", \"gramercy-park\"], \"y\": [2.0, 2.0, 1.0, 0.0, 0.0, 0.0, 0.0, 0.0, 0.0, 0.0, 1.0, 0.0, 1.0, 1.0, 0.0, 0.0, 2.0, 0.0, 0.0, 0.0]}],\n",
       "                        {\"barmode\": \"stack\", \"template\": {\"data\": {\"bar\": [{\"error_x\": {\"color\": \"#2a3f5f\"}, \"error_y\": {\"color\": \"#2a3f5f\"}, \"marker\": {\"line\": {\"color\": \"#E5ECF6\", \"width\": 0.5}}, \"type\": \"bar\"}], \"barpolar\": [{\"marker\": {\"line\": {\"color\": \"#E5ECF6\", \"width\": 0.5}}, \"type\": \"barpolar\"}], \"carpet\": [{\"aaxis\": {\"endlinecolor\": \"#2a3f5f\", \"gridcolor\": \"white\", \"linecolor\": \"white\", \"minorgridcolor\": \"white\", \"startlinecolor\": \"#2a3f5f\"}, \"baxis\": {\"endlinecolor\": \"#2a3f5f\", \"gridcolor\": \"white\", \"linecolor\": \"white\", \"minorgridcolor\": \"white\", \"startlinecolor\": \"#2a3f5f\"}, \"type\": \"carpet\"}], \"choropleth\": [{\"colorbar\": {\"outlinewidth\": 0, \"ticks\": \"\"}, \"type\": \"choropleth\"}], \"contour\": [{\"colorbar\": {\"outlinewidth\": 0, \"ticks\": \"\"}, \"colorscale\": [[0.0, \"#0d0887\"], [0.1111111111111111, \"#46039f\"], [0.2222222222222222, \"#7201a8\"], [0.3333333333333333, \"#9c179e\"], [0.4444444444444444, \"#bd3786\"], [0.5555555555555556, \"#d8576b\"], [0.6666666666666666, \"#ed7953\"], [0.7777777777777778, \"#fb9f3a\"], [0.8888888888888888, \"#fdca26\"], [1.0, \"#f0f921\"]], \"type\": \"contour\"}], \"contourcarpet\": [{\"colorbar\": {\"outlinewidth\": 0, \"ticks\": \"\"}, \"type\": \"contourcarpet\"}], \"heatmap\": [{\"colorbar\": {\"outlinewidth\": 0, \"ticks\": \"\"}, \"colorscale\": [[0.0, \"#0d0887\"], [0.1111111111111111, \"#46039f\"], [0.2222222222222222, \"#7201a8\"], [0.3333333333333333, \"#9c179e\"], [0.4444444444444444, \"#bd3786\"], [0.5555555555555556, \"#d8576b\"], [0.6666666666666666, \"#ed7953\"], [0.7777777777777778, \"#fb9f3a\"], [0.8888888888888888, \"#fdca26\"], [1.0, \"#f0f921\"]], \"type\": \"heatmap\"}], \"heatmapgl\": [{\"colorbar\": {\"outlinewidth\": 0, \"ticks\": \"\"}, \"colorscale\": [[0.0, \"#0d0887\"], [0.1111111111111111, \"#46039f\"], [0.2222222222222222, \"#7201a8\"], [0.3333333333333333, \"#9c179e\"], [0.4444444444444444, \"#bd3786\"], [0.5555555555555556, \"#d8576b\"], [0.6666666666666666, \"#ed7953\"], [0.7777777777777778, \"#fb9f3a\"], [0.8888888888888888, \"#fdca26\"], [1.0, \"#f0f921\"]], \"type\": \"heatmapgl\"}], \"histogram\": [{\"marker\": {\"colorbar\": {\"outlinewidth\": 0, \"ticks\": \"\"}}, \"type\": \"histogram\"}], \"histogram2d\": [{\"colorbar\": {\"outlinewidth\": 0, \"ticks\": \"\"}, \"colorscale\": [[0.0, \"#0d0887\"], [0.1111111111111111, \"#46039f\"], [0.2222222222222222, \"#7201a8\"], [0.3333333333333333, \"#9c179e\"], [0.4444444444444444, \"#bd3786\"], [0.5555555555555556, \"#d8576b\"], [0.6666666666666666, \"#ed7953\"], [0.7777777777777778, \"#fb9f3a\"], [0.8888888888888888, \"#fdca26\"], [1.0, \"#f0f921\"]], \"type\": \"histogram2d\"}], \"histogram2dcontour\": [{\"colorbar\": {\"outlinewidth\": 0, \"ticks\": \"\"}, \"colorscale\": [[0.0, \"#0d0887\"], [0.1111111111111111, \"#46039f\"], [0.2222222222222222, \"#7201a8\"], [0.3333333333333333, \"#9c179e\"], [0.4444444444444444, \"#bd3786\"], [0.5555555555555556, \"#d8576b\"], [0.6666666666666666, \"#ed7953\"], [0.7777777777777778, \"#fb9f3a\"], [0.8888888888888888, \"#fdca26\"], [1.0, \"#f0f921\"]], \"type\": \"histogram2dcontour\"}], \"mesh3d\": [{\"colorbar\": {\"outlinewidth\": 0, \"ticks\": \"\"}, \"type\": \"mesh3d\"}], \"parcoords\": [{\"line\": {\"colorbar\": {\"outlinewidth\": 0, \"ticks\": \"\"}}, \"type\": \"parcoords\"}], \"pie\": [{\"automargin\": true, \"type\": \"pie\"}], \"scatter\": [{\"marker\": {\"colorbar\": {\"outlinewidth\": 0, \"ticks\": \"\"}}, \"type\": \"scatter\"}], \"scatter3d\": [{\"line\": {\"colorbar\": {\"outlinewidth\": 0, \"ticks\": \"\"}}, \"marker\": {\"colorbar\": {\"outlinewidth\": 0, \"ticks\": \"\"}}, \"type\": \"scatter3d\"}], \"scattercarpet\": [{\"marker\": {\"colorbar\": {\"outlinewidth\": 0, \"ticks\": \"\"}}, \"type\": \"scattercarpet\"}], \"scattergeo\": [{\"marker\": {\"colorbar\": {\"outlinewidth\": 0, \"ticks\": \"\"}}, \"type\": \"scattergeo\"}], \"scattergl\": [{\"marker\": {\"colorbar\": {\"outlinewidth\": 0, \"ticks\": \"\"}}, \"type\": \"scattergl\"}], \"scattermapbox\": [{\"marker\": {\"colorbar\": {\"outlinewidth\": 0, \"ticks\": \"\"}}, \"type\": \"scattermapbox\"}], \"scatterpolar\": [{\"marker\": {\"colorbar\": {\"outlinewidth\": 0, \"ticks\": \"\"}}, \"type\": \"scatterpolar\"}], \"scatterpolargl\": [{\"marker\": {\"colorbar\": {\"outlinewidth\": 0, \"ticks\": \"\"}}, \"type\": \"scatterpolargl\"}], \"scatterternary\": [{\"marker\": {\"colorbar\": {\"outlinewidth\": 0, \"ticks\": \"\"}}, \"type\": \"scatterternary\"}], \"surface\": [{\"colorbar\": {\"outlinewidth\": 0, \"ticks\": \"\"}, \"colorscale\": [[0.0, \"#0d0887\"], [0.1111111111111111, \"#46039f\"], [0.2222222222222222, \"#7201a8\"], [0.3333333333333333, \"#9c179e\"], [0.4444444444444444, \"#bd3786\"], [0.5555555555555556, \"#d8576b\"], [0.6666666666666666, \"#ed7953\"], [0.7777777777777778, \"#fb9f3a\"], [0.8888888888888888, \"#fdca26\"], [1.0, \"#f0f921\"]], \"type\": \"surface\"}], \"table\": [{\"cells\": {\"fill\": {\"color\": \"#EBF0F8\"}, \"line\": {\"color\": \"white\"}}, \"header\": {\"fill\": {\"color\": \"#C8D4E3\"}, \"line\": {\"color\": \"white\"}}, \"type\": \"table\"}]}, \"layout\": {\"annotationdefaults\": {\"arrowcolor\": \"#2a3f5f\", \"arrowhead\": 0, \"arrowwidth\": 1}, \"coloraxis\": {\"colorbar\": {\"outlinewidth\": 0, \"ticks\": \"\"}}, \"colorscale\": {\"diverging\": [[0, \"#8e0152\"], [0.1, \"#c51b7d\"], [0.2, \"#de77ae\"], [0.3, \"#f1b6da\"], [0.4, \"#fde0ef\"], [0.5, \"#f7f7f7\"], [0.6, \"#e6f5d0\"], [0.7, \"#b8e186\"], [0.8, \"#7fbc41\"], [0.9, \"#4d9221\"], [1, \"#276419\"]], \"sequential\": [[0.0, \"#0d0887\"], [0.1111111111111111, \"#46039f\"], [0.2222222222222222, \"#7201a8\"], [0.3333333333333333, \"#9c179e\"], [0.4444444444444444, \"#bd3786\"], [0.5555555555555556, \"#d8576b\"], [0.6666666666666666, \"#ed7953\"], [0.7777777777777778, \"#fb9f3a\"], [0.8888888888888888, \"#fdca26\"], [1.0, \"#f0f921\"]], \"sequentialminus\": [[0.0, \"#0d0887\"], [0.1111111111111111, \"#46039f\"], [0.2222222222222222, \"#7201a8\"], [0.3333333333333333, \"#9c179e\"], [0.4444444444444444, \"#bd3786\"], [0.5555555555555556, \"#d8576b\"], [0.6666666666666666, \"#ed7953\"], [0.7777777777777778, \"#fb9f3a\"], [0.8888888888888888, \"#fdca26\"], [1.0, \"#f0f921\"]]}, \"colorway\": [\"#636efa\", \"#EF553B\", \"#00cc96\", \"#ab63fa\", \"#FFA15A\", \"#19d3f3\", \"#FF6692\", \"#B6E880\", \"#FF97FF\", \"#FECB52\"], \"font\": {\"color\": \"#2a3f5f\"}, \"geo\": {\"bgcolor\": \"white\", \"lakecolor\": \"white\", \"landcolor\": \"#E5ECF6\", \"showlakes\": true, \"showland\": true, \"subunitcolor\": \"white\"}, \"hoverlabel\": {\"align\": \"left\"}, \"hovermode\": \"closest\", \"mapbox\": {\"style\": \"light\"}, \"paper_bgcolor\": \"white\", \"plot_bgcolor\": \"#E5ECF6\", \"polar\": {\"angularaxis\": {\"gridcolor\": \"white\", \"linecolor\": \"white\", \"ticks\": \"\"}, \"bgcolor\": \"#E5ECF6\", \"radialaxis\": {\"gridcolor\": \"white\", \"linecolor\": \"white\", \"ticks\": \"\"}}, \"scene\": {\"xaxis\": {\"backgroundcolor\": \"#E5ECF6\", \"gridcolor\": \"white\", \"gridwidth\": 2, \"linecolor\": \"white\", \"showbackground\": true, \"ticks\": \"\", \"zerolinecolor\": \"white\"}, \"yaxis\": {\"backgroundcolor\": \"#E5ECF6\", \"gridcolor\": \"white\", \"gridwidth\": 2, \"linecolor\": \"white\", \"showbackground\": true, \"ticks\": \"\", \"zerolinecolor\": \"white\"}, \"zaxis\": {\"backgroundcolor\": \"#E5ECF6\", \"gridcolor\": \"white\", \"gridwidth\": 2, \"linecolor\": \"white\", \"showbackground\": true, \"ticks\": \"\", \"zerolinecolor\": \"white\"}}, \"shapedefaults\": {\"line\": {\"color\": \"#2a3f5f\"}}, \"ternary\": {\"aaxis\": {\"gridcolor\": \"white\", \"linecolor\": \"white\", \"ticks\": \"\"}, \"baxis\": {\"gridcolor\": \"white\", \"linecolor\": \"white\", \"ticks\": \"\"}, \"bgcolor\": \"#E5ECF6\", \"caxis\": {\"gridcolor\": \"white\", \"linecolor\": \"white\", \"ticks\": \"\"}}, \"title\": {\"x\": 0.05}, \"xaxis\": {\"automargin\": true, \"gridcolor\": \"white\", \"linecolor\": \"white\", \"ticks\": \"\", \"title\": {\"standoff\": 15}, \"zerolinecolor\": \"white\", \"zerolinewidth\": 2}, \"yaxis\": {\"automargin\": true, \"gridcolor\": \"white\", \"linecolor\": \"white\", \"ticks\": \"\", \"title\": {\"standoff\": 15}, \"zerolinecolor\": \"white\", \"zerolinewidth\": 2}}}, \"title\": {\"text\": \"Neighborhoods by Cuisine\"}, \"xaxis\": {\"categoryorder\": \"category ascending\"}},\n",
       "                        {\"responsive\": true}\n",
       "                    ).then(function(){\n",
       "                            \n",
       "var gd = document.getElementById('b256fb0b-1aaa-4904-b750-d0ebfb7ed93e');\n",
       "var x = new MutationObserver(function (mutations, observer) {{\n",
       "        var display = window.getComputedStyle(gd).display;\n",
       "        if (!display || display === 'none') {{\n",
       "            console.log([gd, 'removed!']);\n",
       "            Plotly.purge(gd);\n",
       "            observer.disconnect();\n",
       "        }}\n",
       "}});\n",
       "\n",
       "// Listen for the removal of the full notebook cells\n",
       "var notebookContainer = gd.closest('#notebook-container');\n",
       "if (notebookContainer) {{\n",
       "    x.observe(notebookContainer, {childList: true});\n",
       "}}\n",
       "\n",
       "// Listen for the clearing of the current output cell\n",
       "var outputEl = gd.closest('.output');\n",
       "if (outputEl) {{\n",
       "    x.observe(outputEl, {childList: true});\n",
       "}}\n",
       "\n",
       "                        })\n",
       "                };\n",
       "                });\n",
       "            </script>\n",
       "        </div>"
      ]
     },
     "metadata": {},
     "output_type": "display_data"
    },
    {
     "data": {
      "text/plain": [
       "'neighborhoods_cuisine.html'"
      ]
     },
     "execution_count": 27,
     "metadata": {},
     "output_type": "execute_result"
    }
   ],
   "source": [
    "import plotly.graph_objects as go\n",
    "import plotly as py\n",
    "import plotly.graph_objs as go\n",
    "import pandas as pd\n",
    "\n",
    "py.offline.init_notebook_mode(connected=True)\n",
    "\n",
    "\n",
    "\n",
    "x=nc_pivot2['neighborhood']\n",
    "fig = go.Figure(go.Bar(x=x, y=nc_pivot2.iloc[:,1], name='american'))\n",
    "fig.add_trace(go.Bar(x=x, y=nc_pivot2.iloc[:,2], name='italian'))\n",
    "fig.add_trace(go.Bar(x=x, y=nc_pivot2.iloc[:,3], name='french'))\n",
    "fig.add_trace(go.Bar(x=x, y=nc_pivot2.iloc[:,4], name='mexican'))\n",
    "fig.add_trace(go.Bar(x=x, y=nc_pivot2.iloc[:,5], name='japanese'))\n",
    "fig.add_trace(go.Bar(x=x, y=nc_pivot2.iloc[:,6], name='mediterranean'))\n",
    "fig.add_trace(go.Bar(x=x, y=nc_pivot2.iloc[:,7], name='pizza'))\n",
    "fig.add_trace(go.Bar(x=x, y=nc_pivot2.iloc[:,8], name='new american'))\n",
    "fig.add_trace(go.Bar(x=x, y=nc_pivot2.iloc[:,9], name='chinese'))\n",
    "fig.add_trace(go.Bar(x=x, y=nc_pivot2.iloc[:,10], name='seafood'))\n",
    "fig.add_trace(go.Bar(x=x, y=nc_pivot2.iloc[:,11], name='wine bar with food'))\n",
    "fig.add_trace(go.Bar(x=x, y=nc_pivot2.iloc[:,12], name='greek'))\n",
    "fig.add_trace(go.Bar(x=x, y=nc_pivot2.iloc[:,13], name='bakery'))\n",
    "fig.add_trace(go.Bar(x=x, y=nc_pivot2.iloc[:,14], name='thai'))\n",
    "fig.add_trace(go.Bar(x=x, y=nc_pivot2.iloc[:,15], name='korean'))\n",
    "fig.add_trace(go.Bar(x=x, y=nc_pivot2.iloc[:,16], name='indian'))\n",
    "fig.add_trace(go.Bar(x=x, y=nc_pivot2.iloc[:,17], name='sushi'))\n",
    "fig.add_trace(go.Bar(x=x, y=nc_pivot2.iloc[:,18], name='asian'))\n",
    "fig.add_trace(go.Bar(x=x, y=nc_pivot2.iloc[:,19], name='vegan'))\n",
    "fig.add_trace(go.Bar(x=x, y=nc_pivot2.iloc[:,20], name='latin'))\n",
    "\n",
    "\n",
    "fig.update_layout(title=\"Neighborhoods by Cuisine\")\n",
    "\n",
    "fig.update_layout(barmode='stack', xaxis={'categoryorder':'category ascending'})\n",
    "fig.show()\n",
    "\n",
    "py.offline.plot(fig, filename=\"neighborhoods_cuisine.html\")"
   ]
  },
  {
   "cell_type": "code",
   "execution_count": 44,
   "metadata": {},
   "outputs": [
    {
     "data": {
      "application/vnd.plotly.v1+json": {
       "config": {
        "plotlyServerURL": "https://plot.ly"
       },
       "data": [
        {
         "name": "east village",
         "type": "bar",
         "x": [
          "american",
          "italian",
          "french",
          "mexican",
          "japanese",
          "mediterranean",
          "pizza",
          "new-american",
          "chinese",
          "seafood",
          "wine-bar-with-food",
          "greek",
          "bakery",
          "thai",
          "korean",
          "indian",
          "sushi",
          "asian",
          "vegan",
          "latin"
         ],
         "y": [
          "american",
          "italian",
          "french",
          "mexican",
          "japanese",
          "mediterranean",
          "pizza",
          "new-american",
          "chinese",
          "seafood",
          "wine-bar-with-food",
          "greek",
          "bakery",
          "thai",
          "korean",
          "indian",
          "sushi",
          "asian",
          "vegan",
          "latin"
         ]
        },
        {
         "name": "williamsburg",
         "type": "bar",
         "x": [
          "american",
          "italian",
          "french",
          "mexican",
          "japanese",
          "mediterranean",
          "pizza",
          "new-american",
          "chinese",
          "seafood",
          "wine-bar-with-food",
          "greek",
          "bakery",
          "thai",
          "korean",
          "indian",
          "sushi",
          "asian",
          "vegan",
          "latin"
         ],
         "y": [
          5,
          10,
          1,
          2,
          3,
          0,
          4,
          1,
          4,
          2,
          0,
          1,
          1,
          3,
          3,
          1,
          3,
          2,
          2,
          2
         ]
        },
        {
         "name": "LES",
         "type": "bar",
         "x": [
          "american",
          "italian",
          "french",
          "mexican",
          "japanese",
          "mediterranean",
          "pizza",
          "new-american",
          "chinese",
          "seafood",
          "wine-bar-with-food",
          "greek",
          "bakery",
          "thai",
          "korean",
          "indian",
          "sushi",
          "asian",
          "vegan",
          "latin"
         ],
         "y": [
          9,
          8,
          3,
          4,
          4,
          7,
          3,
          3,
          3,
          0,
          1,
          1,
          0,
          2,
          3,
          0,
          1,
          1,
          1,
          2
         ]
        },
        {
         "name": "greenwich village",
         "type": "bar",
         "x": [
          "american",
          "italian",
          "french",
          "mexican",
          "japanese",
          "mediterranean",
          "pizza",
          "new-american",
          "chinese",
          "seafood",
          "wine-bar-with-food",
          "greek",
          "bakery",
          "thai",
          "korean",
          "indian",
          "sushi",
          "asian",
          "vegan",
          "latin"
         ],
         "y": [
          4,
          3,
          3,
          2,
          3,
          1,
          1,
          1,
          3,
          3,
          1,
          1,
          1,
          2,
          0,
          2,
          0,
          2,
          2,
          1
         ]
        },
        {
         "name": "midtown west",
         "type": "bar",
         "x": [
          "american",
          "italian",
          "french",
          "mexican",
          "japanese",
          "mediterranean",
          "pizza",
          "new-american",
          "chinese",
          "seafood",
          "wine-bar-with-food",
          "greek",
          "bakery",
          "thai",
          "korean",
          "indian",
          "sushi",
          "asian",
          "vegan",
          "latin"
         ],
         "y": [
          6,
          10,
          1,
          1,
          5,
          0,
          1,
          3,
          1,
          1,
          1,
          1,
          0,
          0,
          0,
          0,
          0,
          1,
          3,
          0
         ]
        },
        {
         "name": "UWS",
         "type": "bar",
         "x": [
          "american",
          "italian",
          "french",
          "mexican",
          "japanese",
          "mediterranean",
          "pizza",
          "new-american",
          "chinese",
          "seafood",
          "wine-bar-with-food",
          "greek",
          "bakery",
          "thai",
          "korean",
          "indian",
          "sushi",
          "asian",
          "vegan",
          "latin"
         ],
         "y": [
          7,
          4,
          2,
          1,
          3,
          0,
          0,
          2,
          0,
          0,
          0,
          1,
          1,
          0,
          2,
          0,
          2,
          0,
          1,
          0
         ]
        },
        {
         "name": "UES",
         "type": "bar",
         "x": [
          "american",
          "italian",
          "french",
          "mexican",
          "japanese",
          "mediterranean",
          "pizza",
          "new-american",
          "chinese",
          "seafood",
          "wine-bar-with-food",
          "greek",
          "bakery",
          "thai",
          "korean",
          "indian",
          "sushi",
          "asian",
          "vegan",
          "latin"
         ],
         "y": [
          8,
          4,
          2,
          1,
          1,
          8,
          0,
          0,
          2,
          2,
          1,
          2,
          2,
          2,
          0,
          1,
          1,
          1,
          0,
          0
         ]
        },
        {
         "name": "greenpoint",
         "type": "bar",
         "x": [
          "american",
          "italian",
          "french",
          "mexican",
          "japanese",
          "mediterranean",
          "pizza",
          "new-american",
          "chinese",
          "seafood",
          "wine-bar-with-food",
          "greek",
          "bakery",
          "thai",
          "korean",
          "indian",
          "sushi",
          "asian",
          "vegan",
          "latin"
         ],
         "y": [
          1,
          7,
          5,
          2,
          0,
          0,
          1,
          0,
          0,
          0,
          2,
          0,
          0,
          1,
          0,
          1,
          5,
          0,
          0,
          0
         ]
        },
        {
         "name": "bushwick",
         "type": "bar",
         "x": [
          "american",
          "italian",
          "french",
          "mexican",
          "japanese",
          "mediterranean",
          "pizza",
          "new-american",
          "chinese",
          "seafood",
          "wine-bar-with-food",
          "greek",
          "bakery",
          "thai",
          "korean",
          "indian",
          "sushi",
          "asian",
          "vegan",
          "latin"
         ],
         "y": [
          5,
          4,
          4,
          2,
          0,
          2,
          2,
          1,
          0,
          1,
          0,
          0,
          0,
          0,
          0,
          0,
          0,
          0,
          1,
          0
         ]
        },
        {
         "name": "west village",
         "type": "bar",
         "x": [
          "american",
          "italian",
          "french",
          "mexican",
          "japanese",
          "mediterranean",
          "pizza",
          "new-american",
          "chinese",
          "seafood",
          "wine-bar-with-food",
          "greek",
          "bakery",
          "thai",
          "korean",
          "indian",
          "sushi",
          "asian",
          "vegan",
          "latin"
         ],
         "y": [
          2,
          4,
          1,
          0,
          0,
          0,
          1,
          0,
          1,
          0,
          0,
          0,
          1,
          1,
          0,
          0,
          0,
          0,
          1,
          2
         ]
        },
        {
         "name": "soho",
         "type": "bar",
         "x": [
          "american",
          "italian",
          "french",
          "mexican",
          "japanese",
          "mediterranean",
          "pizza",
          "new-american",
          "chinese",
          "seafood",
          "wine-bar-with-food",
          "greek",
          "bakery",
          "thai",
          "korean",
          "indian",
          "sushi",
          "asian",
          "vegan",
          "latin"
         ],
         "y": [
          11,
          3,
          1,
          1,
          1,
          1,
          1,
          3,
          0,
          1,
          0,
          0,
          1,
          0,
          1,
          0,
          0,
          0,
          0,
          0
         ]
        },
        {
         "name": "astoria",
         "type": "bar",
         "x": [
          "american",
          "italian",
          "french",
          "mexican",
          "japanese",
          "mediterranean",
          "pizza",
          "new-american",
          "chinese",
          "seafood",
          "wine-bar-with-food",
          "greek",
          "bakery",
          "thai",
          "korean",
          "indian",
          "sushi",
          "asian",
          "vegan",
          "latin"
         ],
         "y": [
          2,
          9,
          5,
          0,
          2,
          1,
          1,
          0,
          0,
          1,
          1,
          1,
          0,
          0,
          1,
          0,
          1,
          0,
          1,
          0
         ]
        },
        {
         "name": "flatiron district",
         "type": "bar",
         "x": [
          "american",
          "italian",
          "french",
          "mexican",
          "japanese",
          "mediterranean",
          "pizza",
          "new-american",
          "chinese",
          "seafood",
          "wine-bar-with-food",
          "greek",
          "bakery",
          "thai",
          "korean",
          "indian",
          "sushi",
          "asian",
          "vegan",
          "latin"
         ],
         "y": [
          2,
          3,
          0,
          1,
          0,
          0,
          0,
          0,
          1,
          2,
          0,
          8,
          0,
          0,
          0,
          0,
          0,
          0,
          0,
          1
         ]
        },
        {
         "name": "chelsea",
         "type": "bar",
         "x": [
          "american",
          "italian",
          "french",
          "mexican",
          "japanese",
          "mediterranean",
          "pizza",
          "new-american",
          "chinese",
          "seafood",
          "wine-bar-with-food",
          "greek",
          "bakery",
          "thai",
          "korean",
          "indian",
          "sushi",
          "asian",
          "vegan",
          "latin"
         ],
         "y": [
          3,
          7,
          1,
          1,
          3,
          0,
          1,
          3,
          2,
          0,
          0,
          1,
          0,
          1,
          2,
          2,
          0,
          0,
          0,
          0
         ]
        },
        {
         "name": "harlem",
         "type": "bar",
         "x": [
          "american",
          "italian",
          "french",
          "mexican",
          "japanese",
          "mediterranean",
          "pizza",
          "new-american",
          "chinese",
          "seafood",
          "wine-bar-with-food",
          "greek",
          "bakery",
          "thai",
          "korean",
          "indian",
          "sushi",
          "asian",
          "vegan",
          "latin"
         ],
         "y": [
          7,
          3,
          0,
          0,
          0,
          0,
          2,
          0,
          0,
          0,
          2,
          2,
          2,
          0,
          0,
          0,
          0,
          0,
          0,
          0
         ]
        },
        {
         "name": "park slope",
         "type": "bar",
         "x": [
          "american",
          "italian",
          "french",
          "mexican",
          "japanese",
          "mediterranean",
          "pizza",
          "new-american",
          "chinese",
          "seafood",
          "wine-bar-with-food",
          "greek",
          "bakery",
          "thai",
          "korean",
          "indian",
          "sushi",
          "asian",
          "vegan",
          "latin"
         ],
         "y": [
          8,
          2,
          1,
          2,
          0,
          2,
          1,
          0,
          1,
          0,
          1,
          0,
          0,
          0,
          0,
          1,
          0,
          0,
          0,
          1
         ]
        },
        {
         "name": "financial district",
         "type": "bar",
         "x": [
          "american",
          "italian",
          "french",
          "mexican",
          "japanese",
          "mediterranean",
          "pizza",
          "new-american",
          "chinese",
          "seafood",
          "wine-bar-with-food",
          "greek",
          "bakery",
          "thai",
          "korean",
          "indian",
          "sushi",
          "asian",
          "vegan",
          "latin"
         ],
         "y": [
          5,
          2,
          3,
          2,
          0,
          0,
          2,
          1,
          0,
          0,
          1,
          0,
          1,
          0,
          1,
          0,
          0,
          2,
          0,
          1
         ]
        },
        {
         "name": "hells kitchen",
         "type": "bar",
         "x": [
          "american",
          "italian",
          "french",
          "mexican",
          "japanese",
          "mediterranean",
          "pizza",
          "new-american",
          "chinese",
          "seafood",
          "wine-bar-with-food",
          "greek",
          "bakery",
          "thai",
          "korean",
          "indian",
          "sushi",
          "asian",
          "vegan",
          "latin"
         ],
         "y": [
          3,
          4,
          1,
          1,
          0,
          0,
          1,
          1,
          2,
          3,
          0,
          0,
          0,
          0,
          0,
          0,
          0,
          0,
          0,
          0
         ]
        },
        {
         "name": "chinatown",
         "type": "bar",
         "x": [
          "american",
          "italian",
          "french",
          "mexican",
          "japanese",
          "mediterranean",
          "pizza",
          "new-american",
          "chinese",
          "seafood",
          "wine-bar-with-food",
          "greek",
          "bakery",
          "thai",
          "korean",
          "indian",
          "sushi",
          "asian",
          "vegan",
          "latin"
         ],
         "y": [
          3,
          3,
          1,
          2,
          1,
          1,
          0,
          0,
          0,
          0,
          0,
          1,
          0,
          1,
          1,
          0,
          0,
          0,
          0,
          0
         ]
        },
        {
         "name": "midtown east",
         "type": "bar",
         "x": [
          "american",
          "italian",
          "french",
          "mexican",
          "japanese",
          "mediterranean",
          "pizza",
          "new-american",
          "chinese",
          "seafood",
          "wine-bar-with-food",
          "greek",
          "bakery",
          "thai",
          "korean",
          "indian",
          "sushi",
          "asian",
          "vegan",
          "latin"
         ],
         "y": [
          0,
          1,
          0,
          0,
          1,
          0,
          1,
          1,
          3,
          0,
          0,
          0,
          0,
          0,
          0,
          0,
          0,
          0,
          0,
          0
         ]
        }
       ],
       "layout": {
        "barmode": "stack",
        "template": {
         "data": {
          "bar": [
           {
            "error_x": {
             "color": "#2a3f5f"
            },
            "error_y": {
             "color": "#2a3f5f"
            },
            "marker": {
             "line": {
              "color": "#E5ECF6",
              "width": 0.5
             }
            },
            "type": "bar"
           }
          ],
          "barpolar": [
           {
            "marker": {
             "line": {
              "color": "#E5ECF6",
              "width": 0.5
             }
            },
            "type": "barpolar"
           }
          ],
          "carpet": [
           {
            "aaxis": {
             "endlinecolor": "#2a3f5f",
             "gridcolor": "white",
             "linecolor": "white",
             "minorgridcolor": "white",
             "startlinecolor": "#2a3f5f"
            },
            "baxis": {
             "endlinecolor": "#2a3f5f",
             "gridcolor": "white",
             "linecolor": "white",
             "minorgridcolor": "white",
             "startlinecolor": "#2a3f5f"
            },
            "type": "carpet"
           }
          ],
          "choropleth": [
           {
            "colorbar": {
             "outlinewidth": 0,
             "ticks": ""
            },
            "type": "choropleth"
           }
          ],
          "contour": [
           {
            "colorbar": {
             "outlinewidth": 0,
             "ticks": ""
            },
            "colorscale": [
             [
              0,
              "#0d0887"
             ],
             [
              0.1111111111111111,
              "#46039f"
             ],
             [
              0.2222222222222222,
              "#7201a8"
             ],
             [
              0.3333333333333333,
              "#9c179e"
             ],
             [
              0.4444444444444444,
              "#bd3786"
             ],
             [
              0.5555555555555556,
              "#d8576b"
             ],
             [
              0.6666666666666666,
              "#ed7953"
             ],
             [
              0.7777777777777778,
              "#fb9f3a"
             ],
             [
              0.8888888888888888,
              "#fdca26"
             ],
             [
              1,
              "#f0f921"
             ]
            ],
            "type": "contour"
           }
          ],
          "contourcarpet": [
           {
            "colorbar": {
             "outlinewidth": 0,
             "ticks": ""
            },
            "type": "contourcarpet"
           }
          ],
          "heatmap": [
           {
            "colorbar": {
             "outlinewidth": 0,
             "ticks": ""
            },
            "colorscale": [
             [
              0,
              "#0d0887"
             ],
             [
              0.1111111111111111,
              "#46039f"
             ],
             [
              0.2222222222222222,
              "#7201a8"
             ],
             [
              0.3333333333333333,
              "#9c179e"
             ],
             [
              0.4444444444444444,
              "#bd3786"
             ],
             [
              0.5555555555555556,
              "#d8576b"
             ],
             [
              0.6666666666666666,
              "#ed7953"
             ],
             [
              0.7777777777777778,
              "#fb9f3a"
             ],
             [
              0.8888888888888888,
              "#fdca26"
             ],
             [
              1,
              "#f0f921"
             ]
            ],
            "type": "heatmap"
           }
          ],
          "heatmapgl": [
           {
            "colorbar": {
             "outlinewidth": 0,
             "ticks": ""
            },
            "colorscale": [
             [
              0,
              "#0d0887"
             ],
             [
              0.1111111111111111,
              "#46039f"
             ],
             [
              0.2222222222222222,
              "#7201a8"
             ],
             [
              0.3333333333333333,
              "#9c179e"
             ],
             [
              0.4444444444444444,
              "#bd3786"
             ],
             [
              0.5555555555555556,
              "#d8576b"
             ],
             [
              0.6666666666666666,
              "#ed7953"
             ],
             [
              0.7777777777777778,
              "#fb9f3a"
             ],
             [
              0.8888888888888888,
              "#fdca26"
             ],
             [
              1,
              "#f0f921"
             ]
            ],
            "type": "heatmapgl"
           }
          ],
          "histogram": [
           {
            "marker": {
             "colorbar": {
              "outlinewidth": 0,
              "ticks": ""
             }
            },
            "type": "histogram"
           }
          ],
          "histogram2d": [
           {
            "colorbar": {
             "outlinewidth": 0,
             "ticks": ""
            },
            "colorscale": [
             [
              0,
              "#0d0887"
             ],
             [
              0.1111111111111111,
              "#46039f"
             ],
             [
              0.2222222222222222,
              "#7201a8"
             ],
             [
              0.3333333333333333,
              "#9c179e"
             ],
             [
              0.4444444444444444,
              "#bd3786"
             ],
             [
              0.5555555555555556,
              "#d8576b"
             ],
             [
              0.6666666666666666,
              "#ed7953"
             ],
             [
              0.7777777777777778,
              "#fb9f3a"
             ],
             [
              0.8888888888888888,
              "#fdca26"
             ],
             [
              1,
              "#f0f921"
             ]
            ],
            "type": "histogram2d"
           }
          ],
          "histogram2dcontour": [
           {
            "colorbar": {
             "outlinewidth": 0,
             "ticks": ""
            },
            "colorscale": [
             [
              0,
              "#0d0887"
             ],
             [
              0.1111111111111111,
              "#46039f"
             ],
             [
              0.2222222222222222,
              "#7201a8"
             ],
             [
              0.3333333333333333,
              "#9c179e"
             ],
             [
              0.4444444444444444,
              "#bd3786"
             ],
             [
              0.5555555555555556,
              "#d8576b"
             ],
             [
              0.6666666666666666,
              "#ed7953"
             ],
             [
              0.7777777777777778,
              "#fb9f3a"
             ],
             [
              0.8888888888888888,
              "#fdca26"
             ],
             [
              1,
              "#f0f921"
             ]
            ],
            "type": "histogram2dcontour"
           }
          ],
          "mesh3d": [
           {
            "colorbar": {
             "outlinewidth": 0,
             "ticks": ""
            },
            "type": "mesh3d"
           }
          ],
          "parcoords": [
           {
            "line": {
             "colorbar": {
              "outlinewidth": 0,
              "ticks": ""
             }
            },
            "type": "parcoords"
           }
          ],
          "pie": [
           {
            "automargin": true,
            "type": "pie"
           }
          ],
          "scatter": [
           {
            "marker": {
             "colorbar": {
              "outlinewidth": 0,
              "ticks": ""
             }
            },
            "type": "scatter"
           }
          ],
          "scatter3d": [
           {
            "line": {
             "colorbar": {
              "outlinewidth": 0,
              "ticks": ""
             }
            },
            "marker": {
             "colorbar": {
              "outlinewidth": 0,
              "ticks": ""
             }
            },
            "type": "scatter3d"
           }
          ],
          "scattercarpet": [
           {
            "marker": {
             "colorbar": {
              "outlinewidth": 0,
              "ticks": ""
             }
            },
            "type": "scattercarpet"
           }
          ],
          "scattergeo": [
           {
            "marker": {
             "colorbar": {
              "outlinewidth": 0,
              "ticks": ""
             }
            },
            "type": "scattergeo"
           }
          ],
          "scattergl": [
           {
            "marker": {
             "colorbar": {
              "outlinewidth": 0,
              "ticks": ""
             }
            },
            "type": "scattergl"
           }
          ],
          "scattermapbox": [
           {
            "marker": {
             "colorbar": {
              "outlinewidth": 0,
              "ticks": ""
             }
            },
            "type": "scattermapbox"
           }
          ],
          "scatterpolar": [
           {
            "marker": {
             "colorbar": {
              "outlinewidth": 0,
              "ticks": ""
             }
            },
            "type": "scatterpolar"
           }
          ],
          "scatterpolargl": [
           {
            "marker": {
             "colorbar": {
              "outlinewidth": 0,
              "ticks": ""
             }
            },
            "type": "scatterpolargl"
           }
          ],
          "scatterternary": [
           {
            "marker": {
             "colorbar": {
              "outlinewidth": 0,
              "ticks": ""
             }
            },
            "type": "scatterternary"
           }
          ],
          "surface": [
           {
            "colorbar": {
             "outlinewidth": 0,
             "ticks": ""
            },
            "colorscale": [
             [
              0,
              "#0d0887"
             ],
             [
              0.1111111111111111,
              "#46039f"
             ],
             [
              0.2222222222222222,
              "#7201a8"
             ],
             [
              0.3333333333333333,
              "#9c179e"
             ],
             [
              0.4444444444444444,
              "#bd3786"
             ],
             [
              0.5555555555555556,
              "#d8576b"
             ],
             [
              0.6666666666666666,
              "#ed7953"
             ],
             [
              0.7777777777777778,
              "#fb9f3a"
             ],
             [
              0.8888888888888888,
              "#fdca26"
             ],
             [
              1,
              "#f0f921"
             ]
            ],
            "type": "surface"
           }
          ],
          "table": [
           {
            "cells": {
             "fill": {
              "color": "#EBF0F8"
             },
             "line": {
              "color": "white"
             }
            },
            "header": {
             "fill": {
              "color": "#C8D4E3"
             },
             "line": {
              "color": "white"
             }
            },
            "type": "table"
           }
          ]
         },
         "layout": {
          "annotationdefaults": {
           "arrowcolor": "#2a3f5f",
           "arrowhead": 0,
           "arrowwidth": 1
          },
          "coloraxis": {
           "colorbar": {
            "outlinewidth": 0,
            "ticks": ""
           }
          },
          "colorscale": {
           "diverging": [
            [
             0,
             "#8e0152"
            ],
            [
             0.1,
             "#c51b7d"
            ],
            [
             0.2,
             "#de77ae"
            ],
            [
             0.3,
             "#f1b6da"
            ],
            [
             0.4,
             "#fde0ef"
            ],
            [
             0.5,
             "#f7f7f7"
            ],
            [
             0.6,
             "#e6f5d0"
            ],
            [
             0.7,
             "#b8e186"
            ],
            [
             0.8,
             "#7fbc41"
            ],
            [
             0.9,
             "#4d9221"
            ],
            [
             1,
             "#276419"
            ]
           ],
           "sequential": [
            [
             0,
             "#0d0887"
            ],
            [
             0.1111111111111111,
             "#46039f"
            ],
            [
             0.2222222222222222,
             "#7201a8"
            ],
            [
             0.3333333333333333,
             "#9c179e"
            ],
            [
             0.4444444444444444,
             "#bd3786"
            ],
            [
             0.5555555555555556,
             "#d8576b"
            ],
            [
             0.6666666666666666,
             "#ed7953"
            ],
            [
             0.7777777777777778,
             "#fb9f3a"
            ],
            [
             0.8888888888888888,
             "#fdca26"
            ],
            [
             1,
             "#f0f921"
            ]
           ],
           "sequentialminus": [
            [
             0,
             "#0d0887"
            ],
            [
             0.1111111111111111,
             "#46039f"
            ],
            [
             0.2222222222222222,
             "#7201a8"
            ],
            [
             0.3333333333333333,
             "#9c179e"
            ],
            [
             0.4444444444444444,
             "#bd3786"
            ],
            [
             0.5555555555555556,
             "#d8576b"
            ],
            [
             0.6666666666666666,
             "#ed7953"
            ],
            [
             0.7777777777777778,
             "#fb9f3a"
            ],
            [
             0.8888888888888888,
             "#fdca26"
            ],
            [
             1,
             "#f0f921"
            ]
           ]
          },
          "colorway": [
           "#636efa",
           "#EF553B",
           "#00cc96",
           "#ab63fa",
           "#FFA15A",
           "#19d3f3",
           "#FF6692",
           "#B6E880",
           "#FF97FF",
           "#FECB52"
          ],
          "font": {
           "color": "#2a3f5f"
          },
          "geo": {
           "bgcolor": "white",
           "lakecolor": "white",
           "landcolor": "#E5ECF6",
           "showlakes": true,
           "showland": true,
           "subunitcolor": "white"
          },
          "hoverlabel": {
           "align": "left"
          },
          "hovermode": "closest",
          "mapbox": {
           "style": "light"
          },
          "paper_bgcolor": "white",
          "plot_bgcolor": "#E5ECF6",
          "polar": {
           "angularaxis": {
            "gridcolor": "white",
            "linecolor": "white",
            "ticks": ""
           },
           "bgcolor": "#E5ECF6",
           "radialaxis": {
            "gridcolor": "white",
            "linecolor": "white",
            "ticks": ""
           }
          },
          "scene": {
           "xaxis": {
            "backgroundcolor": "#E5ECF6",
            "gridcolor": "white",
            "gridwidth": 2,
            "linecolor": "white",
            "showbackground": true,
            "ticks": "",
            "zerolinecolor": "white"
           },
           "yaxis": {
            "backgroundcolor": "#E5ECF6",
            "gridcolor": "white",
            "gridwidth": 2,
            "linecolor": "white",
            "showbackground": true,
            "ticks": "",
            "zerolinecolor": "white"
           },
           "zaxis": {
            "backgroundcolor": "#E5ECF6",
            "gridcolor": "white",
            "gridwidth": 2,
            "linecolor": "white",
            "showbackground": true,
            "ticks": "",
            "zerolinecolor": "white"
           }
          },
          "shapedefaults": {
           "line": {
            "color": "#2a3f5f"
           }
          },
          "ternary": {
           "aaxis": {
            "gridcolor": "white",
            "linecolor": "white",
            "ticks": ""
           },
           "baxis": {
            "gridcolor": "white",
            "linecolor": "white",
            "ticks": ""
           },
           "bgcolor": "#E5ECF6",
           "caxis": {
            "gridcolor": "white",
            "linecolor": "white",
            "ticks": ""
           }
          },
          "title": {
           "x": 0.05
          },
          "xaxis": {
           "automargin": true,
           "gridcolor": "white",
           "linecolor": "white",
           "ticks": "",
           "title": {
            "standoff": 15
           },
           "zerolinecolor": "white",
           "zerolinewidth": 2
          },
          "yaxis": {
           "automargin": true,
           "gridcolor": "white",
           "linecolor": "white",
           "ticks": "",
           "title": {
            "standoff": 15
           },
           "zerolinecolor": "white",
           "zerolinewidth": 2
          }
         }
        },
        "title": {
         "text": "Cuisines by Neighborhood"
        },
        "xaxis": {
         "categoryorder": "category ascending"
        }
       }
      },
      "text/html": [
       "<div>\n",
       "        \n",
       "        \n",
       "            <div id=\"5333e4e1-da5d-47db-b180-d2e4d33351c5\" class=\"plotly-graph-div\" style=\"height:525px; width:100%;\"></div>\n",
       "            <script type=\"text/javascript\">\n",
       "                require([\"plotly\"], function(Plotly) {\n",
       "                    window.PLOTLYENV=window.PLOTLYENV || {};\n",
       "                    \n",
       "                if (document.getElementById(\"5333e4e1-da5d-47db-b180-d2e4d33351c5\")) {\n",
       "                    Plotly.newPlot(\n",
       "                        '5333e4e1-da5d-47db-b180-d2e4d33351c5',\n",
       "                        [{\"name\": \"east village\", \"type\": \"bar\", \"x\": [\"american\", \"italian\", \"french\", \"mexican\", \"japanese\", \"mediterranean\", \"pizza\", \"new-american\", \"chinese\", \"seafood\", \"wine-bar-with-food\", \"greek\", \"bakery\", \"thai\", \"korean\", \"indian\", \"sushi\", \"asian\", \"vegan\", \"latin\"], \"y\": [\"american\", \"italian\", \"french\", \"mexican\", \"japanese\", \"mediterranean\", \"pizza\", \"new-american\", \"chinese\", \"seafood\", \"wine-bar-with-food\", \"greek\", \"bakery\", \"thai\", \"korean\", \"indian\", \"sushi\", \"asian\", \"vegan\", \"latin\"]}, {\"name\": \"williamsburg\", \"type\": \"bar\", \"x\": [\"american\", \"italian\", \"french\", \"mexican\", \"japanese\", \"mediterranean\", \"pizza\", \"new-american\", \"chinese\", \"seafood\", \"wine-bar-with-food\", \"greek\", \"bakery\", \"thai\", \"korean\", \"indian\", \"sushi\", \"asian\", \"vegan\", \"latin\"], \"y\": [5.0, 10.0, 1.0, 2.0, 3.0, 0.0, 4.0, 1.0, 4.0, 2.0, 0.0, 1.0, 1.0, 3.0, 3.0, 1.0, 3.0, 2.0, 2.0, 2.0]}, {\"name\": \"LES\", \"type\": \"bar\", \"x\": [\"american\", \"italian\", \"french\", \"mexican\", \"japanese\", \"mediterranean\", \"pizza\", \"new-american\", \"chinese\", \"seafood\", \"wine-bar-with-food\", \"greek\", \"bakery\", \"thai\", \"korean\", \"indian\", \"sushi\", \"asian\", \"vegan\", \"latin\"], \"y\": [9.0, 8.0, 3.0, 4.0, 4.0, 7.0, 3.0, 3.0, 3.0, 0.0, 1.0, 1.0, 0.0, 2.0, 3.0, 0.0, 1.0, 1.0, 1.0, 2.0]}, {\"name\": \"greenwich village\", \"type\": \"bar\", \"x\": [\"american\", \"italian\", \"french\", \"mexican\", \"japanese\", \"mediterranean\", \"pizza\", \"new-american\", \"chinese\", \"seafood\", \"wine-bar-with-food\", \"greek\", \"bakery\", \"thai\", \"korean\", \"indian\", \"sushi\", \"asian\", \"vegan\", \"latin\"], \"y\": [4.0, 3.0, 3.0, 2.0, 3.0, 1.0, 1.0, 1.0, 3.0, 3.0, 1.0, 1.0, 1.0, 2.0, 0.0, 2.0, 0.0, 2.0, 2.0, 1.0]}, {\"name\": \"midtown west\", \"type\": \"bar\", \"x\": [\"american\", \"italian\", \"french\", \"mexican\", \"japanese\", \"mediterranean\", \"pizza\", \"new-american\", \"chinese\", \"seafood\", \"wine-bar-with-food\", \"greek\", \"bakery\", \"thai\", \"korean\", \"indian\", \"sushi\", \"asian\", \"vegan\", \"latin\"], \"y\": [6.0, 10.0, 1.0, 1.0, 5.0, 0.0, 1.0, 3.0, 1.0, 1.0, 1.0, 1.0, 0.0, 0.0, 0.0, 0.0, 0.0, 1.0, 3.0, 0.0]}, {\"name\": \"UWS\", \"type\": \"bar\", \"x\": [\"american\", \"italian\", \"french\", \"mexican\", \"japanese\", \"mediterranean\", \"pizza\", \"new-american\", \"chinese\", \"seafood\", \"wine-bar-with-food\", \"greek\", \"bakery\", \"thai\", \"korean\", \"indian\", \"sushi\", \"asian\", \"vegan\", \"latin\"], \"y\": [7.0, 4.0, 2.0, 1.0, 3.0, 0.0, 0.0, 2.0, 0.0, 0.0, 0.0, 1.0, 1.0, 0.0, 2.0, 0.0, 2.0, 0.0, 1.0, 0.0]}, {\"name\": \"UES\", \"type\": \"bar\", \"x\": [\"american\", \"italian\", \"french\", \"mexican\", \"japanese\", \"mediterranean\", \"pizza\", \"new-american\", \"chinese\", \"seafood\", \"wine-bar-with-food\", \"greek\", \"bakery\", \"thai\", \"korean\", \"indian\", \"sushi\", \"asian\", \"vegan\", \"latin\"], \"y\": [8.0, 4.0, 2.0, 1.0, 1.0, 8.0, 0.0, 0.0, 2.0, 2.0, 1.0, 2.0, 2.0, 2.0, 0.0, 1.0, 1.0, 1.0, 0.0, 0.0]}, {\"name\": \"greenpoint\", \"type\": \"bar\", \"x\": [\"american\", \"italian\", \"french\", \"mexican\", \"japanese\", \"mediterranean\", \"pizza\", \"new-american\", \"chinese\", \"seafood\", \"wine-bar-with-food\", \"greek\", \"bakery\", \"thai\", \"korean\", \"indian\", \"sushi\", \"asian\", \"vegan\", \"latin\"], \"y\": [1.0, 7.0, 5.0, 2.0, 0.0, 0.0, 1.0, 0.0, 0.0, 0.0, 2.0, 0.0, 0.0, 1.0, 0.0, 1.0, 5.0, 0.0, 0.0, 0.0]}, {\"name\": \"bushwick\", \"type\": \"bar\", \"x\": [\"american\", \"italian\", \"french\", \"mexican\", \"japanese\", \"mediterranean\", \"pizza\", \"new-american\", \"chinese\", \"seafood\", \"wine-bar-with-food\", \"greek\", \"bakery\", \"thai\", \"korean\", \"indian\", \"sushi\", \"asian\", \"vegan\", \"latin\"], \"y\": [5.0, 4.0, 4.0, 2.0, 0.0, 2.0, 2.0, 1.0, 0.0, 1.0, 0.0, 0.0, 0.0, 0.0, 0.0, 0.0, 0.0, 0.0, 1.0, 0.0]}, {\"name\": \"west village\", \"type\": \"bar\", \"x\": [\"american\", \"italian\", \"french\", \"mexican\", \"japanese\", \"mediterranean\", \"pizza\", \"new-american\", \"chinese\", \"seafood\", \"wine-bar-with-food\", \"greek\", \"bakery\", \"thai\", \"korean\", \"indian\", \"sushi\", \"asian\", \"vegan\", \"latin\"], \"y\": [2.0, 4.0, 1.0, 0.0, 0.0, 0.0, 1.0, 0.0, 1.0, 0.0, 0.0, 0.0, 1.0, 1.0, 0.0, 0.0, 0.0, 0.0, 1.0, 2.0]}, {\"name\": \"soho\", \"type\": \"bar\", \"x\": [\"american\", \"italian\", \"french\", \"mexican\", \"japanese\", \"mediterranean\", \"pizza\", \"new-american\", \"chinese\", \"seafood\", \"wine-bar-with-food\", \"greek\", \"bakery\", \"thai\", \"korean\", \"indian\", \"sushi\", \"asian\", \"vegan\", \"latin\"], \"y\": [11.0, 3.0, 1.0, 1.0, 1.0, 1.0, 1.0, 3.0, 0.0, 1.0, 0.0, 0.0, 1.0, 0.0, 1.0, 0.0, 0.0, 0.0, 0.0, 0.0]}, {\"name\": \"astoria\", \"type\": \"bar\", \"x\": [\"american\", \"italian\", \"french\", \"mexican\", \"japanese\", \"mediterranean\", \"pizza\", \"new-american\", \"chinese\", \"seafood\", \"wine-bar-with-food\", \"greek\", \"bakery\", \"thai\", \"korean\", \"indian\", \"sushi\", \"asian\", \"vegan\", \"latin\"], \"y\": [2.0, 9.0, 5.0, 0.0, 2.0, 1.0, 1.0, 0.0, 0.0, 1.0, 1.0, 1.0, 0.0, 0.0, 1.0, 0.0, 1.0, 0.0, 1.0, 0.0]}, {\"name\": \"flatiron district\", \"type\": \"bar\", \"x\": [\"american\", \"italian\", \"french\", \"mexican\", \"japanese\", \"mediterranean\", \"pizza\", \"new-american\", \"chinese\", \"seafood\", \"wine-bar-with-food\", \"greek\", \"bakery\", \"thai\", \"korean\", \"indian\", \"sushi\", \"asian\", \"vegan\", \"latin\"], \"y\": [2.0, 3.0, 0.0, 1.0, 0.0, 0.0, 0.0, 0.0, 1.0, 2.0, 0.0, 8.0, 0.0, 0.0, 0.0, 0.0, 0.0, 0.0, 0.0, 1.0]}, {\"name\": \"chelsea\", \"type\": \"bar\", \"x\": [\"american\", \"italian\", \"french\", \"mexican\", \"japanese\", \"mediterranean\", \"pizza\", \"new-american\", \"chinese\", \"seafood\", \"wine-bar-with-food\", \"greek\", \"bakery\", \"thai\", \"korean\", \"indian\", \"sushi\", \"asian\", \"vegan\", \"latin\"], \"y\": [3.0, 7.0, 1.0, 1.0, 3.0, 0.0, 1.0, 3.0, 2.0, 0.0, 0.0, 1.0, 0.0, 1.0, 2.0, 2.0, 0.0, 0.0, 0.0, 0.0]}, {\"name\": \"harlem\", \"type\": \"bar\", \"x\": [\"american\", \"italian\", \"french\", \"mexican\", \"japanese\", \"mediterranean\", \"pizza\", \"new-american\", \"chinese\", \"seafood\", \"wine-bar-with-food\", \"greek\", \"bakery\", \"thai\", \"korean\", \"indian\", \"sushi\", \"asian\", \"vegan\", \"latin\"], \"y\": [7.0, 3.0, 0.0, 0.0, 0.0, 0.0, 2.0, 0.0, 0.0, 0.0, 2.0, 2.0, 2.0, 0.0, 0.0, 0.0, 0.0, 0.0, 0.0, 0.0]}, {\"name\": \"park slope\", \"type\": \"bar\", \"x\": [\"american\", \"italian\", \"french\", \"mexican\", \"japanese\", \"mediterranean\", \"pizza\", \"new-american\", \"chinese\", \"seafood\", \"wine-bar-with-food\", \"greek\", \"bakery\", \"thai\", \"korean\", \"indian\", \"sushi\", \"asian\", \"vegan\", \"latin\"], \"y\": [8.0, 2.0, 1.0, 2.0, 0.0, 2.0, 1.0, 0.0, 1.0, 0.0, 1.0, 0.0, 0.0, 0.0, 0.0, 1.0, 0.0, 0.0, 0.0, 1.0]}, {\"name\": \"financial district\", \"type\": \"bar\", \"x\": [\"american\", \"italian\", \"french\", \"mexican\", \"japanese\", \"mediterranean\", \"pizza\", \"new-american\", \"chinese\", \"seafood\", \"wine-bar-with-food\", \"greek\", \"bakery\", \"thai\", \"korean\", \"indian\", \"sushi\", \"asian\", \"vegan\", \"latin\"], \"y\": [5.0, 2.0, 3.0, 2.0, 0.0, 0.0, 2.0, 1.0, 0.0, 0.0, 1.0, 0.0, 1.0, 0.0, 1.0, 0.0, 0.0, 2.0, 0.0, 1.0]}, {\"name\": \"hells kitchen\", \"type\": \"bar\", \"x\": [\"american\", \"italian\", \"french\", \"mexican\", \"japanese\", \"mediterranean\", \"pizza\", \"new-american\", \"chinese\", \"seafood\", \"wine-bar-with-food\", \"greek\", \"bakery\", \"thai\", \"korean\", \"indian\", \"sushi\", \"asian\", \"vegan\", \"latin\"], \"y\": [3.0, 4.0, 1.0, 1.0, 0.0, 0.0, 1.0, 1.0, 2.0, 3.0, 0.0, 0.0, 0.0, 0.0, 0.0, 0.0, 0.0, 0.0, 0.0, 0.0]}, {\"name\": \"chinatown\", \"type\": \"bar\", \"x\": [\"american\", \"italian\", \"french\", \"mexican\", \"japanese\", \"mediterranean\", \"pizza\", \"new-american\", \"chinese\", \"seafood\", \"wine-bar-with-food\", \"greek\", \"bakery\", \"thai\", \"korean\", \"indian\", \"sushi\", \"asian\", \"vegan\", \"latin\"], \"y\": [3.0, 3.0, 1.0, 2.0, 1.0, 1.0, 0.0, 0.0, 0.0, 0.0, 0.0, 1.0, 0.0, 1.0, 1.0, 0.0, 0.0, 0.0, 0.0, 0.0]}, {\"name\": \"midtown east\", \"type\": \"bar\", \"x\": [\"american\", \"italian\", \"french\", \"mexican\", \"japanese\", \"mediterranean\", \"pizza\", \"new-american\", \"chinese\", \"seafood\", \"wine-bar-with-food\", \"greek\", \"bakery\", \"thai\", \"korean\", \"indian\", \"sushi\", \"asian\", \"vegan\", \"latin\"], \"y\": [0.0, 1.0, 0.0, 0.0, 1.0, 0.0, 1.0, 1.0, 3.0, 0.0, 0.0, 0.0, 0.0, 0.0, 0.0, 0.0, 0.0, 0.0, 0.0, 0.0]}],\n",
       "                        {\"barmode\": \"stack\", \"template\": {\"data\": {\"bar\": [{\"error_x\": {\"color\": \"#2a3f5f\"}, \"error_y\": {\"color\": \"#2a3f5f\"}, \"marker\": {\"line\": {\"color\": \"#E5ECF6\", \"width\": 0.5}}, \"type\": \"bar\"}], \"barpolar\": [{\"marker\": {\"line\": {\"color\": \"#E5ECF6\", \"width\": 0.5}}, \"type\": \"barpolar\"}], \"carpet\": [{\"aaxis\": {\"endlinecolor\": \"#2a3f5f\", \"gridcolor\": \"white\", \"linecolor\": \"white\", \"minorgridcolor\": \"white\", \"startlinecolor\": \"#2a3f5f\"}, \"baxis\": {\"endlinecolor\": \"#2a3f5f\", \"gridcolor\": \"white\", \"linecolor\": \"white\", \"minorgridcolor\": \"white\", \"startlinecolor\": \"#2a3f5f\"}, \"type\": \"carpet\"}], \"choropleth\": [{\"colorbar\": {\"outlinewidth\": 0, \"ticks\": \"\"}, \"type\": \"choropleth\"}], \"contour\": [{\"colorbar\": {\"outlinewidth\": 0, \"ticks\": \"\"}, \"colorscale\": [[0.0, \"#0d0887\"], [0.1111111111111111, \"#46039f\"], [0.2222222222222222, \"#7201a8\"], [0.3333333333333333, \"#9c179e\"], [0.4444444444444444, \"#bd3786\"], [0.5555555555555556, \"#d8576b\"], [0.6666666666666666, \"#ed7953\"], [0.7777777777777778, \"#fb9f3a\"], [0.8888888888888888, \"#fdca26\"], [1.0, \"#f0f921\"]], \"type\": \"contour\"}], \"contourcarpet\": [{\"colorbar\": {\"outlinewidth\": 0, \"ticks\": \"\"}, \"type\": \"contourcarpet\"}], \"heatmap\": [{\"colorbar\": {\"outlinewidth\": 0, \"ticks\": \"\"}, \"colorscale\": [[0.0, \"#0d0887\"], [0.1111111111111111, \"#46039f\"], [0.2222222222222222, \"#7201a8\"], [0.3333333333333333, \"#9c179e\"], [0.4444444444444444, \"#bd3786\"], [0.5555555555555556, \"#d8576b\"], [0.6666666666666666, \"#ed7953\"], [0.7777777777777778, \"#fb9f3a\"], [0.8888888888888888, \"#fdca26\"], [1.0, \"#f0f921\"]], \"type\": \"heatmap\"}], \"heatmapgl\": [{\"colorbar\": {\"outlinewidth\": 0, \"ticks\": \"\"}, \"colorscale\": [[0.0, \"#0d0887\"], [0.1111111111111111, \"#46039f\"], [0.2222222222222222, \"#7201a8\"], [0.3333333333333333, \"#9c179e\"], [0.4444444444444444, \"#bd3786\"], [0.5555555555555556, \"#d8576b\"], [0.6666666666666666, \"#ed7953\"], [0.7777777777777778, \"#fb9f3a\"], [0.8888888888888888, \"#fdca26\"], [1.0, \"#f0f921\"]], \"type\": \"heatmapgl\"}], \"histogram\": [{\"marker\": {\"colorbar\": {\"outlinewidth\": 0, \"ticks\": \"\"}}, \"type\": \"histogram\"}], \"histogram2d\": [{\"colorbar\": {\"outlinewidth\": 0, \"ticks\": \"\"}, \"colorscale\": [[0.0, \"#0d0887\"], [0.1111111111111111, \"#46039f\"], [0.2222222222222222, \"#7201a8\"], [0.3333333333333333, \"#9c179e\"], [0.4444444444444444, \"#bd3786\"], [0.5555555555555556, \"#d8576b\"], [0.6666666666666666, \"#ed7953\"], [0.7777777777777778, \"#fb9f3a\"], [0.8888888888888888, \"#fdca26\"], [1.0, \"#f0f921\"]], \"type\": \"histogram2d\"}], \"histogram2dcontour\": [{\"colorbar\": {\"outlinewidth\": 0, \"ticks\": \"\"}, \"colorscale\": [[0.0, \"#0d0887\"], [0.1111111111111111, \"#46039f\"], [0.2222222222222222, \"#7201a8\"], [0.3333333333333333, \"#9c179e\"], [0.4444444444444444, \"#bd3786\"], [0.5555555555555556, \"#d8576b\"], [0.6666666666666666, \"#ed7953\"], [0.7777777777777778, \"#fb9f3a\"], [0.8888888888888888, \"#fdca26\"], [1.0, \"#f0f921\"]], \"type\": \"histogram2dcontour\"}], \"mesh3d\": [{\"colorbar\": {\"outlinewidth\": 0, \"ticks\": \"\"}, \"type\": \"mesh3d\"}], \"parcoords\": [{\"line\": {\"colorbar\": {\"outlinewidth\": 0, \"ticks\": \"\"}}, \"type\": \"parcoords\"}], \"pie\": [{\"automargin\": true, \"type\": \"pie\"}], \"scatter\": [{\"marker\": {\"colorbar\": {\"outlinewidth\": 0, \"ticks\": \"\"}}, \"type\": \"scatter\"}], \"scatter3d\": [{\"line\": {\"colorbar\": {\"outlinewidth\": 0, \"ticks\": \"\"}}, \"marker\": {\"colorbar\": {\"outlinewidth\": 0, \"ticks\": \"\"}}, \"type\": \"scatter3d\"}], \"scattercarpet\": [{\"marker\": {\"colorbar\": {\"outlinewidth\": 0, \"ticks\": \"\"}}, \"type\": \"scattercarpet\"}], \"scattergeo\": [{\"marker\": {\"colorbar\": {\"outlinewidth\": 0, \"ticks\": \"\"}}, \"type\": \"scattergeo\"}], \"scattergl\": [{\"marker\": {\"colorbar\": {\"outlinewidth\": 0, \"ticks\": \"\"}}, \"type\": \"scattergl\"}], \"scattermapbox\": [{\"marker\": {\"colorbar\": {\"outlinewidth\": 0, \"ticks\": \"\"}}, \"type\": \"scattermapbox\"}], \"scatterpolar\": [{\"marker\": {\"colorbar\": {\"outlinewidth\": 0, \"ticks\": \"\"}}, \"type\": \"scatterpolar\"}], \"scatterpolargl\": [{\"marker\": {\"colorbar\": {\"outlinewidth\": 0, \"ticks\": \"\"}}, \"type\": \"scatterpolargl\"}], \"scatterternary\": [{\"marker\": {\"colorbar\": {\"outlinewidth\": 0, \"ticks\": \"\"}}, \"type\": \"scatterternary\"}], \"surface\": [{\"colorbar\": {\"outlinewidth\": 0, \"ticks\": \"\"}, \"colorscale\": [[0.0, \"#0d0887\"], [0.1111111111111111, \"#46039f\"], [0.2222222222222222, \"#7201a8\"], [0.3333333333333333, \"#9c179e\"], [0.4444444444444444, \"#bd3786\"], [0.5555555555555556, \"#d8576b\"], [0.6666666666666666, \"#ed7953\"], [0.7777777777777778, \"#fb9f3a\"], [0.8888888888888888, \"#fdca26\"], [1.0, \"#f0f921\"]], \"type\": \"surface\"}], \"table\": [{\"cells\": {\"fill\": {\"color\": \"#EBF0F8\"}, \"line\": {\"color\": \"white\"}}, \"header\": {\"fill\": {\"color\": \"#C8D4E3\"}, \"line\": {\"color\": \"white\"}}, \"type\": \"table\"}]}, \"layout\": {\"annotationdefaults\": {\"arrowcolor\": \"#2a3f5f\", \"arrowhead\": 0, \"arrowwidth\": 1}, \"coloraxis\": {\"colorbar\": {\"outlinewidth\": 0, \"ticks\": \"\"}}, \"colorscale\": {\"diverging\": [[0, \"#8e0152\"], [0.1, \"#c51b7d\"], [0.2, \"#de77ae\"], [0.3, \"#f1b6da\"], [0.4, \"#fde0ef\"], [0.5, \"#f7f7f7\"], [0.6, \"#e6f5d0\"], [0.7, \"#b8e186\"], [0.8, \"#7fbc41\"], [0.9, \"#4d9221\"], [1, \"#276419\"]], \"sequential\": [[0.0, \"#0d0887\"], [0.1111111111111111, \"#46039f\"], [0.2222222222222222, \"#7201a8\"], [0.3333333333333333, \"#9c179e\"], [0.4444444444444444, \"#bd3786\"], [0.5555555555555556, \"#d8576b\"], [0.6666666666666666, \"#ed7953\"], [0.7777777777777778, \"#fb9f3a\"], [0.8888888888888888, \"#fdca26\"], [1.0, \"#f0f921\"]], \"sequentialminus\": [[0.0, \"#0d0887\"], [0.1111111111111111, \"#46039f\"], [0.2222222222222222, \"#7201a8\"], [0.3333333333333333, \"#9c179e\"], [0.4444444444444444, \"#bd3786\"], [0.5555555555555556, \"#d8576b\"], [0.6666666666666666, \"#ed7953\"], [0.7777777777777778, \"#fb9f3a\"], [0.8888888888888888, \"#fdca26\"], [1.0, \"#f0f921\"]]}, \"colorway\": [\"#636efa\", \"#EF553B\", \"#00cc96\", \"#ab63fa\", \"#FFA15A\", \"#19d3f3\", \"#FF6692\", \"#B6E880\", \"#FF97FF\", \"#FECB52\"], \"font\": {\"color\": \"#2a3f5f\"}, \"geo\": {\"bgcolor\": \"white\", \"lakecolor\": \"white\", \"landcolor\": \"#E5ECF6\", \"showlakes\": true, \"showland\": true, \"subunitcolor\": \"white\"}, \"hoverlabel\": {\"align\": \"left\"}, \"hovermode\": \"closest\", \"mapbox\": {\"style\": \"light\"}, \"paper_bgcolor\": \"white\", \"plot_bgcolor\": \"#E5ECF6\", \"polar\": {\"angularaxis\": {\"gridcolor\": \"white\", \"linecolor\": \"white\", \"ticks\": \"\"}, \"bgcolor\": \"#E5ECF6\", \"radialaxis\": {\"gridcolor\": \"white\", \"linecolor\": \"white\", \"ticks\": \"\"}}, \"scene\": {\"xaxis\": {\"backgroundcolor\": \"#E5ECF6\", \"gridcolor\": \"white\", \"gridwidth\": 2, \"linecolor\": \"white\", \"showbackground\": true, \"ticks\": \"\", \"zerolinecolor\": \"white\"}, \"yaxis\": {\"backgroundcolor\": \"#E5ECF6\", \"gridcolor\": \"white\", \"gridwidth\": 2, \"linecolor\": \"white\", \"showbackground\": true, \"ticks\": \"\", \"zerolinecolor\": \"white\"}, \"zaxis\": {\"backgroundcolor\": \"#E5ECF6\", \"gridcolor\": \"white\", \"gridwidth\": 2, \"linecolor\": \"white\", \"showbackground\": true, \"ticks\": \"\", \"zerolinecolor\": \"white\"}}, \"shapedefaults\": {\"line\": {\"color\": \"#2a3f5f\"}}, \"ternary\": {\"aaxis\": {\"gridcolor\": \"white\", \"linecolor\": \"white\", \"ticks\": \"\"}, \"baxis\": {\"gridcolor\": \"white\", \"linecolor\": \"white\", \"ticks\": \"\"}, \"bgcolor\": \"#E5ECF6\", \"caxis\": {\"gridcolor\": \"white\", \"linecolor\": \"white\", \"ticks\": \"\"}}, \"title\": {\"x\": 0.05}, \"xaxis\": {\"automargin\": true, \"gridcolor\": \"white\", \"linecolor\": \"white\", \"ticks\": \"\", \"title\": {\"standoff\": 15}, \"zerolinecolor\": \"white\", \"zerolinewidth\": 2}, \"yaxis\": {\"automargin\": true, \"gridcolor\": \"white\", \"linecolor\": \"white\", \"ticks\": \"\", \"title\": {\"standoff\": 15}, \"zerolinecolor\": \"white\", \"zerolinewidth\": 2}}}, \"title\": {\"text\": \"Cuisines by Neighborhood\"}, \"xaxis\": {\"categoryorder\": \"category ascending\"}},\n",
       "                        {\"responsive\": true}\n",
       "                    ).then(function(){\n",
       "                            \n",
       "var gd = document.getElementById('5333e4e1-da5d-47db-b180-d2e4d33351c5');\n",
       "var x = new MutationObserver(function (mutations, observer) {{\n",
       "        var display = window.getComputedStyle(gd).display;\n",
       "        if (!display || display === 'none') {{\n",
       "            console.log([gd, 'removed!']);\n",
       "            Plotly.purge(gd);\n",
       "            observer.disconnect();\n",
       "        }}\n",
       "}});\n",
       "\n",
       "// Listen for the removal of the full notebook cells\n",
       "var notebookContainer = gd.closest('#notebook-container');\n",
       "if (notebookContainer) {{\n",
       "    x.observe(notebookContainer, {childList: true});\n",
       "}}\n",
       "\n",
       "// Listen for the clearing of the current output cell\n",
       "var outputEl = gd.closest('.output');\n",
       "if (outputEl) {{\n",
       "    x.observe(outputEl, {childList: true});\n",
       "}}\n",
       "\n",
       "                        })\n",
       "                };\n",
       "                });\n",
       "            </script>\n",
       "        </div>"
      ]
     },
     "metadata": {},
     "output_type": "display_data"
    }
   ],
   "source": [
    "import plotly.graph_objects as go\n",
    "\n",
    "x=tops['cuisine_1']\n",
    "fig = go.Figure(go.Bar(x=x, y=tops.iloc[:,1], name='east village'))\n",
    "fig.add_trace(go.Bar(x=x, y=tops.iloc[:,2], name='williamsburg'))\n",
    "fig.add_trace(go.Bar(x=x, y=tops.iloc[:,3], name='LES'))\n",
    "fig.add_trace(go.Bar(x=x, y=tops.iloc[:,4], name='greenwich village'))\n",
    "fig.add_trace(go.Bar(x=x, y=tops.iloc[:,5], name='midtown west'))\n",
    "fig.add_trace(go.Bar(x=x, y=tops.iloc[:,6], name='UWS'))\n",
    "fig.add_trace(go.Bar(x=x, y=tops.iloc[:,7], name='UES'))\n",
    "fig.add_trace(go.Bar(x=x, y=tops.iloc[:,8], name='greenpoint'))\n",
    "fig.add_trace(go.Bar(x=x, y=tops.iloc[:,9], name='bushwick'))\n",
    "fig.add_trace(go.Bar(x=x, y=tops.iloc[:,10], name='west village'))\n",
    "fig.add_trace(go.Bar(x=x, y=tops.iloc[:,11], name='soho'))\n",
    "fig.add_trace(go.Bar(x=x, y=tops.iloc[:,12], name='astoria'))\n",
    "fig.add_trace(go.Bar(x=x, y=tops.iloc[:,13], name='flatiron district'))\n",
    "fig.add_trace(go.Bar(x=x, y=tops.iloc[:,14], name='chelsea'))\n",
    "fig.add_trace(go.Bar(x=x, y=tops.iloc[:,15], name='harlem'))\n",
    "fig.add_trace(go.Bar(x=x, y=tops.iloc[:,16], name='park slope'))\n",
    "fig.add_trace(go.Bar(x=x, y=tops.iloc[:,17], name='financial district'))\n",
    "fig.add_trace(go.Bar(x=x, y=tops.iloc[:,18], name='hells kitchen'))\n",
    "fig.add_trace(go.Bar(x=x, y=tops.iloc[:,19], name='chinatown'))\n",
    "fig.add_trace(go.Bar(x=x, y=tops.iloc[:,20], name='midtown east'))\n",
    "\n",
    "\n",
    "fig.update_layout(title=\"Cuisines by Neighborhood\")\n",
    "\n",
    "fig.update_layout(barmode='stack', xaxis={'categoryorder':'category ascending'})\n",
    "fig.show()"
   ]
  },
  {
   "cell_type": "code",
   "execution_count": null,
   "metadata": {},
   "outputs": [],
   "source": []
  },
  {
   "cell_type": "code",
   "execution_count": null,
   "metadata": {},
   "outputs": [],
   "source": []
  }
 ],
 "metadata": {
  "kernelspec": {
   "display_name": "Python 3",
   "language": "python",
   "name": "python3"
  },
  "language_info": {
   "codemirror_mode": {
    "name": "ipython",
    "version": 3
   },
   "file_extension": ".py",
   "mimetype": "text/x-python",
   "name": "python",
   "nbconvert_exporter": "python",
   "pygments_lexer": "ipython3",
   "version": "3.7.4"
  }
 },
 "nbformat": 4,
 "nbformat_minor": 2
}
